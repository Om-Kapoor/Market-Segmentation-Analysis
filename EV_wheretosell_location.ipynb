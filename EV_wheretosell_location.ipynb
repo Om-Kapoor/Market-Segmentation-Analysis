{
 "cells": [
  {
   "cell_type": "code",
   "execution_count": 1,
   "id": "62461f88",
   "metadata": {},
   "outputs": [],
   "source": [
    "import pandas as pd\n",
    "import numpy as np\n",
    "import seaborn as sns\n",
    "import matplotlib.pyplot as plt\n",
    "%matplotlib inline"
   ]
  },
  {
   "cell_type": "markdown",
   "id": "05a3ca6b",
   "metadata": {},
   "source": [
    "# Geography"
   ]
  },
  {
   "cell_type": "code",
   "execution_count": 2,
   "id": "74727fde",
   "metadata": {
    "scrolled": true
   },
   "outputs": [],
   "source": [
    "df1 = pd.read_csv('Charging all states.csv')"
   ]
  },
  {
   "cell_type": "code",
   "execution_count": 3,
   "id": "0dc5a39f",
   "metadata": {
    "scrolled": true
   },
   "outputs": [
    {
     "data": {
      "text/html": [
       "<div>\n",
       "<style scoped>\n",
       "    .dataframe tbody tr th:only-of-type {\n",
       "        vertical-align: middle;\n",
       "    }\n",
       "\n",
       "    .dataframe tbody tr th {\n",
       "        vertical-align: top;\n",
       "    }\n",
       "\n",
       "    .dataframe thead th {\n",
       "        text-align: right;\n",
       "    }\n",
       "</style>\n",
       "<table border=\"1\" class=\"dataframe\">\n",
       "  <thead>\n",
       "    <tr style=\"text-align: right;\">\n",
       "      <th></th>\n",
       "      <th>State/UT</th>\n",
       "      <th>No of RO's where EV Charging Facility available</th>\n",
       "    </tr>\n",
       "  </thead>\n",
       "  <tbody>\n",
       "    <tr>\n",
       "      <th>0</th>\n",
       "      <td>Andhra Pradesh</td>\n",
       "      <td>65</td>\n",
       "    </tr>\n",
       "    <tr>\n",
       "      <th>1</th>\n",
       "      <td>Arunachal Pradesh</td>\n",
       "      <td>4</td>\n",
       "    </tr>\n",
       "    <tr>\n",
       "      <th>2</th>\n",
       "      <td>Assam</td>\n",
       "      <td>19</td>\n",
       "    </tr>\n",
       "    <tr>\n",
       "      <th>3</th>\n",
       "      <td>Bihar</td>\n",
       "      <td>26</td>\n",
       "    </tr>\n",
       "    <tr>\n",
       "      <th>4</th>\n",
       "      <td>Chandigarh</td>\n",
       "      <td>4</td>\n",
       "    </tr>\n",
       "  </tbody>\n",
       "</table>\n",
       "</div>"
      ],
      "text/plain": [
       "            State/UT  No of RO's where EV Charging Facility available\n",
       "0     Andhra Pradesh                                               65\n",
       "1  Arunachal Pradesh                                                4\n",
       "2              Assam                                               19\n",
       "3              Bihar                                               26\n",
       "4         Chandigarh                                                4"
      ]
     },
     "execution_count": 3,
     "metadata": {},
     "output_type": "execute_result"
    }
   ],
   "source": [
    "df1.head()"
   ]
  },
  {
   "cell_type": "code",
   "execution_count": 4,
   "id": "c0b3ea68",
   "metadata": {
    "scrolled": true
   },
   "outputs": [
    {
     "name": "stdout",
     "output_type": "stream",
     "text": [
      "<class 'pandas.core.frame.DataFrame'>\n",
      "RangeIndex: 32 entries, 0 to 31\n",
      "Data columns (total 2 columns):\n",
      " #   Column                                           Non-Null Count  Dtype \n",
      "---  ------                                           --------------  ----- \n",
      " 0   State/UT                                         32 non-null     object\n",
      " 1   No of RO's where EV Charging Facility available  32 non-null     int64 \n",
      "dtypes: int64(1), object(1)\n",
      "memory usage: 640.0+ bytes\n"
     ]
    }
   ],
   "source": [
    "df1.info()"
   ]
  },
  {
   "cell_type": "code",
   "execution_count": 5,
   "id": "3b60a844",
   "metadata": {},
   "outputs": [],
   "source": [
    "df2 = pd.read_csv('Total vs EV all states.csv')"
   ]
  },
  {
   "cell_type": "code",
   "execution_count": 6,
   "id": "67d366d5",
   "metadata": {},
   "outputs": [
    {
     "name": "stdout",
     "output_type": "stream",
     "text": [
      "<class 'pandas.core.frame.DataFrame'>\n",
      "RangeIndex: 33 entries, 0 to 32\n",
      "Data columns (total 4 columns):\n",
      " #   Column                                                     Non-Null Count  Dtype \n",
      "---  ------                                                     --------------  ----- \n",
      " 0   Sl. No.                                                    33 non-null     object\n",
      " 1   State/UT                                                   33 non-null     object\n",
      " 2   Total Number of active Vehicle as on 08.12.2021            33 non-null     int64 \n",
      " 3   Total number of active Electric Vehicles as on 08.12.2021  33 non-null     int64 \n",
      "dtypes: int64(2), object(2)\n",
      "memory usage: 1.2+ KB\n"
     ]
    }
   ],
   "source": [
    "df2.info()"
   ]
  },
  {
   "cell_type": "code",
   "execution_count": 7,
   "id": "1034697e",
   "metadata": {},
   "outputs": [
    {
     "data": {
      "text/html": [
       "<div>\n",
       "<style scoped>\n",
       "    .dataframe tbody tr th:only-of-type {\n",
       "        vertical-align: middle;\n",
       "    }\n",
       "\n",
       "    .dataframe tbody tr th {\n",
       "        vertical-align: top;\n",
       "    }\n",
       "\n",
       "    .dataframe thead th {\n",
       "        text-align: right;\n",
       "    }\n",
       "</style>\n",
       "<table border=\"1\" class=\"dataframe\">\n",
       "  <thead>\n",
       "    <tr style=\"text-align: right;\">\n",
       "      <th></th>\n",
       "      <th>Sl. No.</th>\n",
       "      <th>State/UT</th>\n",
       "      <th>Total Number of active Vehicle as on 08.12.2021</th>\n",
       "      <th>Total number of active Electric Vehicles as on 08.12.2021</th>\n",
       "    </tr>\n",
       "  </thead>\n",
       "  <tbody>\n",
       "    <tr>\n",
       "      <th>0</th>\n",
       "      <td>1</td>\n",
       "      <td>Andaman and Nicobar Island</td>\n",
       "      <td>143529</td>\n",
       "      <td>157</td>\n",
       "    </tr>\n",
       "    <tr>\n",
       "      <th>1</th>\n",
       "      <td>2</td>\n",
       "      <td>Arunachal Pradesh</td>\n",
       "      <td>235189</td>\n",
       "      <td>20</td>\n",
       "    </tr>\n",
       "    <tr>\n",
       "      <th>2</th>\n",
       "      <td>3</td>\n",
       "      <td>Assam</td>\n",
       "      <td>4445227</td>\n",
       "      <td>43707</td>\n",
       "    </tr>\n",
       "    <tr>\n",
       "      <th>3</th>\n",
       "      <td>4</td>\n",
       "      <td>Bihar</td>\n",
       "      <td>9816784</td>\n",
       "      <td>58655</td>\n",
       "    </tr>\n",
       "    <tr>\n",
       "      <th>4</th>\n",
       "      <td>5</td>\n",
       "      <td>Chandigarh</td>\n",
       "      <td>720272</td>\n",
       "      <td>1791</td>\n",
       "    </tr>\n",
       "  </tbody>\n",
       "</table>\n",
       "</div>"
      ],
      "text/plain": [
       "  Sl. No.                    State/UT  \\\n",
       "0       1  Andaman and Nicobar Island   \n",
       "1       2           Arunachal Pradesh   \n",
       "2       3                       Assam   \n",
       "3       4                       Bihar   \n",
       "4       5                  Chandigarh   \n",
       "\n",
       "   Total Number of active Vehicle as on 08.12.2021  \\\n",
       "0                                           143529   \n",
       "1                                           235189   \n",
       "2                                          4445227   \n",
       "3                                          9816784   \n",
       "4                                           720272   \n",
       "\n",
       "   Total number of active Electric Vehicles as on 08.12.2021  \n",
       "0                                                157          \n",
       "1                                                 20          \n",
       "2                                              43707          \n",
       "3                                              58655          \n",
       "4                                               1791          "
      ]
     },
     "execution_count": 7,
     "metadata": {},
     "output_type": "execute_result"
    }
   ],
   "source": [
    "df2.head()"
   ]
  },
  {
   "cell_type": "code",
   "execution_count": 8,
   "id": "62202af9",
   "metadata": {},
   "outputs": [],
   "source": [
    "df3 = pd.read_csv(\"EV sales all states.csv\")"
   ]
  },
  {
   "cell_type": "code",
   "execution_count": 9,
   "id": "2e6cca1e",
   "metadata": {},
   "outputs": [
    {
     "name": "stdout",
     "output_type": "stream",
     "text": [
      "<class 'pandas.core.frame.DataFrame'>\n",
      "RangeIndex: 30 entries, 0 to 29\n",
      "Data columns (total 10 columns):\n",
      " #   Column                                                              Non-Null Count  Dtype \n",
      "---  ------                                                              --------------  ----- \n",
      " 0   Sl. No                                                              30 non-null     int64 \n",
      " 1   State                                                               30 non-null     object\n",
      " 2   Two Wheelers (Category L1 & L2 as per Central Motor Vehicles Rules  30 non-null     int64 \n",
      " 3   Two Wheelers (Category L2 (CMVR))                                   30 non-null     int64 \n",
      " 4   Two Wheelers (Max power not exceeding 250 Watts)                    30 non-null     int64 \n",
      " 5   Three Wheelers (Category L5 slow speed as per CMVR)                 30 non-null     int64 \n",
      " 6   Three Wheelers (Category L5 as per CMVR)                            30 non-null     int64 \n",
      " 7   Passenger Cars (Category M1 as per CMVR)                            30 non-null     int64 \n",
      " 8   Buses                                                               30 non-null     int64 \n",
      " 9   Total in state                                                      30 non-null     int64 \n",
      "dtypes: int64(9), object(1)\n",
      "memory usage: 2.5+ KB\n"
     ]
    }
   ],
   "source": [
    "df3.info()"
   ]
  },
  {
   "cell_type": "code",
   "execution_count": 10,
   "id": "5a654027",
   "metadata": {},
   "outputs": [
    {
     "data": {
      "text/html": [
       "<div>\n",
       "<style scoped>\n",
       "    .dataframe tbody tr th:only-of-type {\n",
       "        vertical-align: middle;\n",
       "    }\n",
       "\n",
       "    .dataframe tbody tr th {\n",
       "        vertical-align: top;\n",
       "    }\n",
       "\n",
       "    .dataframe thead th {\n",
       "        text-align: right;\n",
       "    }\n",
       "</style>\n",
       "<table border=\"1\" class=\"dataframe\">\n",
       "  <thead>\n",
       "    <tr style=\"text-align: right;\">\n",
       "      <th></th>\n",
       "      <th>Sl. No</th>\n",
       "      <th>State</th>\n",
       "      <th>Two Wheelers (Category L1 &amp; L2 as per Central Motor Vehicles Rules</th>\n",
       "      <th>Two Wheelers (Category L2 (CMVR))</th>\n",
       "      <th>Two Wheelers (Max power not exceeding 250 Watts)</th>\n",
       "      <th>Three Wheelers (Category L5 slow speed as per CMVR)</th>\n",
       "      <th>Three Wheelers (Category L5 as per CMVR)</th>\n",
       "      <th>Passenger Cars (Category M1 as per CMVR)</th>\n",
       "      <th>Buses</th>\n",
       "      <th>Total in state</th>\n",
       "    </tr>\n",
       "  </thead>\n",
       "  <tbody>\n",
       "    <tr>\n",
       "      <th>0</th>\n",
       "      <td>1</td>\n",
       "      <td>Meghalaya</td>\n",
       "      <td>0</td>\n",
       "      <td>0</td>\n",
       "      <td>0</td>\n",
       "      <td>0</td>\n",
       "      <td>0</td>\n",
       "      <td>6</td>\n",
       "      <td>0</td>\n",
       "      <td>6</td>\n",
       "    </tr>\n",
       "    <tr>\n",
       "      <th>1</th>\n",
       "      <td>2</td>\n",
       "      <td>Nagaland</td>\n",
       "      <td>0</td>\n",
       "      <td>20</td>\n",
       "      <td>3</td>\n",
       "      <td>0</td>\n",
       "      <td>0</td>\n",
       "      <td>1</td>\n",
       "      <td>0</td>\n",
       "      <td>24</td>\n",
       "    </tr>\n",
       "    <tr>\n",
       "      <th>2</th>\n",
       "      <td>3</td>\n",
       "      <td>Manipur</td>\n",
       "      <td>16</td>\n",
       "      <td>8</td>\n",
       "      <td>11</td>\n",
       "      <td>0</td>\n",
       "      <td>5</td>\n",
       "      <td>12</td>\n",
       "      <td>0</td>\n",
       "      <td>52</td>\n",
       "    </tr>\n",
       "    <tr>\n",
       "      <th>3</th>\n",
       "      <td>4</td>\n",
       "      <td>Tripura</td>\n",
       "      <td>28</td>\n",
       "      <td>9</td>\n",
       "      <td>36</td>\n",
       "      <td>0</td>\n",
       "      <td>0</td>\n",
       "      <td>8</td>\n",
       "      <td>0</td>\n",
       "      <td>81</td>\n",
       "    </tr>\n",
       "    <tr>\n",
       "      <th>4</th>\n",
       "      <td>5</td>\n",
       "      <td>Andaman &amp; Nicobar islands</td>\n",
       "      <td>0</td>\n",
       "      <td>0</td>\n",
       "      <td>0</td>\n",
       "      <td>0</td>\n",
       "      <td>0</td>\n",
       "      <td>82</td>\n",
       "      <td>0</td>\n",
       "      <td>82</td>\n",
       "    </tr>\n",
       "  </tbody>\n",
       "</table>\n",
       "</div>"
      ],
      "text/plain": [
       "   Sl. No                      State  \\\n",
       "0       1                  Meghalaya   \n",
       "1       2                   Nagaland   \n",
       "2       3                    Manipur   \n",
       "3       4                    Tripura   \n",
       "4       5  Andaman & Nicobar islands   \n",
       "\n",
       "   Two Wheelers (Category L1 & L2 as per Central Motor Vehicles Rules  \\\n",
       "0                                                  0                    \n",
       "1                                                  0                    \n",
       "2                                                 16                    \n",
       "3                                                 28                    \n",
       "4                                                  0                    \n",
       "\n",
       "   Two Wheelers (Category L2 (CMVR))  \\\n",
       "0                                  0   \n",
       "1                                 20   \n",
       "2                                  8   \n",
       "3                                  9   \n",
       "4                                  0   \n",
       "\n",
       "   Two Wheelers (Max power not exceeding 250 Watts)  \\\n",
       "0                                                 0   \n",
       "1                                                 3   \n",
       "2                                                11   \n",
       "3                                                36   \n",
       "4                                                 0   \n",
       "\n",
       "   Three Wheelers (Category L5 slow speed as per CMVR)  \\\n",
       "0                                                  0     \n",
       "1                                                  0     \n",
       "2                                                  0     \n",
       "3                                                  0     \n",
       "4                                                  0     \n",
       "\n",
       "   Three Wheelers (Category L5 as per CMVR)  \\\n",
       "0                                         0   \n",
       "1                                         0   \n",
       "2                                         5   \n",
       "3                                         0   \n",
       "4                                         0   \n",
       "\n",
       "   Passenger Cars (Category M1 as per CMVR)  Buses  Total in state  \n",
       "0                                         6      0               6  \n",
       "1                                         1      0              24  \n",
       "2                                        12      0              52  \n",
       "3                                         8      0              81  \n",
       "4                                        82      0              82  "
      ]
     },
     "execution_count": 10,
     "metadata": {},
     "output_type": "execute_result"
    }
   ],
   "source": [
    "df3.head()"
   ]
  },
  {
   "cell_type": "code",
   "execution_count": 11,
   "id": "032f196a",
   "metadata": {},
   "outputs": [],
   "source": [
    "df1.rename(columns = {'State/UT':'State'}, inplace = True)"
   ]
  },
  {
   "cell_type": "code",
   "execution_count": 12,
   "id": "5c6acaf0",
   "metadata": {},
   "outputs": [],
   "source": [
    "df2.rename(columns = {'State/UT':'State'}, inplace = True)"
   ]
  },
  {
   "cell_type": "code",
   "execution_count": 13,
   "id": "ecb1b84c",
   "metadata": {},
   "outputs": [],
   "source": [
    "df4 = pd.merge(df2, df1, \n",
    "               on='State', \n",
    "               how='left')"
   ]
  },
  {
   "cell_type": "code",
   "execution_count": 14,
   "id": "d339598a",
   "metadata": {},
   "outputs": [],
   "source": [
    "df4 = df4.drop('Sl. No.', axis=1)"
   ]
  },
  {
   "cell_type": "code",
   "execution_count": 15,
   "id": "78970f9f",
   "metadata": {},
   "outputs": [],
   "source": [
    "df5 = pd.merge(df4, df3, \n",
    "               on='State', \n",
    "               how='left')"
   ]
  },
  {
   "cell_type": "code",
   "execution_count": 16,
   "id": "3f6f5467",
   "metadata": {},
   "outputs": [
    {
     "data": {
      "text/html": [
       "<div>\n",
       "<style scoped>\n",
       "    .dataframe tbody tr th:only-of-type {\n",
       "        vertical-align: middle;\n",
       "    }\n",
       "\n",
       "    .dataframe tbody tr th {\n",
       "        vertical-align: top;\n",
       "    }\n",
       "\n",
       "    .dataframe thead th {\n",
       "        text-align: right;\n",
       "    }\n",
       "</style>\n",
       "<table border=\"1\" class=\"dataframe\">\n",
       "  <thead>\n",
       "    <tr style=\"text-align: right;\">\n",
       "      <th></th>\n",
       "      <th>State</th>\n",
       "      <th>Total Number of active Vehicle as on 08.12.2021</th>\n",
       "      <th>Total number of active Electric Vehicles as on 08.12.2021</th>\n",
       "      <th>No of RO's where EV Charging Facility available</th>\n",
       "      <th>Sl. No</th>\n",
       "      <th>Two Wheelers (Category L1 &amp; L2 as per Central Motor Vehicles Rules</th>\n",
       "      <th>Two Wheelers (Category L2 (CMVR))</th>\n",
       "      <th>Two Wheelers (Max power not exceeding 250 Watts)</th>\n",
       "      <th>Three Wheelers (Category L5 slow speed as per CMVR)</th>\n",
       "      <th>Three Wheelers (Category L5 as per CMVR)</th>\n",
       "      <th>Passenger Cars (Category M1 as per CMVR)</th>\n",
       "      <th>Buses</th>\n",
       "      <th>Total in state</th>\n",
       "    </tr>\n",
       "  </thead>\n",
       "  <tbody>\n",
       "    <tr>\n",
       "      <th>0</th>\n",
       "      <td>Andaman and Nicobar Island</td>\n",
       "      <td>143529</td>\n",
       "      <td>157</td>\n",
       "      <td>NaN</td>\n",
       "      <td>NaN</td>\n",
       "      <td>NaN</td>\n",
       "      <td>NaN</td>\n",
       "      <td>NaN</td>\n",
       "      <td>NaN</td>\n",
       "      <td>NaN</td>\n",
       "      <td>NaN</td>\n",
       "      <td>NaN</td>\n",
       "      <td>NaN</td>\n",
       "    </tr>\n",
       "    <tr>\n",
       "      <th>1</th>\n",
       "      <td>Arunachal Pradesh</td>\n",
       "      <td>235189</td>\n",
       "      <td>20</td>\n",
       "      <td>4.0</td>\n",
       "      <td>NaN</td>\n",
       "      <td>NaN</td>\n",
       "      <td>NaN</td>\n",
       "      <td>NaN</td>\n",
       "      <td>NaN</td>\n",
       "      <td>NaN</td>\n",
       "      <td>NaN</td>\n",
       "      <td>NaN</td>\n",
       "      <td>NaN</td>\n",
       "    </tr>\n",
       "    <tr>\n",
       "      <th>2</th>\n",
       "      <td>Assam</td>\n",
       "      <td>4445227</td>\n",
       "      <td>43707</td>\n",
       "      <td>19.0</td>\n",
       "      <td>11.0</td>\n",
       "      <td>463.0</td>\n",
       "      <td>138.0</td>\n",
       "      <td>1006.0</td>\n",
       "      <td>0.0</td>\n",
       "      <td>117.0</td>\n",
       "      <td>151.0</td>\n",
       "      <td>0.0</td>\n",
       "      <td>1875.0</td>\n",
       "    </tr>\n",
       "    <tr>\n",
       "      <th>3</th>\n",
       "      <td>Bihar</td>\n",
       "      <td>9816784</td>\n",
       "      <td>58655</td>\n",
       "      <td>26.0</td>\n",
       "      <td>13.0</td>\n",
       "      <td>252.0</td>\n",
       "      <td>430.0</td>\n",
       "      <td>2148.0</td>\n",
       "      <td>6.0</td>\n",
       "      <td>64.0</td>\n",
       "      <td>271.0</td>\n",
       "      <td>0.0</td>\n",
       "      <td>3171.0</td>\n",
       "    </tr>\n",
       "    <tr>\n",
       "      <th>4</th>\n",
       "      <td>Chandigarh</td>\n",
       "      <td>720272</td>\n",
       "      <td>1791</td>\n",
       "      <td>4.0</td>\n",
       "      <td>12.0</td>\n",
       "      <td>612.0</td>\n",
       "      <td>18.0</td>\n",
       "      <td>896.0</td>\n",
       "      <td>0.0</td>\n",
       "      <td>0.0</td>\n",
       "      <td>974.0</td>\n",
       "      <td>0.0</td>\n",
       "      <td>2500.0</td>\n",
       "    </tr>\n",
       "  </tbody>\n",
       "</table>\n",
       "</div>"
      ],
      "text/plain": [
       "                        State  \\\n",
       "0  Andaman and Nicobar Island   \n",
       "1           Arunachal Pradesh   \n",
       "2                       Assam   \n",
       "3                       Bihar   \n",
       "4                  Chandigarh   \n",
       "\n",
       "   Total Number of active Vehicle as on 08.12.2021  \\\n",
       "0                                           143529   \n",
       "1                                           235189   \n",
       "2                                          4445227   \n",
       "3                                          9816784   \n",
       "4                                           720272   \n",
       "\n",
       "   Total number of active Electric Vehicles as on 08.12.2021  \\\n",
       "0                                                157           \n",
       "1                                                 20           \n",
       "2                                              43707           \n",
       "3                                              58655           \n",
       "4                                               1791           \n",
       "\n",
       "   No of RO's where EV Charging Facility available  Sl. No  \\\n",
       "0                                              NaN     NaN   \n",
       "1                                              4.0     NaN   \n",
       "2                                             19.0    11.0   \n",
       "3                                             26.0    13.0   \n",
       "4                                              4.0    12.0   \n",
       "\n",
       "   Two Wheelers (Category L1 & L2 as per Central Motor Vehicles Rules  \\\n",
       "0                                                NaN                    \n",
       "1                                                NaN                    \n",
       "2                                              463.0                    \n",
       "3                                              252.0                    \n",
       "4                                              612.0                    \n",
       "\n",
       "   Two Wheelers (Category L2 (CMVR))  \\\n",
       "0                                NaN   \n",
       "1                                NaN   \n",
       "2                              138.0   \n",
       "3                              430.0   \n",
       "4                               18.0   \n",
       "\n",
       "   Two Wheelers (Max power not exceeding 250 Watts)  \\\n",
       "0                                               NaN   \n",
       "1                                               NaN   \n",
       "2                                            1006.0   \n",
       "3                                            2148.0   \n",
       "4                                             896.0   \n",
       "\n",
       "   Three Wheelers (Category L5 slow speed as per CMVR)  \\\n",
       "0                                                NaN     \n",
       "1                                                NaN     \n",
       "2                                                0.0     \n",
       "3                                                6.0     \n",
       "4                                                0.0     \n",
       "\n",
       "   Three Wheelers (Category L5 as per CMVR)  \\\n",
       "0                                       NaN   \n",
       "1                                       NaN   \n",
       "2                                     117.0   \n",
       "3                                      64.0   \n",
       "4                                       0.0   \n",
       "\n",
       "   Passenger Cars (Category M1 as per CMVR)  Buses  Total in state  \n",
       "0                                       NaN    NaN             NaN  \n",
       "1                                       NaN    NaN             NaN  \n",
       "2                                     151.0    0.0          1875.0  \n",
       "3                                     271.0    0.0          3171.0  \n",
       "4                                     974.0    0.0          2500.0  "
      ]
     },
     "execution_count": 16,
     "metadata": {},
     "output_type": "execute_result"
    }
   ],
   "source": [
    "df5.head()"
   ]
  },
  {
   "cell_type": "markdown",
   "id": "6565185b",
   "metadata": {},
   "source": [
    "# EDA and Data Pre-Processing"
   ]
  },
  {
   "cell_type": "code",
   "execution_count": 17,
   "id": "58e761a8",
   "metadata": {},
   "outputs": [],
   "source": [
    "df5.drop(index=[32], inplace=True)"
   ]
  },
  {
   "cell_type": "code",
   "execution_count": 18,
   "id": "d749458a",
   "metadata": {},
   "outputs": [],
   "source": [
    "df5 = df5.drop('Sl. No', axis=1)"
   ]
  },
  {
   "cell_type": "code",
   "execution_count": 19,
   "id": "1c626222",
   "metadata": {},
   "outputs": [],
   "source": [
    "df5 = df5.drop('Total in state', axis=1)"
   ]
  },
  {
   "cell_type": "code",
   "execution_count": 20,
   "id": "b3c85c8d",
   "metadata": {},
   "outputs": [],
   "source": [
    "df5 = df5.transpose()"
   ]
  },
  {
   "cell_type": "code",
   "execution_count": 21,
   "id": "a5b40dd9",
   "metadata": {
    "scrolled": true
   },
   "outputs": [
    {
     "data": {
      "text/html": [
       "<div>\n",
       "<style scoped>\n",
       "    .dataframe tbody tr th:only-of-type {\n",
       "        vertical-align: middle;\n",
       "    }\n",
       "\n",
       "    .dataframe tbody tr th {\n",
       "        vertical-align: top;\n",
       "    }\n",
       "\n",
       "    .dataframe thead th {\n",
       "        text-align: right;\n",
       "    }\n",
       "</style>\n",
       "<table border=\"1\" class=\"dataframe\">\n",
       "  <thead>\n",
       "    <tr style=\"text-align: right;\">\n",
       "      <th></th>\n",
       "      <th>0</th>\n",
       "      <th>1</th>\n",
       "      <th>2</th>\n",
       "      <th>3</th>\n",
       "      <th>4</th>\n",
       "      <th>5</th>\n",
       "      <th>6</th>\n",
       "      <th>7</th>\n",
       "      <th>8</th>\n",
       "      <th>9</th>\n",
       "      <th>...</th>\n",
       "      <th>22</th>\n",
       "      <th>23</th>\n",
       "      <th>24</th>\n",
       "      <th>25</th>\n",
       "      <th>26</th>\n",
       "      <th>27</th>\n",
       "      <th>28</th>\n",
       "      <th>29</th>\n",
       "      <th>30</th>\n",
       "      <th>31</th>\n",
       "    </tr>\n",
       "  </thead>\n",
       "  <tbody>\n",
       "    <tr>\n",
       "      <th>State</th>\n",
       "      <td>Andaman and Nicobar Island</td>\n",
       "      <td>Arunachal Pradesh</td>\n",
       "      <td>Assam</td>\n",
       "      <td>Bihar</td>\n",
       "      <td>Chandigarh</td>\n",
       "      <td>Chhattisgarh</td>\n",
       "      <td>Delhi</td>\n",
       "      <td>Goa</td>\n",
       "      <td>Gujarat</td>\n",
       "      <td>Haryana</td>\n",
       "      <td>...</td>\n",
       "      <td>Puducherry</td>\n",
       "      <td>Punjab</td>\n",
       "      <td>Rajasthan</td>\n",
       "      <td>Sikkim</td>\n",
       "      <td>Tamil Nadu</td>\n",
       "      <td>Tripura</td>\n",
       "      <td>Dadra and Nagar Haveli and Daman and Diu</td>\n",
       "      <td>Uttarakhand</td>\n",
       "      <td>Uttar Pradesh</td>\n",
       "      <td>West Bengal</td>\n",
       "    </tr>\n",
       "    <tr>\n",
       "      <th>Total Number of active Vehicle as on 08.12.2021</th>\n",
       "      <td>143529</td>\n",
       "      <td>235189</td>\n",
       "      <td>4445227</td>\n",
       "      <td>9816784</td>\n",
       "      <td>720272</td>\n",
       "      <td>6575832</td>\n",
       "      <td>12496058</td>\n",
       "      <td>1036568</td>\n",
       "      <td>19780771</td>\n",
       "      <td>10437108</td>\n",
       "      <td>...</td>\n",
       "      <td>1186091</td>\n",
       "      <td>12128139</td>\n",
       "      <td>16711095</td>\n",
       "      <td>90685</td>\n",
       "      <td>28953331</td>\n",
       "      <td>629174</td>\n",
       "      <td>297137</td>\n",
       "      <td>3227453</td>\n",
       "      <td>38628929</td>\n",
       "      <td>13600830</td>\n",
       "    </tr>\n",
       "    <tr>\n",
       "      <th>Total number of active Electric Vehicles as on 08.12.2021</th>\n",
       "      <td>157</td>\n",
       "      <td>20</td>\n",
       "      <td>43707</td>\n",
       "      <td>58655</td>\n",
       "      <td>1791</td>\n",
       "      <td>11998</td>\n",
       "      <td>126111</td>\n",
       "      <td>1315</td>\n",
       "      <td>13270</td>\n",
       "      <td>24379</td>\n",
       "      <td>...</td>\n",
       "      <td>1393</td>\n",
       "      <td>8190</td>\n",
       "      <td>47480</td>\n",
       "      <td>22</td>\n",
       "      <td>45368</td>\n",
       "      <td>7146</td>\n",
       "      <td>123</td>\n",
       "      <td>23524</td>\n",
       "      <td>258105</td>\n",
       "      <td>43432</td>\n",
       "    </tr>\n",
       "    <tr>\n",
       "      <th>No of RO's where EV Charging Facility available</th>\n",
       "      <td>NaN</td>\n",
       "      <td>4.0</td>\n",
       "      <td>19.0</td>\n",
       "      <td>26.0</td>\n",
       "      <td>4.0</td>\n",
       "      <td>51.0</td>\n",
       "      <td>66.0</td>\n",
       "      <td>17.0</td>\n",
       "      <td>87.0</td>\n",
       "      <td>114.0</td>\n",
       "      <td>...</td>\n",
       "      <td>NaN</td>\n",
       "      <td>41.0</td>\n",
       "      <td>174.0</td>\n",
       "      <td>NaN</td>\n",
       "      <td>76.0</td>\n",
       "      <td>3.0</td>\n",
       "      <td>NaN</td>\n",
       "      <td>10.0</td>\n",
       "      <td>128.0</td>\n",
       "      <td>71.0</td>\n",
       "    </tr>\n",
       "    <tr>\n",
       "      <th>Two Wheelers (Category L1 &amp; L2 as per Central Motor Vehicles Rules</th>\n",
       "      <td>NaN</td>\n",
       "      <td>NaN</td>\n",
       "      <td>463.0</td>\n",
       "      <td>252.0</td>\n",
       "      <td>612.0</td>\n",
       "      <td>613.0</td>\n",
       "      <td>1395.0</td>\n",
       "      <td>0.0</td>\n",
       "      <td>7182.0</td>\n",
       "      <td>3162.0</td>\n",
       "      <td>...</td>\n",
       "      <td>NaN</td>\n",
       "      <td>698.0</td>\n",
       "      <td>2036.0</td>\n",
       "      <td>NaN</td>\n",
       "      <td>491.0</td>\n",
       "      <td>28.0</td>\n",
       "      <td>NaN</td>\n",
       "      <td>NaN</td>\n",
       "      <td>2954.0</td>\n",
       "      <td>1451.0</td>\n",
       "    </tr>\n",
       "  </tbody>\n",
       "</table>\n",
       "<p>5 rows × 32 columns</p>\n",
       "</div>"
      ],
      "text/plain": [
       "                                                                            0   \\\n",
       "State                                               Andaman and Nicobar Island   \n",
       "Total Number of active Vehicle as on 08.12.2021                         143529   \n",
       "Total number of active Electric Vehicles as on ...                         157   \n",
       "No of RO's where EV Charging Facility available                            NaN   \n",
       "Two Wheelers (Category L1 & L2 as per Central M...                         NaN   \n",
       "\n",
       "                                                                   1   \\\n",
       "State                                               Arunachal Pradesh   \n",
       "Total Number of active Vehicle as on 08.12.2021                235189   \n",
       "Total number of active Electric Vehicles as on ...                 20   \n",
       "No of RO's where EV Charging Facility available                   4.0   \n",
       "Two Wheelers (Category L1 & L2 as per Central M...                NaN   \n",
       "\n",
       "                                                         2        3   \\\n",
       "State                                                 Assam    Bihar   \n",
       "Total Number of active Vehicle as on 08.12.2021     4445227  9816784   \n",
       "Total number of active Electric Vehicles as on ...    43707    58655   \n",
       "No of RO's where EV Charging Facility available        19.0     26.0   \n",
       "Two Wheelers (Category L1 & L2 as per Central M...    463.0    252.0   \n",
       "\n",
       "                                                            4             5   \\\n",
       "State                                               Chandigarh  Chhattisgarh   \n",
       "Total Number of active Vehicle as on 08.12.2021         720272       6575832   \n",
       "Total number of active Electric Vehicles as on ...        1791         11998   \n",
       "No of RO's where EV Charging Facility available            4.0          51.0   \n",
       "Two Wheelers (Category L1 & L2 as per Central M...       612.0         613.0   \n",
       "\n",
       "                                                          6        7   \\\n",
       "State                                                  Delhi      Goa   \n",
       "Total Number of active Vehicle as on 08.12.2021     12496058  1036568   \n",
       "Total number of active Electric Vehicles as on ...    126111     1315   \n",
       "No of RO's where EV Charging Facility available         66.0     17.0   \n",
       "Two Wheelers (Category L1 & L2 as per Central M...    1395.0      0.0   \n",
       "\n",
       "                                                          8         9   ...  \\\n",
       "State                                                Gujarat   Haryana  ...   \n",
       "Total Number of active Vehicle as on 08.12.2021     19780771  10437108  ...   \n",
       "Total number of active Electric Vehicles as on ...     13270     24379  ...   \n",
       "No of RO's where EV Charging Facility available         87.0     114.0  ...   \n",
       "Two Wheelers (Category L1 & L2 as per Central M...    7182.0    3162.0  ...   \n",
       "\n",
       "                                                            22        23  \\\n",
       "State                                               Puducherry    Punjab   \n",
       "Total Number of active Vehicle as on 08.12.2021        1186091  12128139   \n",
       "Total number of active Electric Vehicles as on ...        1393      8190   \n",
       "No of RO's where EV Charging Facility available            NaN      41.0   \n",
       "Two Wheelers (Category L1 & L2 as per Central M...         NaN     698.0   \n",
       "\n",
       "                                                           24      25  \\\n",
       "State                                               Rajasthan  Sikkim   \n",
       "Total Number of active Vehicle as on 08.12.2021      16711095   90685   \n",
       "Total number of active Electric Vehicles as on ...      47480      22   \n",
       "No of RO's where EV Charging Facility available         174.0     NaN   \n",
       "Two Wheelers (Category L1 & L2 as per Central M...     2036.0     NaN   \n",
       "\n",
       "                                                            26       27  \\\n",
       "State                                               Tamil Nadu  Tripura   \n",
       "Total Number of active Vehicle as on 08.12.2021       28953331   629174   \n",
       "Total number of active Electric Vehicles as on ...       45368     7146   \n",
       "No of RO's where EV Charging Facility available           76.0      3.0   \n",
       "Two Wheelers (Category L1 & L2 as per Central M...       491.0     28.0   \n",
       "\n",
       "                                                                                          28  \\\n",
       "State                                               Dadra and Nagar Haveli and Daman and Diu   \n",
       "Total Number of active Vehicle as on 08.12.2021                                       297137   \n",
       "Total number of active Electric Vehicles as on ...                                       123   \n",
       "No of RO's where EV Charging Facility available                                          NaN   \n",
       "Two Wheelers (Category L1 & L2 as per Central M...                                       NaN   \n",
       "\n",
       "                                                             29  \\\n",
       "State                                               Uttarakhand   \n",
       "Total Number of active Vehicle as on 08.12.2021         3227453   \n",
       "Total number of active Electric Vehicles as on ...        23524   \n",
       "No of RO's where EV Charging Facility available            10.0   \n",
       "Two Wheelers (Category L1 & L2 as per Central M...          NaN   \n",
       "\n",
       "                                                               30           31  \n",
       "State                                               Uttar Pradesh  West Bengal  \n",
       "Total Number of active Vehicle as on 08.12.2021          38628929     13600830  \n",
       "Total number of active Electric Vehicles as on ...         258105        43432  \n",
       "No of RO's where EV Charging Facility available             128.0         71.0  \n",
       "Two Wheelers (Category L1 & L2 as per Central M...         2954.0       1451.0  \n",
       "\n",
       "[5 rows x 32 columns]"
      ]
     },
     "execution_count": 21,
     "metadata": {},
     "output_type": "execute_result"
    }
   ],
   "source": [
    "df5.head()"
   ]
  },
  {
   "cell_type": "code",
   "execution_count": 22,
   "id": "710e1454",
   "metadata": {},
   "outputs": [],
   "source": [
    "df5.columns = df5.iloc[0]"
   ]
  },
  {
   "cell_type": "code",
   "execution_count": 23,
   "id": "803c70f3",
   "metadata": {},
   "outputs": [],
   "source": [
    "df5 = df5.drop(df5.index[0])"
   ]
  },
  {
   "cell_type": "code",
   "execution_count": 24,
   "id": "279aa122",
   "metadata": {},
   "outputs": [
    {
     "data": {
      "text/plain": [
       "<AxesSubplot:xlabel='State'>"
      ]
     },
     "execution_count": 24,
     "metadata": {},
     "output_type": "execute_result"
    },
    {
     "data": {
      "image/png": "[encoded data removed]",
      "text/plain": [
       "<Figure size 720x576 with 2 Axes>"
      ]
     },
     "metadata": {
      "needs_background": "light"
     },
     "output_type": "display_data"
    }
   ],
   "source": [
    "plt.figure(figsize=(10,8))\n",
    "sns.heatmap(df5.isnull(),\n",
    "            cmap='viridis',\n",
    "            linewidths=1,\n",
    "            linecolor='white')"
   ]
  },
  {
   "cell_type": "code",
   "execution_count": 25,
   "id": "6107f4ba",
   "metadata": {},
   "outputs": [],
   "source": [
    "df5 = df5.transpose()"
   ]
  },
  {
   "cell_type": "code",
   "execution_count": 26,
   "id": "11755cf0",
   "metadata": {},
   "outputs": [],
   "source": [
    "df5['Percent EV'] = df5['Total number of active Electric Vehicles as on 08.12.2021'] / df5['Total Number of active Vehicle as on 08.12.2021']"
   ]
  },
  {
   "cell_type": "code",
   "execution_count": 27,
   "id": "f5e06de4",
   "metadata": {},
   "outputs": [
    {
     "data": {
      "text/plain": [
       "<AxesSubplot:xlabel='State'>"
      ]
     },
     "execution_count": 27,
     "metadata": {},
     "output_type": "execute_result"
    },
    {
     "data": {
      "image/png": "[encoded data removed]",
      "text/plain": [
       "<Figure size 864x576 with 1 Axes>"
      ]
     },
     "metadata": {
      "needs_background": "light"
     },
     "output_type": "display_data"
    }
   ],
   "source": [
    "plt.figure(figsize=(12,8))\n",
    "df5['Percent EV'].sort_values(ascending=False).plot(kind=\"bar\")"
   ]
  },
  {
   "cell_type": "code",
   "execution_count": 28,
   "id": "9797afa1",
   "metadata": {},
   "outputs": [
    {
     "data": {
      "text/plain": [
       "State\n",
       "Andaman and Nicobar Island                    143529\n",
       "Arunachal Pradesh                             235189\n",
       "Jammu and Kashmir                            1766726\n",
       "Ladakh                                         34665\n",
       "Maharashtra                                 29777450\n",
       "Mizoram                                       299550\n",
       "Puducherry                                   1186091\n",
       "Sikkim                                         90685\n",
       "Dadra and Nagar Haveli and Daman and Diu      297137\n",
       "Uttarakhand                                  3227453\n",
       "Name: Total Number of active Vehicle as on 08.12.2021, dtype: object"
      ]
     },
     "execution_count": 28,
     "metadata": {},
     "output_type": "execute_result"
    }
   ],
   "source": [
    "df5[df5.transpose().isna().any()].iloc[:,0]"
   ]
  },
  {
   "cell_type": "markdown",
   "id": "9e85243c",
   "metadata": {},
   "source": [
    "As we can infer from the percent of EV in a state, we can remove states with least percentage.  \n",
    "That is: Arunachal Pradesh, Ladakh, Mizoram, Sikkim, and Dadra and Nagar Haveli and Daman and Diu"
   ]
  },
  {
   "cell_type": "code",
   "execution_count": 29,
   "id": "4336dfda",
   "metadata": {},
   "outputs": [],
   "source": [
    "df5 = df5.transpose()"
   ]
  },
  {
   "cell_type": "code",
   "execution_count": 30,
   "id": "3c8f671b",
   "metadata": {},
   "outputs": [],
   "source": [
    "df5 = df5.drop(['Arunachal Pradesh', 'Ladakh', 'Mizoram', 'Sikkim', 'Dadra and Nagar Haveli and Daman and Diu'], axis=1)"
   ]
  },
  {
   "cell_type": "code",
   "execution_count": 31,
   "id": "af916741",
   "metadata": {},
   "outputs": [
    {
     "data": {
      "text/plain": [
       "(11, 27)"
      ]
     },
     "execution_count": 31,
     "metadata": {},
     "output_type": "execute_result"
    }
   ],
   "source": [
    "df5.shape"
   ]
  },
  {
   "cell_type": "markdown",
   "id": "e57a695e",
   "metadata": {},
   "source": [
    "And we can fill the Charging facility section with 0 for no information available"
   ]
  },
  {
   "cell_type": "code",
   "execution_count": 32,
   "id": "c63de36d",
   "metadata": {},
   "outputs": [],
   "source": [
    "df5 = df5.transpose()"
   ]
  },
  {
   "cell_type": "code",
   "execution_count": 33,
   "id": "52858664",
   "metadata": {},
   "outputs": [],
   "source": [
    "df5['No of RO\\'s where EV Charging Facility available'].fillna(0, inplace=True)"
   ]
  },
  {
   "cell_type": "code",
   "execution_count": 34,
   "id": "8448a391",
   "metadata": {},
   "outputs": [],
   "source": [
    "df5['2W'] = df5['Two Wheelers (Category L1 & L2 as per Central Motor Vehicles Rules']+df5['Two Wheelers (Category L2 (CMVR))']+df5['Two Wheelers (Max power not exceeding 250 Watts)']"
   ]
  },
  {
   "cell_type": "code",
   "execution_count": 35,
   "id": "ca9c3a46",
   "metadata": {},
   "outputs": [],
   "source": [
    "df5['3W'] = df5['Three Wheelers (Category L5 slow speed as per CMVR)']+df5['Three Wheelers (Category L5 as per CMVR)']"
   ]
  },
  {
   "cell_type": "code",
   "execution_count": 36,
   "id": "c0500aa3",
   "metadata": {},
   "outputs": [],
   "source": [
    "df5['4W'] = df5['Passenger Cars (Category M1 as per CMVR)']"
   ]
  },
  {
   "cell_type": "code",
   "execution_count": 37,
   "id": "a95538e0",
   "metadata": {},
   "outputs": [],
   "source": [
    "df5 = df5.drop(['Two Wheelers (Category L1 & L2 as per Central Motor Vehicles Rules','Two Wheelers (Category L2 (CMVR))','Two Wheelers (Max power not exceeding 250 Watts)','Three Wheelers (Category L5 slow speed as per CMVR)','Three Wheelers (Category L5 as per CMVR)','Passenger Cars (Category M1 as per CMVR)'], axis=1)"
   ]
  },
  {
   "cell_type": "code",
   "execution_count": 38,
   "id": "1696ab71",
   "metadata": {},
   "outputs": [],
   "source": [
    "df5 = df5.transpose()"
   ]
  },
  {
   "cell_type": "code",
   "execution_count": 39,
   "id": "60c84ff4",
   "metadata": {},
   "outputs": [
    {
     "data": {
      "text/plain": [
       "<AxesSubplot:xlabel='State'>"
      ]
     },
     "execution_count": 39,
     "metadata": {},
     "output_type": "execute_result"
    },
    {
     "data": {
      "image/png": "[encoded data removed]",
      "text/plain": [
       "<Figure size 720x576 with 2 Axes>"
      ]
     },
     "metadata": {
      "needs_background": "light"
     },
     "output_type": "display_data"
    }
   ],
   "source": [
    "plt.figure(figsize=(10,8))\n",
    "sns.heatmap(df5.isnull(),\n",
    "            cmap='viridis',\n",
    "            linewidths=1,\n",
    "            linecolor='white')"
   ]
  },
  {
   "cell_type": "code",
   "execution_count": 40,
   "id": "f0eab1c4",
   "metadata": {},
   "outputs": [],
   "source": [
    "df5['Andaman and Nicobar Island'].iloc[3] = 40\n",
    "df5['Jammu and Kashmir'].iloc[3] = 187\n",
    "df5['Puducherry'].iloc[3] = 20\n",
    "df5['Uttarakhand'].iloc[3] = 35"
   ]
  },
  {
   "cell_type": "code",
   "execution_count": 41,
   "id": "1df62491",
   "metadata": {},
   "outputs": [],
   "source": [
    "df5['Andaman and Nicobar Island'].iloc[5] = 22\n",
    "df5['Jammu and Kashmir'].iloc[5] = 5214\n",
    "df5['Puducherry'].iloc[5] = 4991\n",
    "df5['Uttarakhand'].iloc[5] = 13235"
   ]
  },
  {
   "cell_type": "code",
   "execution_count": 42,
   "id": "bf55d125",
   "metadata": {},
   "outputs": [],
   "source": [
    "df5['Andaman and Nicobar Island'].iloc[6] = 30\n",
    "df5['Jammu and Kashmir'].iloc[6] = 9348\n",
    "df5['Puducherry'].iloc[6] = 142\n",
    "df5['Uttarakhand'].iloc[6] = 40898"
   ]
  },
  {
   "cell_type": "code",
   "execution_count": 43,
   "id": "fff2b6df",
   "metadata": {},
   "outputs": [],
   "source": [
    "df5['Andaman and Nicobar Island'].iloc[7] = 95\n",
    "df5['Jammu and Kashmir'].iloc[7] = 199\n",
    "df5['Puducherry'].iloc[7] = 169\n",
    "df5['Uttarakhand'].iloc[7] = 939"
   ]
  },
  {
   "cell_type": "code",
   "execution_count": 44,
   "id": "89023ca1",
   "metadata": {},
   "outputs": [
    {
     "data": {
      "text/plain": [
       "State\n",
       "Andaman and Nicobar Island    0\n",
       "Assam                         0\n",
       "Bihar                         0\n",
       "Chandigarh                    0\n",
       "Chhattisgarh                  0\n",
       "Delhi                         0\n",
       "Goa                           0\n",
       "Gujarat                       0\n",
       "Haryana                       0\n",
       "Himachal Pradesh              0\n",
       "Jammu and Kashmir             0\n",
       "Jharkhand                     0\n",
       "Karnataka                     0\n",
       "Kerala                        0\n",
       "Maharashtra                   0\n",
       "Manipur                       0\n",
       "Meghalaya                     0\n",
       "Nagaland                      0\n",
       "Odisha                        0\n",
       "Puducherry                    0\n",
       "Punjab                        0\n",
       "Rajasthan                     0\n",
       "Tamil Nadu                    0\n",
       "Tripura                       0\n",
       "Uttarakhand                   0\n",
       "Uttar Pradesh                 0\n",
       "West Bengal                   0\n",
       "dtype: int64"
      ]
     },
     "execution_count": 44,
     "metadata": {},
     "output_type": "execute_result"
    }
   ],
   "source": [
    "df5.isnull().sum()"
   ]
  },
  {
   "cell_type": "code",
   "execution_count": 45,
   "id": "6c9042fb",
   "metadata": {},
   "outputs": [
    {
     "data": {
      "text/html": [
       "<div>\n",
       "<style scoped>\n",
       "    .dataframe tbody tr th:only-of-type {\n",
       "        vertical-align: middle;\n",
       "    }\n",
       "\n",
       "    .dataframe tbody tr th {\n",
       "        vertical-align: top;\n",
       "    }\n",
       "\n",
       "    .dataframe thead th {\n",
       "        text-align: right;\n",
       "    }\n",
       "</style>\n",
       "<table border=\"1\" class=\"dataframe\">\n",
       "  <thead>\n",
       "    <tr style=\"text-align: right;\">\n",
       "      <th>State</th>\n",
       "      <th>Andaman and Nicobar Island</th>\n",
       "      <th>Assam</th>\n",
       "      <th>Bihar</th>\n",
       "      <th>Chandigarh</th>\n",
       "      <th>Chhattisgarh</th>\n",
       "      <th>Delhi</th>\n",
       "      <th>Goa</th>\n",
       "      <th>Gujarat</th>\n",
       "      <th>Haryana</th>\n",
       "      <th>Himachal Pradesh</th>\n",
       "      <th>...</th>\n",
       "      <th>Nagaland</th>\n",
       "      <th>Odisha</th>\n",
       "      <th>Puducherry</th>\n",
       "      <th>Punjab</th>\n",
       "      <th>Rajasthan</th>\n",
       "      <th>Tamil Nadu</th>\n",
       "      <th>Tripura</th>\n",
       "      <th>Uttarakhand</th>\n",
       "      <th>Uttar Pradesh</th>\n",
       "      <th>West Bengal</th>\n",
       "    </tr>\n",
       "  </thead>\n",
       "  <tbody>\n",
       "    <tr>\n",
       "      <th>Total Number of active Vehicle as on 08.12.2021</th>\n",
       "      <td>143529</td>\n",
       "      <td>4445227</td>\n",
       "      <td>9816784</td>\n",
       "      <td>720272</td>\n",
       "      <td>6575832</td>\n",
       "      <td>12496058</td>\n",
       "      <td>1036568</td>\n",
       "      <td>19780771</td>\n",
       "      <td>10437108</td>\n",
       "      <td>1897442</td>\n",
       "      <td>...</td>\n",
       "      <td>323087</td>\n",
       "      <td>9507366</td>\n",
       "      <td>1186091</td>\n",
       "      <td>12128139</td>\n",
       "      <td>16711095</td>\n",
       "      <td>28953331</td>\n",
       "      <td>629174</td>\n",
       "      <td>3227453</td>\n",
       "      <td>38628929</td>\n",
       "      <td>13600830</td>\n",
       "    </tr>\n",
       "    <tr>\n",
       "      <th>Total number of active Electric Vehicles as on 08.12.2021</th>\n",
       "      <td>157</td>\n",
       "      <td>43707</td>\n",
       "      <td>58655</td>\n",
       "      <td>1791</td>\n",
       "      <td>11998</td>\n",
       "      <td>126111</td>\n",
       "      <td>1315</td>\n",
       "      <td>13270</td>\n",
       "      <td>24379</td>\n",
       "      <td>623</td>\n",
       "      <td>...</td>\n",
       "      <td>53</td>\n",
       "      <td>10001</td>\n",
       "      <td>1393</td>\n",
       "      <td>8190</td>\n",
       "      <td>47480</td>\n",
       "      <td>45368</td>\n",
       "      <td>7146</td>\n",
       "      <td>23524</td>\n",
       "      <td>258105</td>\n",
       "      <td>43432</td>\n",
       "    </tr>\n",
       "    <tr>\n",
       "      <th>No of RO's where EV Charging Facility available</th>\n",
       "      <td>0.0</td>\n",
       "      <td>19.0</td>\n",
       "      <td>26.0</td>\n",
       "      <td>4.0</td>\n",
       "      <td>51.0</td>\n",
       "      <td>66.0</td>\n",
       "      <td>17.0</td>\n",
       "      <td>87.0</td>\n",
       "      <td>114.0</td>\n",
       "      <td>13.0</td>\n",
       "      <td>...</td>\n",
       "      <td>2.0</td>\n",
       "      <td>26.0</td>\n",
       "      <td>0.0</td>\n",
       "      <td>41.0</td>\n",
       "      <td>174.0</td>\n",
       "      <td>76.0</td>\n",
       "      <td>3.0</td>\n",
       "      <td>10.0</td>\n",
       "      <td>128.0</td>\n",
       "      <td>71.0</td>\n",
       "    </tr>\n",
       "    <tr>\n",
       "      <th>Buses</th>\n",
       "      <td>40</td>\n",
       "      <td>0.0</td>\n",
       "      <td>0.0</td>\n",
       "      <td>0.0</td>\n",
       "      <td>0.0</td>\n",
       "      <td>21.0</td>\n",
       "      <td>1.0</td>\n",
       "      <td>0.0</td>\n",
       "      <td>0.0</td>\n",
       "      <td>0.0</td>\n",
       "      <td>...</td>\n",
       "      <td>0.0</td>\n",
       "      <td>0.0</td>\n",
       "      <td>20</td>\n",
       "      <td>0.0</td>\n",
       "      <td>0.0</td>\n",
       "      <td>0.0</td>\n",
       "      <td>0.0</td>\n",
       "      <td>35</td>\n",
       "      <td>0.0</td>\n",
       "      <td>0.0</td>\n",
       "    </tr>\n",
       "    <tr>\n",
       "      <th>Percent EV</th>\n",
       "      <td>0.001094</td>\n",
       "      <td>0.009832</td>\n",
       "      <td>0.005975</td>\n",
       "      <td>0.002487</td>\n",
       "      <td>0.001825</td>\n",
       "      <td>0.010092</td>\n",
       "      <td>0.001269</td>\n",
       "      <td>0.000671</td>\n",
       "      <td>0.002336</td>\n",
       "      <td>0.000328</td>\n",
       "      <td>...</td>\n",
       "      <td>0.000164</td>\n",
       "      <td>0.001052</td>\n",
       "      <td>0.001174</td>\n",
       "      <td>0.000675</td>\n",
       "      <td>0.002841</td>\n",
       "      <td>0.001567</td>\n",
       "      <td>0.011358</td>\n",
       "      <td>0.007289</td>\n",
       "      <td>0.006682</td>\n",
       "      <td>0.003193</td>\n",
       "    </tr>\n",
       "    <tr>\n",
       "      <th>2W</th>\n",
       "      <td>22</td>\n",
       "      <td>1607.0</td>\n",
       "      <td>2830.0</td>\n",
       "      <td>1526.0</td>\n",
       "      <td>3073.0</td>\n",
       "      <td>6664.0</td>\n",
       "      <td>0.0</td>\n",
       "      <td>15875.0</td>\n",
       "      <td>18574.0</td>\n",
       "      <td>0.0</td>\n",
       "      <td>...</td>\n",
       "      <td>23.0</td>\n",
       "      <td>3232.0</td>\n",
       "      <td>4991</td>\n",
       "      <td>2966.0</td>\n",
       "      <td>11564.0</td>\n",
       "      <td>9614.0</td>\n",
       "      <td>73.0</td>\n",
       "      <td>13235</td>\n",
       "      <td>20508.0</td>\n",
       "      <td>12297.0</td>\n",
       "    </tr>\n",
       "    <tr>\n",
       "      <th>3W</th>\n",
       "      <td>30</td>\n",
       "      <td>117.0</td>\n",
       "      <td>70.0</td>\n",
       "      <td>0.0</td>\n",
       "      <td>164.0</td>\n",
       "      <td>1.0</td>\n",
       "      <td>0.0</td>\n",
       "      <td>4.0</td>\n",
       "      <td>137.0</td>\n",
       "      <td>0.0</td>\n",
       "      <td>...</td>\n",
       "      <td>0.0</td>\n",
       "      <td>37.0</td>\n",
       "      <td>142</td>\n",
       "      <td>5.0</td>\n",
       "      <td>83.0</td>\n",
       "      <td>0.0</td>\n",
       "      <td>0.0</td>\n",
       "      <td>40898</td>\n",
       "      <td>256.0</td>\n",
       "      <td>3.0</td>\n",
       "    </tr>\n",
       "    <tr>\n",
       "      <th>4W</th>\n",
       "      <td>95</td>\n",
       "      <td>151.0</td>\n",
       "      <td>271.0</td>\n",
       "      <td>974.0</td>\n",
       "      <td>997.0</td>\n",
       "      <td>12695.0</td>\n",
       "      <td>513.0</td>\n",
       "      <td>15388.0</td>\n",
       "      <td>4878.0</td>\n",
       "      <td>98.0</td>\n",
       "      <td>...</td>\n",
       "      <td>1.0</td>\n",
       "      <td>594.0</td>\n",
       "      <td>169</td>\n",
       "      <td>3567.0</td>\n",
       "      <td>4116.0</td>\n",
       "      <td>7132.0</td>\n",
       "      <td>8.0</td>\n",
       "      <td>939</td>\n",
       "      <td>5445.0</td>\n",
       "      <td>1840.0</td>\n",
       "    </tr>\n",
       "  </tbody>\n",
       "</table>\n",
       "<p>8 rows × 27 columns</p>\n",
       "</div>"
      ],
      "text/plain": [
       "State                                              Andaman and Nicobar Island  \\\n",
       "Total Number of active Vehicle as on 08.12.2021                        143529   \n",
       "Total number of active Electric Vehicles as on ...                        157   \n",
       "No of RO's where EV Charging Facility available                           0.0   \n",
       "Buses                                                                      40   \n",
       "Percent EV                                                           0.001094   \n",
       "2W                                                                         22   \n",
       "3W                                                                         30   \n",
       "4W                                                                         95   \n",
       "\n",
       "State                                                  Assam     Bihar  \\\n",
       "Total Number of active Vehicle as on 08.12.2021      4445227   9816784   \n",
       "Total number of active Electric Vehicles as on ...     43707     58655   \n",
       "No of RO's where EV Charging Facility available         19.0      26.0   \n",
       "Buses                                                    0.0       0.0   \n",
       "Percent EV                                          0.009832  0.005975   \n",
       "2W                                                    1607.0    2830.0   \n",
       "3W                                                     117.0      70.0   \n",
       "4W                                                     151.0     271.0   \n",
       "\n",
       "State                                              Chandigarh Chhattisgarh  \\\n",
       "Total Number of active Vehicle as on 08.12.2021        720272      6575832   \n",
       "Total number of active Electric Vehicles as on ...       1791        11998   \n",
       "No of RO's where EV Charging Facility available           4.0         51.0   \n",
       "Buses                                                     0.0          0.0   \n",
       "Percent EV                                           0.002487     0.001825   \n",
       "2W                                                     1526.0       3073.0   \n",
       "3W                                                        0.0        164.0   \n",
       "4W                                                      974.0        997.0   \n",
       "\n",
       "State                                                  Delhi       Goa  \\\n",
       "Total Number of active Vehicle as on 08.12.2021     12496058   1036568   \n",
       "Total number of active Electric Vehicles as on ...    126111      1315   \n",
       "No of RO's where EV Charging Facility available         66.0      17.0   \n",
       "Buses                                                   21.0       1.0   \n",
       "Percent EV                                          0.010092  0.001269   \n",
       "2W                                                    6664.0       0.0   \n",
       "3W                                                       1.0       0.0   \n",
       "4W                                                   12695.0     513.0   \n",
       "\n",
       "State                                                Gujarat   Haryana  \\\n",
       "Total Number of active Vehicle as on 08.12.2021     19780771  10437108   \n",
       "Total number of active Electric Vehicles as on ...     13270     24379   \n",
       "No of RO's where EV Charging Facility available         87.0     114.0   \n",
       "Buses                                                    0.0       0.0   \n",
       "Percent EV                                          0.000671  0.002336   \n",
       "2W                                                   15875.0   18574.0   \n",
       "3W                                                       4.0     137.0   \n",
       "4W                                                   15388.0    4878.0   \n",
       "\n",
       "State                                              Himachal Pradesh  ...  \\\n",
       "Total Number of active Vehicle as on 08.12.2021             1897442  ...   \n",
       "Total number of active Electric Vehicles as on ...              623  ...   \n",
       "No of RO's where EV Charging Facility available                13.0  ...   \n",
       "Buses                                                           0.0  ...   \n",
       "Percent EV                                                 0.000328  ...   \n",
       "2W                                                              0.0  ...   \n",
       "3W                                                              0.0  ...   \n",
       "4W                                                             98.0  ...   \n",
       "\n",
       "State                                               Nagaland    Odisha  \\\n",
       "Total Number of active Vehicle as on 08.12.2021       323087   9507366   \n",
       "Total number of active Electric Vehicles as on ...        53     10001   \n",
       "No of RO's where EV Charging Facility available          2.0      26.0   \n",
       "Buses                                                    0.0       0.0   \n",
       "Percent EV                                          0.000164  0.001052   \n",
       "2W                                                      23.0    3232.0   \n",
       "3W                                                       0.0      37.0   \n",
       "4W                                                       1.0     594.0   \n",
       "\n",
       "State                                              Puducherry    Punjab  \\\n",
       "Total Number of active Vehicle as on 08.12.2021       1186091  12128139   \n",
       "Total number of active Electric Vehicles as on ...       1393      8190   \n",
       "No of RO's where EV Charging Facility available           0.0      41.0   \n",
       "Buses                                                      20       0.0   \n",
       "Percent EV                                           0.001174  0.000675   \n",
       "2W                                                       4991    2966.0   \n",
       "3W                                                        142       5.0   \n",
       "4W                                                        169    3567.0   \n",
       "\n",
       "State                                              Rajasthan Tamil Nadu  \\\n",
       "Total Number of active Vehicle as on 08.12.2021     16711095   28953331   \n",
       "Total number of active Electric Vehicles as on ...     47480      45368   \n",
       "No of RO's where EV Charging Facility available        174.0       76.0   \n",
       "Buses                                                    0.0        0.0   \n",
       "Percent EV                                          0.002841   0.001567   \n",
       "2W                                                   11564.0     9614.0   \n",
       "3W                                                      83.0        0.0   \n",
       "4W                                                    4116.0     7132.0   \n",
       "\n",
       "State                                                Tripura Uttarakhand  \\\n",
       "Total Number of active Vehicle as on 08.12.2021       629174     3227453   \n",
       "Total number of active Electric Vehicles as on ...      7146       23524   \n",
       "No of RO's where EV Charging Facility available          3.0        10.0   \n",
       "Buses                                                    0.0          35   \n",
       "Percent EV                                          0.011358    0.007289   \n",
       "2W                                                      73.0       13235   \n",
       "3W                                                       0.0       40898   \n",
       "4W                                                       8.0         939   \n",
       "\n",
       "State                                              Uttar Pradesh West Bengal  \n",
       "Total Number of active Vehicle as on 08.12.2021         38628929    13600830  \n",
       "Total number of active Electric Vehicles as on ...        258105       43432  \n",
       "No of RO's where EV Charging Facility available            128.0        71.0  \n",
       "Buses                                                        0.0         0.0  \n",
       "Percent EV                                              0.006682    0.003193  \n",
       "2W                                                       20508.0     12297.0  \n",
       "3W                                                         256.0         3.0  \n",
       "4W                                                        5445.0      1840.0  \n",
       "\n",
       "[8 rows x 27 columns]"
      ]
     },
     "execution_count": 45,
     "metadata": {},
     "output_type": "execute_result"
    }
   ],
   "source": [
    "df5"
   ]
  },
  {
   "cell_type": "code",
   "execution_count": 46,
   "id": "be1c0e5d",
   "metadata": {},
   "outputs": [],
   "source": [
    "df5 = df5.transpose()"
   ]
  },
  {
   "cell_type": "code",
   "execution_count": 47,
   "id": "f40ffc20",
   "metadata": {},
   "outputs": [],
   "source": [
    "df5 = df5[['2W','3W','4W','Buses','No of RO\\'s where EV Charging Facility available','Total Number of active Vehicle as on 08.12.2021','Total number of active Electric Vehicles as on 08.12.2021','Percent EV']]"
   ]
  },
  {
   "cell_type": "code",
   "execution_count": 48,
   "id": "56565a97",
   "metadata": {},
   "outputs": [],
   "source": [
    "df5 = df5.transpose()"
   ]
  },
  {
   "cell_type": "markdown",
   "id": "f7fd8918",
   "metadata": {},
   "source": [
    "# Extracting Segments"
   ]
  },
  {
   "cell_type": "markdown",
   "id": "dc6072bc",
   "metadata": {},
   "source": [
    "After visualizing the data, we move on to extracting suitable segments from the given database.  \n",
    "We perform the segmentation using different ML techniques, and evaluate the results to finally get the best suited method for our project.\n",
    "The techniques used in this project are:\n",
    "1. K-Means CLustering\n",
    "2. Heirarchical Clustering\n",
    "3. PCA followed by clustering\n",
    "4. Gaussian Mixture Models (GMMs)\n",
    "5. DBSCAN (Density-Based Spatial Clustering of Applications with Noise)"
   ]
  },
  {
   "cell_type": "markdown",
   "id": "5f983f69",
   "metadata": {},
   "source": [
    "# K means clustering"
   ]
  },
  {
   "cell_type": "code",
   "execution_count": 49,
   "id": "b611fe66",
   "metadata": {},
   "outputs": [],
   "source": [
    "from sklearn.cluster import KMeans  \n",
    "from sklearn.preprocessing import MinMaxScaler"
   ]
  },
  {
   "cell_type": "code",
   "execution_count": 50,
   "id": "0dbdfa62",
   "metadata": {},
   "outputs": [],
   "source": [
    "df_transposed = df5.transpose()"
   ]
  },
  {
   "cell_type": "code",
   "execution_count": 51,
   "id": "9e1373fa",
   "metadata": {},
   "outputs": [
    {
     "name": "stdout",
     "output_type": "stream",
     "text": [
      "Cluster 0 members:\n",
      "['Delhi', 'Gujarat', 'Haryana', 'Karnataka', 'Kerala', 'Maharashtra', 'Rajasthan', 'Tamil Nadu', 'West Bengal']\n",
      "Cluster 1 members:\n",
      "['Andaman and Nicobar Island', 'Chandigarh', 'Chhattisgarh', 'Goa', 'Himachal Pradesh', 'Jammu and Kashmir', 'Jharkhand', 'Manipur', 'Meghalaya', 'Nagaland', 'Odisha', 'Puducherry', 'Punjab']\n",
      "Cluster 2 members:\n",
      "['Uttarakhand']\n",
      "Cluster 3 members:\n",
      "['Uttar Pradesh']\n",
      "Cluster 4 members:\n",
      "['Assam', 'Bihar', 'Tripura']\n"
     ]
    },
    {
     "data": {
      "image/png": "[encoded data removed]",
      "text/plain": [
       "<Figure size 1008x504 with 1 Axes>"
      ]
     },
     "metadata": {
      "needs_background": "light"
     },
     "output_type": "display_data"
    }
   ],
   "source": [
    "scaler = MinMaxScaler()  \n",
    "df_transposed_scaled = scaler.fit_transform(df_transposed)  \n",
    "\n",
    "k = 5  \n",
    "\n",
    "kmeans = KMeans(n_clusters=k, random_state=42)  \n",
    "clusters = kmeans.fit_predict(df_transposed_scaled)  \n",
    "  \n",
    "df_transposed['Cluster'] = clusters  \n",
    "  \n",
    "for i in range(k):  \n",
    "    cluster_members = df_transposed[df_transposed['Cluster'] == i]  \n",
    "    print(f\"Cluster {i} members:\")  \n",
    "    print(cluster_members.index.tolist())  "
   ]
  },
  {
   "cell_type": "code",
   "execution_count": 52,
   "id": "ea14966f",
   "metadata": {},
   "outputs": [
    {
     "data": {
      "image/png": "[encoded data removed]",
      "text/plain": [
       "<Figure size 720x432 with 1 Axes>"
      ]
     },
     "metadata": {
      "needs_background": "light"
     },
     "output_type": "display_data"
    }
   ],
   "source": [
    "sse = []  \n",
    "for k in range(2, 28):\n",
    "    kmeans = KMeans(n_clusters=k, random_state=42)  \n",
    "    kmeans.fit(df_transposed_scaled)  \n",
    "    sse.append(kmeans.inertia_)  \n",
    "  \n",
    "plt.figure(figsize=(10, 6))  \n",
    "plt.plot(range(2, 28), sse, marker='o')  \n",
    "plt.title('Elbow Method')  \n",
    "plt.xlabel('Number of clusters')  \n",
    "plt.ylabel('SSE')  \n",
    "plt.show()  "
   ]
  },
  {
   "cell_type": "markdown",
   "id": "1973acbf",
   "metadata": {},
   "source": [
    "From the plot above, we can take the optimal number of clusters as 9, and recalculate the clusters"
   ]
  },
  {
   "cell_type": "code",
   "execution_count": 53,
   "id": "5a781ac5",
   "metadata": {},
   "outputs": [
    {
     "name": "stdout",
     "output_type": "stream",
     "text": [
      "Cluster 0 members:\n",
      "['Andaman and Nicobar Island', 'Chandigarh', 'Chhattisgarh', 'Goa', 'Himachal Pradesh', 'Jharkhand', 'Manipur', 'Meghalaya', 'Nagaland', 'Odisha', 'Puducherry', 'Punjab']\n",
      "Cluster 1 members:\n",
      "['Gujarat', 'Maharashtra']\n",
      "Cluster 2 members:\n",
      "['Delhi']\n",
      "Cluster 3 members:\n",
      "['Assam', 'Bihar', 'Tripura']\n",
      "Cluster 4 members:\n",
      "['Haryana', 'Karnataka', 'Kerala', 'Rajasthan', 'Tamil Nadu', 'West Bengal']\n",
      "Cluster 5 members:\n",
      "['Uttarakhand']\n",
      "Cluster 6 members:\n",
      "['Uttar Pradesh']\n",
      "Cluster 7 members:\n",
      "['Jammu and Kashmir']\n"
     ]
    },
    {
     "data": {
      "image/png": "[encoded data removed]",
      "text/plain": [
       "<Figure size 1008x504 with 1 Axes>"
      ]
     },
     "metadata": {
      "needs_background": "light"
     },
     "output_type": "display_data"
    }
   ],
   "source": [
    "k = 8  \n",
    "  \n",
    "kmeans = KMeans(n_clusters=k, random_state=42)  \n",
    "clusters = kmeans.fit_predict(df_transposed_scaled)  \n",
    "  \n",
    "df_transposed['Cluster'] = clusters  \n",
    "  \n",
    "for i in range(k):  \n",
    "    cluster_members = df_transposed[df_transposed['Cluster'] == i]  \n",
    "    print(f\"Cluster {i} members:\")  \n",
    "    print(cluster_members.index.tolist())  \n",
    "  \n",
    "plt.figure(figsize=(14, 7))  \n",
    "plt.bar(df_transposed.index, df_transposed['Cluster'])  \n",
    "plt.xlabel('Type of EV')  \n",
    "plt.ylabel('Cluster')  \n",
    "plt.title('Cluster of Each Type of EV')  \n",
    "plt.xticks(rotation=90)\n",
    "plt.show()"
   ]
  },
  {
   "cell_type": "markdown",
   "id": "4b4ac3e3",
   "metadata": {},
   "source": [
    "# Evaluation of K-Means Segmentation"
   ]
  },
  {
   "cell_type": "code",
   "execution_count": 54,
   "id": "63c28dec",
   "metadata": {},
   "outputs": [],
   "source": [
    "from sklearn.metrics import silhouette_score"
   ]
  },
  {
   "cell_type": "code",
   "execution_count": 55,
   "id": "05d971ca",
   "metadata": {},
   "outputs": [
    {
     "data": {
      "image/png": "[encoded data removed]",
      "text/plain": [
       "<Figure size 720x432 with 1 Axes>"
      ]
     },
     "metadata": {
      "needs_background": "light"
     },
     "output_type": "display_data"
    }
   ],
   "source": [
    "from sklearn.metrics import silhouette_score\n",
    "\n",
    "silhouette_scores = []\n",
    "for k in range(2, 27):\n",
    "    kmeans = KMeans(n_clusters=k, random_state=42)\n",
    "    clusters = kmeans.fit_predict(df_transposed_scaled)\n",
    "    silhouette_avg = silhouette_score(df_transposed_scaled, clusters)\n",
    "    silhouette_scores.append(silhouette_avg)\n",
    "\n",
    "plt.figure(figsize=(10, 6))\n",
    "plt.plot(range(2, 27), silhouette_scores, marker='o')\n",
    "plt.title('Silhouette Scores for Different Numbers of Clusters (k)')\n",
    "plt.xlabel('Number of clusters (k)')\n",
    "plt.ylabel('Silhouette Score')\n",
    "plt.show()"
   ]
  },
  {
   "cell_type": "markdown",
   "id": "ded03828",
   "metadata": {},
   "source": [
    "Best number of clusters = 8"
   ]
  },
  {
   "cell_type": "markdown",
   "id": "76e4b28c",
   "metadata": {},
   "source": [
    "# Hierarchical clustering "
   ]
  },
  {
   "cell_type": "code",
   "execution_count": 56,
   "id": "6e7f2272",
   "metadata": {},
   "outputs": [],
   "source": [
    "from scipy.cluster.hierarchy import dendrogram, linkage  \n",
    "from sklearn.preprocessing import StandardScaler  "
   ]
  },
  {
   "cell_type": "code",
   "execution_count": 57,
   "id": "ba10265b",
   "metadata": {},
   "outputs": [
    {
     "data": {
      "image/png": "[encoded data removed]",
      "text/plain": [
       "<Figure size 720x504 with 1 Axes>"
      ]
     },
     "metadata": {
      "needs_background": "light"
     },
     "output_type": "display_data"
    }
   ],
   "source": [
    "Z = linkage(df_transposed_scaled, method='ward')  \n",
    "  \n",
    "plt.figure(figsize=(10, 7))  \n",
    "dendrogram(Z, labels=df_transposed.index, leaf_rotation=90, leaf_font_size=10)  \n",
    "plt.title('Hierarchical Clustering Dendrogram')  \n",
    "plt.xlabel('Type of EV')  \n",
    "plt.ylabel('Distance')  \n",
    "plt.show()  "
   ]
  },
  {
   "cell_type": "markdown",
   "id": "a699af20",
   "metadata": {},
   "source": [
    "The dendrogram provides a visual representation of the clusters formed at each level of the hierarchy and can help decide on a distance threshold (max_d) to define the number of clusters you want to use. You can also specify directly the number of clusters with the fcluster function."
   ]
  },
  {
   "cell_type": "code",
   "execution_count": 58,
   "id": "d3f422c8",
   "metadata": {},
   "outputs": [
    {
     "name": "stdout",
     "output_type": "stream",
     "text": [
      "Cophenetic Correlation Coefficient: 0.7309596919115399\n"
     ]
    }
   ],
   "source": [
    "from scipy.cluster.hierarchy import cophenet\n",
    "from scipy.spatial.distance import pdist\n",
    "\n",
    "c, coph_dists = cophenet(Z, pdist(df_transposed_scaled))\n",
    "\n",
    "print(f\"Cophenetic Correlation Coefficient: {c}\")"
   ]
  },
  {
   "cell_type": "markdown",
   "id": "f9bd8c2b",
   "metadata": {},
   "source": [
    "This code uses the cophenet() function from scipy.cluster.hierarchy to compute the cophenetic correlation coefficient for hierarchical clustering.\n",
    "\n",
    "A higher cophenetic correlation coefficient closer to 1 indicates that the dendrogram represents the original distances well, suggesting a good hierarchical clustering. This metric provides an evaluation of the clustering structure obtained through hierarchical clustering."
   ]
  },
  {
   "cell_type": "code",
   "execution_count": 59,
   "id": "c890e537",
   "metadata": {},
   "outputs": [],
   "source": [
    "from sklearn.cluster import AgglomerativeClustering"
   ]
  },
  {
   "cell_type": "code",
   "execution_count": 60,
   "id": "b3ed2cb2",
   "metadata": {},
   "outputs": [
    {
     "data": {
      "image/png": "[encoded data removed]",
      "text/plain": [
       "<Figure size 576x432 with 1 Axes>"
      ]
     },
     "metadata": {
      "needs_background": "light"
     },
     "output_type": "display_data"
    }
   ],
   "source": [
    "silhouette_scores = []\n",
    "cluster_range = range(2, 27)\n",
    "for n_clusters in cluster_range:\n",
    "    cluster_labels = AgglomerativeClustering(n_clusters=n_clusters, linkage='ward').fit_predict(df_transposed)\n",
    "    silhouette_avg = silhouette_score(df_transposed, cluster_labels)\n",
    "    silhouette_scores.append(silhouette_avg)\n",
    "\n",
    "plt.figure(figsize=(8, 6))\n",
    "plt.bar(cluster_range, silhouette_scores)\n",
    "plt.xlabel('Number of Clusters')\n",
    "plt.ylabel('Silhouette Score')\n",
    "plt.title('Silhouette Scores for Different Numbers of Clusters')\n",
    "plt.show()"
   ]
  },
  {
   "cell_type": "markdown",
   "id": "06cb44e5",
   "metadata": {},
   "source": [
    "Silhouette score good for upto 10 clusters"
   ]
  },
  {
   "cell_type": "markdown",
   "id": "4f88e643",
   "metadata": {},
   "source": [
    "# Principal Component Analysis (PCA) followed by Clustering"
   ]
  },
  {
   "cell_type": "code",
   "execution_count": 61,
   "id": "37e4b903",
   "metadata": {},
   "outputs": [],
   "source": [
    "from sklearn.decomposition import PCA  "
   ]
  },
  {
   "cell_type": "code",
   "execution_count": 62,
   "id": "8b1317d7",
   "metadata": {},
   "outputs": [
    {
     "data": {
      "image/png": "[encoded data removed]",
      "text/plain": [
       "<Figure size 576x432 with 2 Axes>"
      ]
     },
     "metadata": {
      "needs_background": "light"
     },
     "output_type": "display_data"
    },
    {
     "name": "stdout",
     "output_type": "stream",
     "text": [
      "Cluster 0 members:\n",
      "['Chhattisgarh', 'Kerala', 'Odisha', 'Punjab']\n",
      "Cluster 1 members:\n",
      "['Assam', 'Tripura', 'Uttarakhand']\n",
      "Cluster 2 members:\n",
      "['Haryana', 'Karnataka', 'Rajasthan', 'Tamil Nadu', 'West Bengal']\n",
      "Cluster 3 members:\n",
      "['Uttar Pradesh']\n",
      "Cluster 4 members:\n",
      "['Andaman and Nicobar Island', 'Chandigarh', 'Goa', 'Himachal Pradesh', 'Jammu and Kashmir', 'Jharkhand', 'Manipur', 'Meghalaya', 'Nagaland', 'Puducherry']\n",
      "Cluster 5 members:\n",
      "['Delhi']\n",
      "Cluster 6 members:\n",
      "['Bihar']\n",
      "Cluster 7 members:\n",
      "['Gujarat', 'Maharashtra']\n",
      "                            Principal Component 1  Principal Component 2  \\\n",
      "State                                                                      \n",
      "Andaman and Nicobar Island              -0.526277              -0.096455   \n",
      "Assam                                   -0.211905               0.604054   \n",
      "Bihar                                   -0.115651               0.288407   \n",
      "Chandigarh                              -0.416818              -0.007835   \n",
      "Chhattisgarh                            -0.180623              -0.089635   \n",
      "Delhi                                    0.494198               0.524260   \n",
      "Goa                                     -0.445813              -0.104888   \n",
      "Gujarat                                  0.702242              -0.403153   \n",
      "Haryana                                  0.530436              -0.123611   \n",
      "Himachal Pradesh                        -0.463894              -0.177487   \n",
      "Jammu and Kashmir                       -0.426315              -0.037863   \n",
      "Jharkhand                               -0.317371              -0.078479   \n",
      "Karnataka                                0.482321              -0.129120   \n",
      "Kerala                                   0.054551              -0.252323   \n",
      "Maharashtra                              0.735190              -0.320424   \n",
      "Manipur                                 -0.503602              -0.103702   \n",
      "Meghalaya                               -0.512756              -0.188257   \n",
      "Nagaland                                -0.515076              -0.180024   \n",
      "Odisha                                  -0.217786              -0.150926   \n",
      "Puducherry                              -0.369832              -0.099640   \n",
      "Punjab                                  -0.099112              -0.229791   \n",
      "Rajasthan                                0.591565              -0.096267   \n",
      "Tamil Nadu                               0.510097              -0.240324   \n",
      "Tripura                                 -0.370907               0.711113   \n",
      "Uttarakhand                             -0.011221               0.651631   \n",
      "Uttar Pradesh                            1.330842               0.329478   \n",
      "West Bengal                              0.273514               0.001265   \n",
      "\n",
      "                            Cluster  \n",
      "State                                \n",
      "Andaman and Nicobar Island        4  \n",
      "Assam                             1  \n",
      "Bihar                             6  \n",
      "Chandigarh                        4  \n",
      "Chhattisgarh                      0  \n",
      "Delhi                             5  \n",
      "Goa                               4  \n",
      "Gujarat                           7  \n",
      "Haryana                           2  \n",
      "Himachal Pradesh                  4  \n",
      "Jammu and Kashmir                 4  \n",
      "Jharkhand                         4  \n",
      "Karnataka                         2  \n",
      "Kerala                            0  \n",
      "Maharashtra                       7  \n",
      "Manipur                           4  \n",
      "Meghalaya                         4  \n",
      "Nagaland                          4  \n",
      "Odisha                            0  \n",
      "Puducherry                        4  \n",
      "Punjab                            0  \n",
      "Rajasthan                         2  \n",
      "Tamil Nadu                        2  \n",
      "Tripura                           1  \n",
      "Uttarakhand                       1  \n",
      "Uttar Pradesh                     3  \n",
      "West Bengal                       2  \n"
     ]
    }
   ],
   "source": [
    "pca = PCA(n_components=2)   \n",
    "principal_components = pca.fit_transform(df_transposed_scaled)  \n",
    "  \n",
    "pca_df = pd.DataFrame(data = principal_components, columns = ['Principal Component 1', 'Principal Component 2'])  \n",
    "pca_df.index = df_transposed.index  \n",
    "  \n",
    "kmeans = KMeans(n_clusters=8, random_state=42)\n",
    "pca_df['Cluster'] = kmeans.fit_predict(pca_df[['Principal Component 1', 'Principal Component 2']])  \n",
    "  \n",
    "plt.figure(figsize=(8, 6))  \n",
    "plt.scatter(pca_df['Principal Component 1'], pca_df['Principal Component 2'], c=pca_df['Cluster'], cmap='viridis')  \n",
    "plt.title('PCA followed by Clustering')  \n",
    "plt.xlabel('Principal Component 1')  \n",
    "plt.ylabel('Principal Component 2')  \n",
    "plt.colorbar(label='Cluster')  \n",
    "plt.show()  \n",
    "  \n",
    "for cluster_number in sorted(pca_df['Cluster'].unique()):  \n",
    "    cluster_members = pca_df.index[pca_df['Cluster'] == cluster_number].tolist()  \n",
    "    print(f\"Cluster {cluster_number} members:\")  \n",
    "    print(cluster_members)  \n",
    "\n",
    "print(pca_df)  "
   ]
  },
  {
   "cell_type": "markdown",
   "id": "a8dc9a02",
   "metadata": {},
   "source": [
    "Each point in the scatter plot represents a type of EV, and the color indicates the cluster assignment. This visualization can help to understand the different segments of EV types based on the reduced dimensions.\n",
    "\n",
    "Finally, this prints out the members of each cluster, which are the types of EVs that fall into each segment. We can then examine these clusters to help inform your decision on which EV type to invest in."
   ]
  },
  {
   "cell_type": "markdown",
   "id": "b9cbfa20",
   "metadata": {},
   "source": [
    "# Gaussian Mixture Models (GMMs)"
   ]
  },
  {
   "cell_type": "code",
   "execution_count": 63,
   "id": "648ceecf",
   "metadata": {},
   "outputs": [],
   "source": [
    "from sklearn.mixture import GaussianMixture     "
   ]
  },
  {
   "cell_type": "code",
   "execution_count": 64,
   "id": "c479428d",
   "metadata": {},
   "outputs": [],
   "source": [
    "n_components = 3  \n",
    "\n",
    "gmm = GaussianMixture(n_components=n_components, random_state=42)  \n",
    "gmm_clusters = gmm.fit_predict(df_transposed_scaled)  \n",
    "  \n",
    "df_transposed['Cluster'] = gmm_clusters   "
   ]
  },
  {
   "cell_type": "markdown",
   "id": "b7c10b71",
   "metadata": {},
   "source": [
    "Model selection using BIC and AIC to find the best number of components  "
   ]
  },
  {
   "cell_type": "code",
   "execution_count": 65,
   "id": "4e5bb32e",
   "metadata": {},
   "outputs": [
    {
     "data": {
      "image/png": "[encoded data removed]",
      "text/plain": [
       "<Figure size 432x288 with 1 Axes>"
      ]
     },
     "metadata": {
      "needs_background": "light"
     },
     "output_type": "display_data"
    }
   ],
   "source": [
    "bic_scores = []  \n",
    "n_components_range = range(2, 28)\n",
    "for n_components in n_components_range:  \n",
    "    gmm = GaussianMixture(n_components=n_components, random_state=42)  \n",
    "    gmm.fit(df_transposed_scaled)  \n",
    "    bic_scores.append(gmm.bic(df_transposed_scaled))  \n",
    "\n",
    "plt.plot(n_components_range, bic_scores, marker='o')  \n",
    "plt.title('BIC Score per Number of Components')  \n",
    "plt.xlabel('Number of Components')  \n",
    "plt.ylabel('BIC Score')  \n",
    "plt.show()  "
   ]
  },
  {
   "cell_type": "code",
   "execution_count": 66,
   "id": "39206deb",
   "metadata": {},
   "outputs": [
    {
     "data": {
      "image/png": "[encoded data removed]",
      "text/plain": [
       "<Figure size 432x288 with 1 Axes>"
      ]
     },
     "metadata": {
      "needs_background": "light"
     },
     "output_type": "display_data"
    }
   ],
   "source": [
    "aic_scores = []  \n",
    "n_components_range = range(2, 28)  \n",
    "for n_components in n_components_range:  \n",
    "    gmm = GaussianMixture(n_components=n_components, random_state=42)  \n",
    "    gmm.fit(df_transposed_scaled)  \n",
    "    aic_scores.append(gmm.aic(df_transposed_scaled))  \n",
    "  \n",
    "plt.plot(n_components_range, aic_scores, marker='o')  \n",
    "plt.title('AIC Score per Number of Components')  \n",
    "plt.xlabel('Number of Components')  \n",
    "plt.ylabel('AIC Score')  \n",
    "plt.show()  "
   ]
  },
  {
   "cell_type": "markdown",
   "id": "023f1c85",
   "metadata": {},
   "source": [
    "This code calculates and plots BIC and AIC values for different numbers of components (clusters) in GMM.\n",
    "\n",
    "The optimal number of components can be chosen based on the point where BIC or AIC reaches a minimum value. Lower BIC or AIC values indicate a better model fit, representing the most suitable number of clusters for the GMM.  \n",
    "\n",
    "As here it is 7!"
   ]
  },
  {
   "cell_type": "markdown",
   "id": "c876029d",
   "metadata": {},
   "source": [
    "# Profiling of Segments"
   ]
  },
  {
   "cell_type": "code",
   "execution_count": 67,
   "id": "61b8cc3f",
   "metadata": {},
   "outputs": [],
   "source": [
    "df_transposed = df_transposed.drop('Cluster',axis=1)"
   ]
  },
  {
   "cell_type": "code",
   "execution_count": 68,
   "id": "e104bef4",
   "metadata": {},
   "outputs": [
    {
     "name": "stdout",
     "output_type": "stream",
     "text": [
      "Cluster 0 members:\n",
      "['Haryana', 'Karnataka', 'Rajasthan', 'Tamil Nadu', 'West Bengal']\n",
      "Cluster 1 members:\n",
      "['Andaman and Nicobar Island', 'Chandigarh', 'Chhattisgarh', 'Goa', 'Himachal Pradesh', 'Jharkhand', 'Kerala', 'Manipur', 'Meghalaya', 'Nagaland', 'Odisha', 'Puducherry', 'Punjab']\n",
      "Cluster 2 members:\n",
      "['Uttar Pradesh']\n",
      "Cluster 3 members:\n",
      "['Gujarat', 'Maharashtra']\n",
      "Cluster 4 members:\n",
      "['Uttarakhand']\n",
      "Cluster 5 members:\n",
      "['Jammu and Kashmir']\n",
      "Cluster 6 members:\n",
      "['Assam', 'Bihar', 'Delhi', 'Tripura']\n"
     ]
    }
   ],
   "source": [
    "scaler = MinMaxScaler()  \n",
    "df_transposed_scaled = scaler.fit_transform(df_transposed)  \n",
    "k = 7    \n",
    "kmeans = KMeans(n_clusters=k, random_state=42)  \n",
    "clusters = kmeans.fit_predict(df_transposed_scaled)  \n",
    "df_transposed['Cluster'] = clusters  "
   ]
  },
  {
   "cell_type": "code",
   "execution_count": 69,
   "id": "0919dc69",
   "metadata": {},
   "outputs": [],
   "source": [
    "df_transposed['Cluster'] = clusters"
   ]
  },
  {
   "cell_type": "code",
   "execution_count": 70,
   "id": "c3c72a7d",
   "metadata": {},
   "outputs": [
    {
     "data": {
      "text/html": [
       "<div>\n",
       "<style scoped>\n",
       "    .dataframe tbody tr th:only-of-type {\n",
       "        vertical-align: middle;\n",
       "    }\n",
       "\n",
       "    .dataframe tbody tr th {\n",
       "        vertical-align: top;\n",
       "    }\n",
       "\n",
       "    .dataframe thead tr th {\n",
       "        text-align: left;\n",
       "    }\n",
       "\n",
       "    .dataframe thead tr:last-of-type th {\n",
       "        text-align: right;\n",
       "    }\n",
       "</style>\n",
       "<table border=\"1\" class=\"dataframe\">\n",
       "  <thead>\n",
       "    <tr>\n",
       "      <th></th>\n",
       "      <th colspan=\"5\" halign=\"left\">2W</th>\n",
       "      <th colspan=\"5\" halign=\"left\">3W</th>\n",
       "      <th>...</th>\n",
       "      <th colspan=\"5\" halign=\"left\">Total number of active Electric Vehicles as on 08.12.2021</th>\n",
       "      <th colspan=\"5\" halign=\"left\">Percent EV</th>\n",
       "    </tr>\n",
       "    <tr>\n",
       "      <th></th>\n",
       "      <th>mean</th>\n",
       "      <th>median</th>\n",
       "      <th>std</th>\n",
       "      <th>min</th>\n",
       "      <th>max</th>\n",
       "      <th>mean</th>\n",
       "      <th>median</th>\n",
       "      <th>std</th>\n",
       "      <th>min</th>\n",
       "      <th>max</th>\n",
       "      <th>...</th>\n",
       "      <th>mean</th>\n",
       "      <th>median</th>\n",
       "      <th>std</th>\n",
       "      <th>min</th>\n",
       "      <th>max</th>\n",
       "      <th>mean</th>\n",
       "      <th>median</th>\n",
       "      <th>std</th>\n",
       "      <th>min</th>\n",
       "      <th>max</th>\n",
       "    </tr>\n",
       "    <tr>\n",
       "      <th>Cluster</th>\n",
       "      <th></th>\n",
       "      <th></th>\n",
       "      <th></th>\n",
       "      <th></th>\n",
       "      <th></th>\n",
       "      <th></th>\n",
       "      <th></th>\n",
       "      <th></th>\n",
       "      <th></th>\n",
       "      <th></th>\n",
       "      <th></th>\n",
       "      <th></th>\n",
       "      <th></th>\n",
       "      <th></th>\n",
       "      <th></th>\n",
       "      <th></th>\n",
       "      <th></th>\n",
       "      <th></th>\n",
       "      <th></th>\n",
       "      <th></th>\n",
       "      <th></th>\n",
       "    </tr>\n",
       "  </thead>\n",
       "  <tbody>\n",
       "    <tr>\n",
       "      <th>0</th>\n",
       "      <td>11437.800000</td>\n",
       "      <td>11564.0</td>\n",
       "      <td>4864.874942</td>\n",
       "      <td>5140.0</td>\n",
       "      <td>18574.0</td>\n",
       "      <td>45.000000</td>\n",
       "      <td>3.0</td>\n",
       "      <td>62.341800</td>\n",
       "      <td>0.0</td>\n",
       "      <td>137.0</td>\n",
       "      <td>...</td>\n",
       "      <td>46535.400000</td>\n",
       "      <td>45368.0</td>\n",
       "      <td>16971.705477</td>\n",
       "      <td>24379</td>\n",
       "      <td>72018</td>\n",
       "      <td>0.002537</td>\n",
       "      <td>0.002749</td>\n",
       "      <td>0.000622</td>\n",
       "      <td>0.001567</td>\n",
       "      <td>0.003193</td>\n",
       "    </tr>\n",
       "    <tr>\n",
       "      <th>1</th>\n",
       "      <td>1721.384615</td>\n",
       "      <td>1039.0</td>\n",
       "      <td>2008.679522</td>\n",
       "      <td>0.0</td>\n",
       "      <td>5471.0</td>\n",
       "      <td>30.769231</td>\n",
       "      <td>5.0</td>\n",
       "      <td>55.773581</td>\n",
       "      <td>0.0</td>\n",
       "      <td>164.0</td>\n",
       "      <td>...</td>\n",
       "      <td>4556.923077</td>\n",
       "      <td>1393.0</td>\n",
       "      <td>5144.663310</td>\n",
       "      <td>31</td>\n",
       "      <td>12109</td>\n",
       "      <td>0.001064</td>\n",
       "      <td>0.001094</td>\n",
       "      <td>0.000691</td>\n",
       "      <td>0.000071</td>\n",
       "      <td>0.002487</td>\n",
       "    </tr>\n",
       "    <tr>\n",
       "      <th>2</th>\n",
       "      <td>20508.000000</td>\n",
       "      <td>20508.0</td>\n",
       "      <td>NaN</td>\n",
       "      <td>20508.0</td>\n",
       "      <td>20508.0</td>\n",
       "      <td>256.000000</td>\n",
       "      <td>256.0</td>\n",
       "      <td>NaN</td>\n",
       "      <td>256.0</td>\n",
       "      <td>256.0</td>\n",
       "      <td>...</td>\n",
       "      <td>258105.000000</td>\n",
       "      <td>258105.0</td>\n",
       "      <td>NaN</td>\n",
       "      <td>258105</td>\n",
       "      <td>258105</td>\n",
       "      <td>0.006682</td>\n",
       "      <td>0.006682</td>\n",
       "      <td>NaN</td>\n",
       "      <td>0.006682</td>\n",
       "      <td>0.006682</td>\n",
       "    </tr>\n",
       "    <tr>\n",
       "      <th>3</th>\n",
       "      <td>15374.000000</td>\n",
       "      <td>15374.0</td>\n",
       "      <td>708.520995</td>\n",
       "      <td>14873.0</td>\n",
       "      <td>15875.0</td>\n",
       "      <td>6.500000</td>\n",
       "      <td>6.5</td>\n",
       "      <td>3.535534</td>\n",
       "      <td>4.0</td>\n",
       "      <td>9.0</td>\n",
       "      <td>...</td>\n",
       "      <td>33214.500000</td>\n",
       "      <td>33214.5</td>\n",
       "      <td>28205.782395</td>\n",
       "      <td>13270</td>\n",
       "      <td>53159</td>\n",
       "      <td>0.001228</td>\n",
       "      <td>0.001228</td>\n",
       "      <td>0.000788</td>\n",
       "      <td>0.000671</td>\n",
       "      <td>0.001785</td>\n",
       "    </tr>\n",
       "    <tr>\n",
       "      <th>4</th>\n",
       "      <td>13235.000000</td>\n",
       "      <td>13235.0</td>\n",
       "      <td>NaN</td>\n",
       "      <td>13235.0</td>\n",
       "      <td>13235.0</td>\n",
       "      <td>40898.000000</td>\n",
       "      <td>40898.0</td>\n",
       "      <td>NaN</td>\n",
       "      <td>40898.0</td>\n",
       "      <td>40898.0</td>\n",
       "      <td>...</td>\n",
       "      <td>23524.000000</td>\n",
       "      <td>23524.0</td>\n",
       "      <td>NaN</td>\n",
       "      <td>23524</td>\n",
       "      <td>23524</td>\n",
       "      <td>0.007289</td>\n",
       "      <td>0.007289</td>\n",
       "      <td>NaN</td>\n",
       "      <td>0.007289</td>\n",
       "      <td>0.007289</td>\n",
       "    </tr>\n",
       "    <tr>\n",
       "      <th>5</th>\n",
       "      <td>5214.000000</td>\n",
       "      <td>5214.0</td>\n",
       "      <td>NaN</td>\n",
       "      <td>5214.0</td>\n",
       "      <td>5214.0</td>\n",
       "      <td>9348.000000</td>\n",
       "      <td>9348.0</td>\n",
       "      <td>NaN</td>\n",
       "      <td>9348.0</td>\n",
       "      <td>9348.0</td>\n",
       "      <td>...</td>\n",
       "      <td>1334.000000</td>\n",
       "      <td>1334.0</td>\n",
       "      <td>NaN</td>\n",
       "      <td>1334</td>\n",
       "      <td>1334</td>\n",
       "      <td>0.000755</td>\n",
       "      <td>0.000755</td>\n",
       "      <td>NaN</td>\n",
       "      <td>0.000755</td>\n",
       "      <td>0.000755</td>\n",
       "    </tr>\n",
       "    <tr>\n",
       "      <th>6</th>\n",
       "      <td>2793.500000</td>\n",
       "      <td>2218.5</td>\n",
       "      <td>2816.085048</td>\n",
       "      <td>73.0</td>\n",
       "      <td>6664.0</td>\n",
       "      <td>47.000000</td>\n",
       "      <td>35.5</td>\n",
       "      <td>57.020464</td>\n",
       "      <td>0.0</td>\n",
       "      <td>117.0</td>\n",
       "      <td>...</td>\n",
       "      <td>58904.750000</td>\n",
       "      <td>51181.0</td>\n",
       "      <td>49755.007188</td>\n",
       "      <td>7146</td>\n",
       "      <td>126111</td>\n",
       "      <td>0.009314</td>\n",
       "      <td>0.009962</td>\n",
       "      <td>0.002324</td>\n",
       "      <td>0.005975</td>\n",
       "      <td>0.011358</td>\n",
       "    </tr>\n",
       "  </tbody>\n",
       "</table>\n",
       "<p>7 rows × 40 columns</p>\n",
       "</div>"
      ],
      "text/plain": [
       "                   2W                                                    3W  \\\n",
       "                 mean   median          std      min      max          mean   \n",
       "Cluster                                                                       \n",
       "0        11437.800000  11564.0  4864.874942   5140.0  18574.0     45.000000   \n",
       "1         1721.384615   1039.0  2008.679522      0.0   5471.0     30.769231   \n",
       "2        20508.000000  20508.0          NaN  20508.0  20508.0    256.000000   \n",
       "3        15374.000000  15374.0   708.520995  14873.0  15875.0      6.500000   \n",
       "4        13235.000000  13235.0          NaN  13235.0  13235.0  40898.000000   \n",
       "5         5214.000000   5214.0          NaN   5214.0   5214.0   9348.000000   \n",
       "6         2793.500000   2218.5  2816.085048     73.0   6664.0     47.000000   \n",
       "\n",
       "                                               ...  \\\n",
       "          median        std      min      max  ...   \n",
       "Cluster                                        ...   \n",
       "0            3.0  62.341800      0.0    137.0  ...   \n",
       "1            5.0  55.773581      0.0    164.0  ...   \n",
       "2          256.0        NaN    256.0    256.0  ...   \n",
       "3            6.5   3.535534      4.0      9.0  ...   \n",
       "4        40898.0        NaN  40898.0  40898.0  ...   \n",
       "5         9348.0        NaN   9348.0   9348.0  ...   \n",
       "6           35.5  57.020464      0.0    117.0  ...   \n",
       "\n",
       "        Total number of active Electric Vehicles as on 08.12.2021            \\\n",
       "                                                             mean    median   \n",
       "Cluster                                                                       \n",
       "0                                             46535.400000          45368.0   \n",
       "1                                              4556.923077           1393.0   \n",
       "2                                            258105.000000         258105.0   \n",
       "3                                             33214.500000          33214.5   \n",
       "4                                             23524.000000          23524.0   \n",
       "5                                              1334.000000           1334.0   \n",
       "6                                             58904.750000          51181.0   \n",
       "\n",
       "                                      Percent EV                      \\\n",
       "                  std     min     max       mean    median       std   \n",
       "Cluster                                                                \n",
       "0        16971.705477   24379   72018   0.002537  0.002749  0.000622   \n",
       "1         5144.663310      31   12109   0.001064  0.001094  0.000691   \n",
       "2                 NaN  258105  258105   0.006682  0.006682       NaN   \n",
       "3        28205.782395   13270   53159   0.001228  0.001228  0.000788   \n",
       "4                 NaN   23524   23524   0.007289  0.007289       NaN   \n",
       "5                 NaN    1334    1334   0.000755  0.000755       NaN   \n",
       "6        49755.007188    7146  126111   0.009314  0.009962  0.002324   \n",
       "\n",
       "                             \n",
       "              min       max  \n",
       "Cluster                      \n",
       "0        0.001567  0.003193  \n",
       "1        0.000071  0.002487  \n",
       "2        0.006682  0.006682  \n",
       "3        0.000671  0.001785  \n",
       "4        0.007289  0.007289  \n",
       "5        0.000755  0.000755  \n",
       "6        0.005975  0.011358  \n",
       "\n",
       "[7 rows x 40 columns]"
      ]
     },
     "execution_count": 70,
     "metadata": {},
     "output_type": "execute_result"
    }
   ],
   "source": [
    "cluster_stats = df_transposed.groupby('Cluster').agg(['mean', 'median', 'std', 'min', 'max'])\n",
    "cluster_stats"
   ]
  },
  {
   "cell_type": "code",
   "execution_count": 71,
   "id": "34073ae2",
   "metadata": {},
   "outputs": [
    {
     "data": {
      "image/png": "[encoded data removed]",
      "text/plain": [
       "<Figure size 936x2160 with 8 Axes>"
      ]
     },
     "metadata": {
      "needs_background": "light"
     },
     "output_type": "display_data"
    }
   ],
   "source": [
    "selected_features = df_transposed.columns[:-1]\n",
    "fig, axes = plt.subplots(len(selected_features), 1, figsize=(13, 30), sharex=True)\n",
    "\n",
    "for idx, feature in enumerate(selected_features):\n",
    "    sns.boxplot(x='Cluster', y=feature, data=df_transposed, ax=axes[idx])\n",
    "    axes[idx].set_title(f'{feature} Distribution Across Clusters')\n",
    "    axes[idx].set_xlabel('Cluster')\n",
    "    axes[idx].set_ylabel(feature)\n",
    "plt.tight_layout()\n",
    "plt.show()"
   ]
  },
  {
   "cell_type": "markdown",
   "id": "f49b0017",
   "metadata": {},
   "source": [
    "Visualization: Visualized feature centroids for each cluster using scatter plot."
   ]
  },
  {
   "cell_type": "code",
   "execution_count": 72,
   "id": "5861e982",
   "metadata": {},
   "outputs": [
    {
     "data": {
      "image/png": "[encoded data removed]",
      "text/plain": [
       "<Figure size 432x288 with 1 Axes>"
      ]
     },
     "metadata": {
      "needs_background": "light"
     },
     "output_type": "display_data"
    }
   ],
   "source": [
    "centroids_pca = kmeans.cluster_centers_\n",
    "\n",
    "plt.scatter(pca_df['Principal Component 1'], pca_df['Principal Component 2'], c=kmeans.labels_, cmap='viridis', label='Data Points')\n",
    "\n",
    "plt.scatter(centroids_pca[:, 0], centroids_pca[:, 1], marker='o', s=200, c='red', edgecolor='black', label='Centroids')\n",
    "\n",
    "plt.title('PCA with Centroids for K-Means Clustering')\n",
    "plt.xlabel('Principal Component 1')\n",
    "plt.ylabel('Principal Component 2')\n",
    "plt.legend()\n",
    "plt.show()"
   ]
  },
  {
   "cell_type": "code",
   "execution_count": 73,
   "id": "cdf52c17",
   "metadata": {},
   "outputs": [
    {
     "data": {
      "image/png": "[encoded data removed]",
      "text/plain": [
       "<Figure size 432x288 with 1 Axes>"
      ]
     },
     "metadata": {
      "needs_background": "light"
     },
     "output_type": "display_data"
    }
   ],
   "source": [
    "centroids_gmm = gmm.means_\n",
    "\n",
    "plt.scatter(pca_df['Principal Component 1'], pca_df['Principal Component 2'], c=kmeans.labels_, cmap='viridis', label='Data Points')\n",
    "\n",
    "plt.scatter(centroids_gmm[:, 0], centroids_gmm[:, 1], marker='o', s=200, c='red', edgecolor='black', label='Centroids')\n",
    "\n",
    "plt.title('PCA with Centroids for K-Means Clustering')\n",
    "plt.xlabel('Principal Component 1')\n",
    "plt.ylabel('Principal Component 2')\n",
    "plt.legend()\n",
    "plt.show()\n"
   ]
  },
  {
   "cell_type": "markdown",
   "id": "644ab9a1",
   "metadata": {},
   "source": [
    "Feature Importance and Contribution: Identify which features contribute most to cluster separation or explain the differences between clusters."
   ]
  },
  {
   "cell_type": "markdown",
   "id": "529b0100",
   "metadata": {},
   "source": [
    "To determine feature importance or contribution to clusters after performing clustering and obtaining cluster labels, we can analyze how features contribute to cluster separation. One common method is to examine the average values of features within each cluster compared to the overall dataset average."
   ]
  },
  {
   "cell_type": "code",
   "execution_count": 74,
   "id": "7cbcbd3a",
   "metadata": {},
   "outputs": [
    {
     "data": {
      "text/html": [
       "<div>\n",
       "<style scoped>\n",
       "    .dataframe tbody tr th:only-of-type {\n",
       "        vertical-align: middle;\n",
       "    }\n",
       "\n",
       "    .dataframe tbody tr th {\n",
       "        vertical-align: top;\n",
       "    }\n",
       "\n",
       "    .dataframe thead th {\n",
       "        text-align: right;\n",
       "    }\n",
       "</style>\n",
       "<table border=\"1\" class=\"dataframe\">\n",
       "  <thead>\n",
       "    <tr style=\"text-align: right;\">\n",
       "      <th></th>\n",
       "      <th>2W</th>\n",
       "      <th>3W</th>\n",
       "      <th>4W</th>\n",
       "      <th>Buses</th>\n",
       "      <th>No of RO's where EV Charging Facility available</th>\n",
       "      <th>Total Number of active Vehicle as on 08.12.2021</th>\n",
       "      <th>Total number of active Electric Vehicles as on 08.12.2021</th>\n",
       "      <th>Percent EV</th>\n",
       "      <th>Cluster</th>\n",
       "    </tr>\n",
       "    <tr>\n",
       "      <th>State</th>\n",
       "      <th></th>\n",
       "      <th></th>\n",
       "      <th></th>\n",
       "      <th></th>\n",
       "      <th></th>\n",
       "      <th></th>\n",
       "      <th></th>\n",
       "      <th></th>\n",
       "      <th></th>\n",
       "    </tr>\n",
       "  </thead>\n",
       "  <tbody>\n",
       "    <tr>\n",
       "      <th>Andaman and Nicobar Island</th>\n",
       "      <td>22</td>\n",
       "      <td>30</td>\n",
       "      <td>95</td>\n",
       "      <td>40</td>\n",
       "      <td>0.0</td>\n",
       "      <td>143529</td>\n",
       "      <td>157</td>\n",
       "      <td>0.001094</td>\n",
       "      <td>1</td>\n",
       "    </tr>\n",
       "    <tr>\n",
       "      <th>Assam</th>\n",
       "      <td>1607.0</td>\n",
       "      <td>117.0</td>\n",
       "      <td>151.0</td>\n",
       "      <td>0.0</td>\n",
       "      <td>19.0</td>\n",
       "      <td>4445227</td>\n",
       "      <td>43707</td>\n",
       "      <td>0.009832</td>\n",
       "      <td>6</td>\n",
       "    </tr>\n",
       "    <tr>\n",
       "      <th>Bihar</th>\n",
       "      <td>2830.0</td>\n",
       "      <td>70.0</td>\n",
       "      <td>271.0</td>\n",
       "      <td>0.0</td>\n",
       "      <td>26.0</td>\n",
       "      <td>9816784</td>\n",
       "      <td>58655</td>\n",
       "      <td>0.005975</td>\n",
       "      <td>6</td>\n",
       "    </tr>\n",
       "    <tr>\n",
       "      <th>Chandigarh</th>\n",
       "      <td>1526.0</td>\n",
       "      <td>0.0</td>\n",
       "      <td>974.0</td>\n",
       "      <td>0.0</td>\n",
       "      <td>4.0</td>\n",
       "      <td>720272</td>\n",
       "      <td>1791</td>\n",
       "      <td>0.002487</td>\n",
       "      <td>1</td>\n",
       "    </tr>\n",
       "    <tr>\n",
       "      <th>Chhattisgarh</th>\n",
       "      <td>3073.0</td>\n",
       "      <td>164.0</td>\n",
       "      <td>997.0</td>\n",
       "      <td>0.0</td>\n",
       "      <td>51.0</td>\n",
       "      <td>6575832</td>\n",
       "      <td>11998</td>\n",
       "      <td>0.001825</td>\n",
       "      <td>1</td>\n",
       "    </tr>\n",
       "    <tr>\n",
       "      <th>Delhi</th>\n",
       "      <td>6664.0</td>\n",
       "      <td>1.0</td>\n",
       "      <td>12695.0</td>\n",
       "      <td>21.0</td>\n",
       "      <td>66.0</td>\n",
       "      <td>12496058</td>\n",
       "      <td>126111</td>\n",
       "      <td>0.010092</td>\n",
       "      <td>6</td>\n",
       "    </tr>\n",
       "    <tr>\n",
       "      <th>Goa</th>\n",
       "      <td>0.0</td>\n",
       "      <td>0.0</td>\n",
       "      <td>513.0</td>\n",
       "      <td>1.0</td>\n",
       "      <td>17.0</td>\n",
       "      <td>1036568</td>\n",
       "      <td>1315</td>\n",
       "      <td>0.001269</td>\n",
       "      <td>1</td>\n",
       "    </tr>\n",
       "    <tr>\n",
       "      <th>Gujarat</th>\n",
       "      <td>15875.0</td>\n",
       "      <td>4.0</td>\n",
       "      <td>15388.0</td>\n",
       "      <td>0.0</td>\n",
       "      <td>87.0</td>\n",
       "      <td>19780771</td>\n",
       "      <td>13270</td>\n",
       "      <td>0.000671</td>\n",
       "      <td>3</td>\n",
       "    </tr>\n",
       "    <tr>\n",
       "      <th>Haryana</th>\n",
       "      <td>18574.0</td>\n",
       "      <td>137.0</td>\n",
       "      <td>4878.0</td>\n",
       "      <td>0.0</td>\n",
       "      <td>114.0</td>\n",
       "      <td>10437108</td>\n",
       "      <td>24379</td>\n",
       "      <td>0.002336</td>\n",
       "      <td>0</td>\n",
       "    </tr>\n",
       "    <tr>\n",
       "      <th>Himachal Pradesh</th>\n",
       "      <td>0.0</td>\n",
       "      <td>0.0</td>\n",
       "      <td>98.0</td>\n",
       "      <td>0.0</td>\n",
       "      <td>13.0</td>\n",
       "      <td>1897442</td>\n",
       "      <td>623</td>\n",
       "      <td>0.000328</td>\n",
       "      <td>1</td>\n",
       "    </tr>\n",
       "    <tr>\n",
       "      <th>Jammu and Kashmir</th>\n",
       "      <td>5214</td>\n",
       "      <td>9348</td>\n",
       "      <td>199</td>\n",
       "      <td>187</td>\n",
       "      <td>3.0</td>\n",
       "      <td>1766726</td>\n",
       "      <td>1334</td>\n",
       "      <td>0.000755</td>\n",
       "      <td>5</td>\n",
       "    </tr>\n",
       "    <tr>\n",
       "      <th>Jharkhand</th>\n",
       "      <td>1039.0</td>\n",
       "      <td>16.0</td>\n",
       "      <td>655.0</td>\n",
       "      <td>0.0</td>\n",
       "      <td>22.0</td>\n",
       "      <td>6219796</td>\n",
       "      <td>11060</td>\n",
       "      <td>0.001778</td>\n",
       "      <td>1</td>\n",
       "    </tr>\n",
       "    <tr>\n",
       "      <th>Karnataka</th>\n",
       "      <td>5140.0</td>\n",
       "      <td>2.0</td>\n",
       "      <td>8242.0</td>\n",
       "      <td>2.0</td>\n",
       "      <td>100.0</td>\n",
       "      <td>26196853</td>\n",
       "      <td>72018</td>\n",
       "      <td>0.002749</td>\n",
       "      <td>0</td>\n",
       "    </tr>\n",
       "    <tr>\n",
       "      <th>Kerala</th>\n",
       "      <td>5471.0</td>\n",
       "      <td>1.0</td>\n",
       "      <td>5729.0</td>\n",
       "      <td>1.0</td>\n",
       "      <td>39.0</td>\n",
       "      <td>15348141</td>\n",
       "      <td>12109</td>\n",
       "      <td>0.000789</td>\n",
       "      <td>1</td>\n",
       "    </tr>\n",
       "    <tr>\n",
       "      <th>Maharashtra</th>\n",
       "      <td>14873.0</td>\n",
       "      <td>9.0</td>\n",
       "      <td>19129.0</td>\n",
       "      <td>2.0</td>\n",
       "      <td>0.0</td>\n",
       "      <td>29777450</td>\n",
       "      <td>53159</td>\n",
       "      <td>0.001785</td>\n",
       "      <td>3</td>\n",
       "    </tr>\n",
       "    <tr>\n",
       "      <th>Manipur</th>\n",
       "      <td>35.0</td>\n",
       "      <td>5.0</td>\n",
       "      <td>12.0</td>\n",
       "      <td>0.0</td>\n",
       "      <td>1.0</td>\n",
       "      <td>461063</td>\n",
       "      <td>519</td>\n",
       "      <td>0.001126</td>\n",
       "      <td>1</td>\n",
       "    </tr>\n",
       "    <tr>\n",
       "      <th>Meghalaya</th>\n",
       "      <td>0.0</td>\n",
       "      <td>0.0</td>\n",
       "      <td>6.0</td>\n",
       "      <td>0.0</td>\n",
       "      <td>3.0</td>\n",
       "      <td>437069</td>\n",
       "      <td>31</td>\n",
       "      <td>0.000071</td>\n",
       "      <td>1</td>\n",
       "    </tr>\n",
       "    <tr>\n",
       "      <th>Nagaland</th>\n",
       "      <td>23.0</td>\n",
       "      <td>0.0</td>\n",
       "      <td>1.0</td>\n",
       "      <td>0.0</td>\n",
       "      <td>2.0</td>\n",
       "      <td>323087</td>\n",
       "      <td>53</td>\n",
       "      <td>0.000164</td>\n",
       "      <td>1</td>\n",
       "    </tr>\n",
       "    <tr>\n",
       "      <th>Odisha</th>\n",
       "      <td>3232.0</td>\n",
       "      <td>37.0</td>\n",
       "      <td>594.0</td>\n",
       "      <td>0.0</td>\n",
       "      <td>26.0</td>\n",
       "      <td>9507366</td>\n",
       "      <td>10001</td>\n",
       "      <td>0.001052</td>\n",
       "      <td>1</td>\n",
       "    </tr>\n",
       "    <tr>\n",
       "      <th>Puducherry</th>\n",
       "      <td>4991</td>\n",
       "      <td>142</td>\n",
       "      <td>169</td>\n",
       "      <td>20</td>\n",
       "      <td>0.0</td>\n",
       "      <td>1186091</td>\n",
       "      <td>1393</td>\n",
       "      <td>0.001174</td>\n",
       "      <td>1</td>\n",
       "    </tr>\n",
       "    <tr>\n",
       "      <th>Punjab</th>\n",
       "      <td>2966.0</td>\n",
       "      <td>5.0</td>\n",
       "      <td>3567.0</td>\n",
       "      <td>0.0</td>\n",
       "      <td>41.0</td>\n",
       "      <td>12128139</td>\n",
       "      <td>8190</td>\n",
       "      <td>0.000675</td>\n",
       "      <td>1</td>\n",
       "    </tr>\n",
       "    <tr>\n",
       "      <th>Rajasthan</th>\n",
       "      <td>11564.0</td>\n",
       "      <td>83.0</td>\n",
       "      <td>4116.0</td>\n",
       "      <td>0.0</td>\n",
       "      <td>174.0</td>\n",
       "      <td>16711095</td>\n",
       "      <td>47480</td>\n",
       "      <td>0.002841</td>\n",
       "      <td>0</td>\n",
       "    </tr>\n",
       "    <tr>\n",
       "      <th>Tamil Nadu</th>\n",
       "      <td>9614.0</td>\n",
       "      <td>0.0</td>\n",
       "      <td>7132.0</td>\n",
       "      <td>0.0</td>\n",
       "      <td>76.0</td>\n",
       "      <td>28953331</td>\n",
       "      <td>45368</td>\n",
       "      <td>0.001567</td>\n",
       "      <td>0</td>\n",
       "    </tr>\n",
       "    <tr>\n",
       "      <th>Tripura</th>\n",
       "      <td>73.0</td>\n",
       "      <td>0.0</td>\n",
       "      <td>8.0</td>\n",
       "      <td>0.0</td>\n",
       "      <td>3.0</td>\n",
       "      <td>629174</td>\n",
       "      <td>7146</td>\n",
       "      <td>0.011358</td>\n",
       "      <td>6</td>\n",
       "    </tr>\n",
       "    <tr>\n",
       "      <th>Uttarakhand</th>\n",
       "      <td>13235</td>\n",
       "      <td>40898</td>\n",
       "      <td>939</td>\n",
       "      <td>35</td>\n",
       "      <td>10.0</td>\n",
       "      <td>3227453</td>\n",
       "      <td>23524</td>\n",
       "      <td>0.007289</td>\n",
       "      <td>4</td>\n",
       "    </tr>\n",
       "    <tr>\n",
       "      <th>Uttar Pradesh</th>\n",
       "      <td>20508.0</td>\n",
       "      <td>256.0</td>\n",
       "      <td>5445.0</td>\n",
       "      <td>0.0</td>\n",
       "      <td>128.0</td>\n",
       "      <td>38628929</td>\n",
       "      <td>258105</td>\n",
       "      <td>0.006682</td>\n",
       "      <td>2</td>\n",
       "    </tr>\n",
       "    <tr>\n",
       "      <th>West Bengal</th>\n",
       "      <td>12297.0</td>\n",
       "      <td>3.0</td>\n",
       "      <td>1840.0</td>\n",
       "      <td>0.0</td>\n",
       "      <td>71.0</td>\n",
       "      <td>13600830</td>\n",
       "      <td>43432</td>\n",
       "      <td>0.003193</td>\n",
       "      <td>0</td>\n",
       "    </tr>\n",
       "  </tbody>\n",
       "</table>\n",
       "</div>"
      ],
      "text/plain": [
       "                                 2W     3W       4W Buses  \\\n",
       "State                                                       \n",
       "Andaman and Nicobar Island       22     30       95    40   \n",
       "Assam                        1607.0  117.0    151.0   0.0   \n",
       "Bihar                        2830.0   70.0    271.0   0.0   \n",
       "Chandigarh                   1526.0    0.0    974.0   0.0   \n",
       "Chhattisgarh                 3073.0  164.0    997.0   0.0   \n",
       "Delhi                        6664.0    1.0  12695.0  21.0   \n",
       "Goa                             0.0    0.0    513.0   1.0   \n",
       "Gujarat                     15875.0    4.0  15388.0   0.0   \n",
       "Haryana                     18574.0  137.0   4878.0   0.0   \n",
       "Himachal Pradesh                0.0    0.0     98.0   0.0   \n",
       "Jammu and Kashmir              5214   9348      199   187   \n",
       "Jharkhand                    1039.0   16.0    655.0   0.0   \n",
       "Karnataka                    5140.0    2.0   8242.0   2.0   \n",
       "Kerala                       5471.0    1.0   5729.0   1.0   \n",
       "Maharashtra                 14873.0    9.0  19129.0   2.0   \n",
       "Manipur                        35.0    5.0     12.0   0.0   \n",
       "Meghalaya                       0.0    0.0      6.0   0.0   \n",
       "Nagaland                       23.0    0.0      1.0   0.0   \n",
       "Odisha                       3232.0   37.0    594.0   0.0   \n",
       "Puducherry                     4991    142      169    20   \n",
       "Punjab                       2966.0    5.0   3567.0   0.0   \n",
       "Rajasthan                   11564.0   83.0   4116.0   0.0   \n",
       "Tamil Nadu                   9614.0    0.0   7132.0   0.0   \n",
       "Tripura                        73.0    0.0      8.0   0.0   \n",
       "Uttarakhand                   13235  40898      939    35   \n",
       "Uttar Pradesh               20508.0  256.0   5445.0   0.0   \n",
       "West Bengal                 12297.0    3.0   1840.0   0.0   \n",
       "\n",
       "                           No of RO's where EV Charging Facility available  \\\n",
       "State                                                                        \n",
       "Andaman and Nicobar Island                                             0.0   \n",
       "Assam                                                                 19.0   \n",
       "Bihar                                                                 26.0   \n",
       "Chandigarh                                                             4.0   \n",
       "Chhattisgarh                                                          51.0   \n",
       "Delhi                                                                 66.0   \n",
       "Goa                                                                   17.0   \n",
       "Gujarat                                                               87.0   \n",
       "Haryana                                                              114.0   \n",
       "Himachal Pradesh                                                      13.0   \n",
       "Jammu and Kashmir                                                      3.0   \n",
       "Jharkhand                                                             22.0   \n",
       "Karnataka                                                            100.0   \n",
       "Kerala                                                                39.0   \n",
       "Maharashtra                                                            0.0   \n",
       "Manipur                                                                1.0   \n",
       "Meghalaya                                                              3.0   \n",
       "Nagaland                                                               2.0   \n",
       "Odisha                                                                26.0   \n",
       "Puducherry                                                             0.0   \n",
       "Punjab                                                                41.0   \n",
       "Rajasthan                                                            174.0   \n",
       "Tamil Nadu                                                            76.0   \n",
       "Tripura                                                                3.0   \n",
       "Uttarakhand                                                           10.0   \n",
       "Uttar Pradesh                                                        128.0   \n",
       "West Bengal                                                           71.0   \n",
       "\n",
       "                           Total Number of active Vehicle as on 08.12.2021  \\\n",
       "State                                                                        \n",
       "Andaman and Nicobar Island                                          143529   \n",
       "Assam                                                              4445227   \n",
       "Bihar                                                              9816784   \n",
       "Chandigarh                                                          720272   \n",
       "Chhattisgarh                                                       6575832   \n",
       "Delhi                                                             12496058   \n",
       "Goa                                                                1036568   \n",
       "Gujarat                                                           19780771   \n",
       "Haryana                                                           10437108   \n",
       "Himachal Pradesh                                                   1897442   \n",
       "Jammu and Kashmir                                                  1766726   \n",
       "Jharkhand                                                          6219796   \n",
       "Karnataka                                                         26196853   \n",
       "Kerala                                                            15348141   \n",
       "Maharashtra                                                       29777450   \n",
       "Manipur                                                             461063   \n",
       "Meghalaya                                                           437069   \n",
       "Nagaland                                                            323087   \n",
       "Odisha                                                             9507366   \n",
       "Puducherry                                                         1186091   \n",
       "Punjab                                                            12128139   \n",
       "Rajasthan                                                         16711095   \n",
       "Tamil Nadu                                                        28953331   \n",
       "Tripura                                                             629174   \n",
       "Uttarakhand                                                        3227453   \n",
       "Uttar Pradesh                                                     38628929   \n",
       "West Bengal                                                       13600830   \n",
       "\n",
       "                           Total number of active Electric Vehicles as on 08.12.2021  \\\n",
       "State                                                                                  \n",
       "Andaman and Nicobar Island                                                157          \n",
       "Assam                                                                   43707          \n",
       "Bihar                                                                   58655          \n",
       "Chandigarh                                                               1791          \n",
       "Chhattisgarh                                                            11998          \n",
       "Delhi                                                                  126111          \n",
       "Goa                                                                      1315          \n",
       "Gujarat                                                                 13270          \n",
       "Haryana                                                                 24379          \n",
       "Himachal Pradesh                                                          623          \n",
       "Jammu and Kashmir                                                        1334          \n",
       "Jharkhand                                                               11060          \n",
       "Karnataka                                                               72018          \n",
       "Kerala                                                                  12109          \n",
       "Maharashtra                                                             53159          \n",
       "Manipur                                                                   519          \n",
       "Meghalaya                                                                  31          \n",
       "Nagaland                                                                   53          \n",
       "Odisha                                                                  10001          \n",
       "Puducherry                                                               1393          \n",
       "Punjab                                                                   8190          \n",
       "Rajasthan                                                               47480          \n",
       "Tamil Nadu                                                              45368          \n",
       "Tripura                                                                  7146          \n",
       "Uttarakhand                                                             23524          \n",
       "Uttar Pradesh                                                          258105          \n",
       "West Bengal                                                             43432          \n",
       "\n",
       "                           Percent EV  Cluster  \n",
       "State                                           \n",
       "Andaman and Nicobar Island   0.001094        1  \n",
       "Assam                        0.009832        6  \n",
       "Bihar                        0.005975        6  \n",
       "Chandigarh                   0.002487        1  \n",
       "Chhattisgarh                 0.001825        1  \n",
       "Delhi                        0.010092        6  \n",
       "Goa                          0.001269        1  \n",
       "Gujarat                      0.000671        3  \n",
       "Haryana                      0.002336        0  \n",
       "Himachal Pradesh             0.000328        1  \n",
       "Jammu and Kashmir            0.000755        5  \n",
       "Jharkhand                    0.001778        1  \n",
       "Karnataka                    0.002749        0  \n",
       "Kerala                       0.000789        1  \n",
       "Maharashtra                  0.001785        3  \n",
       "Manipur                      0.001126        1  \n",
       "Meghalaya                    0.000071        1  \n",
       "Nagaland                     0.000164        1  \n",
       "Odisha                       0.001052        1  \n",
       "Puducherry                   0.001174        1  \n",
       "Punjab                       0.000675        1  \n",
       "Rajasthan                    0.002841        0  \n",
       "Tamil Nadu                   0.001567        0  \n",
       "Tripura                      0.011358        6  \n",
       "Uttarakhand                  0.007289        4  \n",
       "Uttar Pradesh                0.006682        2  \n",
       "West Bengal                  0.003193        0  "
      ]
     },
     "execution_count": 74,
     "metadata": {},
     "output_type": "execute_result"
    }
   ],
   "source": [
    "df_transposed"
   ]
  },
  {
   "cell_type": "code",
   "execution_count": 75,
   "id": "b8daf48a",
   "metadata": {},
   "outputs": [],
   "source": [
    "df2 = df_transposed.drop(['No of RO\\'s where EV Charging Facility available','Total Number of active Vehicle as on 08.12.2021','Total number of active Electric Vehicles as on 08.12.2021','Percent EV'], axis=1)"
   ]
  },
  {
   "cell_type": "code",
   "execution_count": 76,
   "id": "3dfea6c6",
   "metadata": {},
   "outputs": [],
   "source": [
    "cluster_means = df2.groupby('Cluster').mean()\n",
    "overall_mean = df2.drop('Cluster', axis=1).mean()\n",
    "feature_contributions = cluster_means.sub(overall_mean, axis=1)\n",
    "feature_contributions_abs = feature_contributions.abs()\n",
    "sorted_features = feature_contributions_abs.apply(lambda x: x.sort_values(ascending=False).index)"
   ]
  },
  {
   "cell_type": "code",
   "execution_count": 86,
   "id": "208d2701",
   "metadata": {},
   "outputs": [
    {
     "data": {
      "image/png": "[encoded data removed]",
      "text/plain": [
       "<Figure size 720x432 with 2 Axes>"
      ]
     },
     "metadata": {
      "needs_background": "light"
     },
     "output_type": "display_data"
    }
   ],
   "source": [
    "plt.figure(figsize=(10, 6))\n",
    "sns.heatmap(feature_contributions.T, fmt=\".2f\", cbar=True,annot=True)\n",
    "plt.title('Feature Contributions to Clusters')\n",
    "plt.xlabel('Cluster')\n",
    "plt.ylabel('Feature')\n",
    "plt.show()"
   ]
  },
  {
   "cell_type": "code",
   "execution_count": 84,
   "id": "d68922f9",
   "metadata": {},
   "outputs": [
    {
     "data": {
      "text/html": [
       "<div>\n",
       "<style scoped>\n",
       "    .dataframe tbody tr th:only-of-type {\n",
       "        vertical-align: middle;\n",
       "    }\n",
       "\n",
       "    .dataframe tbody tr th {\n",
       "        vertical-align: top;\n",
       "    }\n",
       "\n",
       "    .dataframe thead th {\n",
       "        text-align: right;\n",
       "    }\n",
       "</style>\n",
       "<table border=\"1\" class=\"dataframe\">\n",
       "  <thead>\n",
       "    <tr style=\"text-align: right;\">\n",
       "      <th></th>\n",
       "      <th>2W</th>\n",
       "      <th>3W</th>\n",
       "      <th>4W</th>\n",
       "      <th>Buses</th>\n",
       "      <th>No of RO's where EV Charging Facility available</th>\n",
       "      <th>Total Number of active Vehicle as on 08.12.2021</th>\n",
       "      <th>Total number of active Electric Vehicles as on 08.12.2021</th>\n",
       "      <th>Percent EV</th>\n",
       "    </tr>\n",
       "    <tr>\n",
       "      <th>Cluster</th>\n",
       "      <th></th>\n",
       "      <th></th>\n",
       "      <th></th>\n",
       "      <th></th>\n",
       "      <th></th>\n",
       "      <th></th>\n",
       "      <th></th>\n",
       "      <th></th>\n",
       "    </tr>\n",
       "  </thead>\n",
       "  <tbody>\n",
       "    <tr>\n",
       "      <th>0</th>\n",
       "      <td>57189.0</td>\n",
       "      <td>225.0</td>\n",
       "      <td>26208.0</td>\n",
       "      <td>2.0</td>\n",
       "      <td>535.0</td>\n",
       "      <td>95899217</td>\n",
       "      <td>232677</td>\n",
       "      <td>0.012686</td>\n",
       "    </tr>\n",
       "    <tr>\n",
       "      <th>1</th>\n",
       "      <td>22378.0</td>\n",
       "      <td>400.0</td>\n",
       "      <td>13410.0</td>\n",
       "      <td>62.0</td>\n",
       "      <td>219.0</td>\n",
       "      <td>55984395</td>\n",
       "      <td>59240</td>\n",
       "      <td>0.013831</td>\n",
       "    </tr>\n",
       "    <tr>\n",
       "      <th>2</th>\n",
       "      <td>20508.0</td>\n",
       "      <td>256.0</td>\n",
       "      <td>5445.0</td>\n",
       "      <td>0.0</td>\n",
       "      <td>128.0</td>\n",
       "      <td>38628929</td>\n",
       "      <td>258105</td>\n",
       "      <td>0.006682</td>\n",
       "    </tr>\n",
       "    <tr>\n",
       "      <th>3</th>\n",
       "      <td>30748.0</td>\n",
       "      <td>13.0</td>\n",
       "      <td>34517.0</td>\n",
       "      <td>2.0</td>\n",
       "      <td>87.0</td>\n",
       "      <td>49558221</td>\n",
       "      <td>66429</td>\n",
       "      <td>0.002456</td>\n",
       "    </tr>\n",
       "    <tr>\n",
       "      <th>4</th>\n",
       "      <td>13235.0</td>\n",
       "      <td>40898.0</td>\n",
       "      <td>939.0</td>\n",
       "      <td>35.0</td>\n",
       "      <td>10.0</td>\n",
       "      <td>3227453</td>\n",
       "      <td>23524</td>\n",
       "      <td>0.007289</td>\n",
       "    </tr>\n",
       "    <tr>\n",
       "      <th>5</th>\n",
       "      <td>5214.0</td>\n",
       "      <td>9348.0</td>\n",
       "      <td>199.0</td>\n",
       "      <td>187.0</td>\n",
       "      <td>3.0</td>\n",
       "      <td>1766726</td>\n",
       "      <td>1334</td>\n",
       "      <td>0.000755</td>\n",
       "    </tr>\n",
       "    <tr>\n",
       "      <th>6</th>\n",
       "      <td>11174.0</td>\n",
       "      <td>188.0</td>\n",
       "      <td>13125.0</td>\n",
       "      <td>21.0</td>\n",
       "      <td>114.0</td>\n",
       "      <td>27387243</td>\n",
       "      <td>235619</td>\n",
       "      <td>0.037257</td>\n",
       "    </tr>\n",
       "  </tbody>\n",
       "</table>\n",
       "</div>"
      ],
      "text/plain": [
       "              2W       3W       4W  Buses  \\\n",
       "Cluster                                     \n",
       "0        57189.0    225.0  26208.0    2.0   \n",
       "1        22378.0    400.0  13410.0   62.0   \n",
       "2        20508.0    256.0   5445.0    0.0   \n",
       "3        30748.0     13.0  34517.0    2.0   \n",
       "4        13235.0  40898.0    939.0   35.0   \n",
       "5         5214.0   9348.0    199.0  187.0   \n",
       "6        11174.0    188.0  13125.0   21.0   \n",
       "\n",
       "         No of RO's where EV Charging Facility available  \\\n",
       "Cluster                                                    \n",
       "0                                                  535.0   \n",
       "1                                                  219.0   \n",
       "2                                                  128.0   \n",
       "3                                                   87.0   \n",
       "4                                                   10.0   \n",
       "5                                                    3.0   \n",
       "6                                                  114.0   \n",
       "\n",
       "         Total Number of active Vehicle as on 08.12.2021  \\\n",
       "Cluster                                                    \n",
       "0                                               95899217   \n",
       "1                                               55984395   \n",
       "2                                               38628929   \n",
       "3                                               49558221   \n",
       "4                                                3227453   \n",
       "5                                                1766726   \n",
       "6                                               27387243   \n",
       "\n",
       "         Total number of active Electric Vehicles as on 08.12.2021  Percent EV  \n",
       "Cluster                                                                         \n",
       "0                                                   232677            0.012686  \n",
       "1                                                    59240            0.013831  \n",
       "2                                                   258105            0.006682  \n",
       "3                                                    66429            0.002456  \n",
       "4                                                    23524            0.007289  \n",
       "5                                                     1334            0.000755  \n",
       "6                                                   235619            0.037257  "
      ]
     },
     "execution_count": 84,
     "metadata": {},
     "output_type": "execute_result"
    }
   ],
   "source": [
    "df_transposed.groupby('Cluster').sum()"
   ]
  },
  {
   "cell_type": "code",
   "execution_count": 85,
   "id": "8063de24",
   "metadata": {},
   "outputs": [
    {
     "name": "stdout",
     "output_type": "stream",
     "text": [
      "Cluster 0 members:\n",
      "['Haryana', 'Karnataka', 'Rajasthan', 'Tamil Nadu', 'West Bengal']\n",
      "Cluster 1 members:\n",
      "['Andaman and Nicobar Island', 'Chandigarh', 'Chhattisgarh', 'Goa', 'Himachal Pradesh', 'Jharkhand', 'Kerala', 'Manipur', 'Meghalaya', 'Nagaland', 'Odisha', 'Puducherry', 'Punjab']\n",
      "Cluster 2 members:\n",
      "['Uttar Pradesh']\n",
      "Cluster 3 members:\n",
      "['Gujarat', 'Maharashtra']\n",
      "Cluster 4 members:\n",
      "['Uttarakhand']\n",
      "Cluster 5 members:\n",
      "['Jammu and Kashmir']\n",
      "Cluster 6 members:\n",
      "['Assam', 'Bihar', 'Delhi', 'Tripura']\n"
     ]
    }
   ],
   "source": [
    "for i in range(k):  \n",
    "    cluster_members = df_transposed[df_transposed['Cluster'] == i]  \n",
    "    print(f\"Cluster {i} members:\")  \n",
    "    print(cluster_members.index.tolist())"
   ]
  },
  {
   "cell_type": "code",
   "execution_count": 101,
   "id": "31a7594f",
   "metadata": {},
   "outputs": [
    {
     "data": {
      "text/plain": [
       "<AxesSubplot:xlabel='Cluster', ylabel='2W'>"
      ]
     },
     "execution_count": 101,
     "metadata": {},
     "output_type": "execute_result"
    },
    {
     "data": {
      "image/png": "[encoded data removed]",
      "text/plain": [
       "<Figure size 432x288 with 1 Axes>"
      ]
     },
     "metadata": {
      "needs_background": "light"
     },
     "output_type": "display_data"
    }
   ],
   "source": [
    "sns.barplot(x=df_transposed['Cluster'],y=df_transposed['2W'])"
   ]
  },
  {
   "cell_type": "markdown",
   "id": "c9c76f62",
   "metadata": {},
   "source": [
    "Cluster 2 members:\n",
    "['Uttar Pradesh']  \n",
    "Cluster 3 members:\n",
    "['Gujarat', 'Maharashtra']"
   ]
  },
  {
   "cell_type": "code",
   "execution_count": 102,
   "id": "a8bcc88c",
   "metadata": {
    "scrolled": true
   },
   "outputs": [
    {
     "data": {
      "text/plain": [
       "<AxesSubplot:xlabel='Cluster', ylabel='3W'>"
      ]
     },
     "execution_count": 102,
     "metadata": {},
     "output_type": "execute_result"
    },
    {
     "data": {
      "image/png": "[encoded data removed]",
      "text/plain": [
       "<Figure size 432x288 with 1 Axes>"
      ]
     },
     "metadata": {
      "needs_background": "light"
     },
     "output_type": "display_data"
    }
   ],
   "source": [
    "sns.barplot(x=df_transposed['Cluster'],y=df_transposed['3W'])"
   ]
  },
  {
   "cell_type": "markdown",
   "id": "63d34e80",
   "metadata": {},
   "source": [
    "Cluster 4 members:\n",
    "['Uttarakhand']"
   ]
  },
  {
   "cell_type": "code",
   "execution_count": 103,
   "id": "c17077db",
   "metadata": {},
   "outputs": [
    {
     "data": {
      "text/plain": [
       "<AxesSubplot:xlabel='Cluster', ylabel='4W'>"
      ]
     },
     "execution_count": 103,
     "metadata": {},
     "output_type": "execute_result"
    },
    {
     "data": {
      "image/png": "[encoded data removed]",
      "text/plain": [
       "<Figure size 432x288 with 1 Axes>"
      ]
     },
     "metadata": {
      "needs_background": "light"
     },
     "output_type": "display_data"
    }
   ],
   "source": [
    "sns.barplot(x=df_transposed['Cluster'],y=df_transposed['4W'])"
   ]
  },
  {
   "cell_type": "code",
   "execution_count": 104,
   "id": "d9546d30",
   "metadata": {},
   "outputs": [
    {
     "data": {
      "text/plain": [
       "<AxesSubplot:xlabel='Cluster', ylabel='Buses'>"
      ]
     },
     "execution_count": 104,
     "metadata": {},
     "output_type": "execute_result"
    },
    {
     "data": {
      "image/png": "[encoded data removed]",
      "text/plain": [
       "<Figure size 432x288 with 1 Axes>"
      ]
     },
     "metadata": {
      "needs_background": "light"
     },
     "output_type": "display_data"
    }
   ],
   "source": [
    "sns.barplot(x=df_transposed['Cluster'],y=df_transposed['Buses'])"
   ]
  },
  {
   "cell_type": "code",
   "execution_count": 105,
   "id": "7e560771",
   "metadata": {},
   "outputs": [
    {
     "data": {
      "text/plain": [
       "<AxesSubplot:xlabel='Cluster', ylabel='Percent EV'>"
      ]
     },
     "execution_count": 105,
     "metadata": {},
     "output_type": "execute_result"
    },
    {
     "data": {
      "image/png": "[encoded data removed]",
      "text/plain": [
       "<Figure size 432x288 with 1 Axes>"
      ]
     },
     "metadata": {
      "needs_background": "light"
     },
     "output_type": "display_data"
    }
   ],
   "source": [
    "sns.barplot(x=df_transposed['Cluster'],y=df_transposed['Percent EV'])"
   ]
  },
  {
   "cell_type": "code",
   "execution_count": null,
   "id": "599bcef2",
   "metadata": {},
   "outputs": [],
   "source": []
  }
 ],
 "metadata": {
  "kernelspec": {
   "display_name": "Python 3 (ipykernel)",
   "language": "python",
   "name": "python3"
  },
  "language_info": {
   "codemirror_mode": {
    "name": "ipython",
    "version": 3
   },
   "file_extension": ".py",
   "mimetype": "text/x-python",
   "name": "python",
   "nbconvert_exporter": "python",
   "pygments_lexer": "ipython3",
   "version": "3.9.12"
  }
 },
 "nbformat": 4,
 "nbformat_minor": 5
}
