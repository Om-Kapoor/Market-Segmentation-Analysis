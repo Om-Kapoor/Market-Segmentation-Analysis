{
 "cells": [
  {
   "cell_type": "markdown",
   "id": "f315d7b4",
   "metadata": {},
   "source": [
    "# Market segmentation by type of EV to sell"
   ]
  },
  {
   "cell_type": "markdown",
   "id": "11a7e598",
   "metadata": {},
   "source": [
    "The data has been taken from Kaggle.com  \n",
    "The dataset indicates the number of EV sales divided into categories of 2 wheeler, 3 wheeler, 4 wheeler and Bus.  \n",
    "We start by reading the csv file into the portal using pandas. "
   ]
  },
  {
   "cell_type": "code",
   "execution_count": 1,
   "id": "fe150b26",
   "metadata": {},
   "outputs": [],
   "source": [
    "import pandas as pd\n",
    "import numpy as np\n",
    "import seaborn as sns\n",
    "import matplotlib.pyplot as plt\n",
    "%matplotlib inline"
   ]
  },
  {
   "cell_type": "code",
   "execution_count": 2,
   "id": "ba2ef69c",
   "metadata": {},
   "outputs": [],
   "source": [
    "df = pd.read_csv('Ev Sales 17-23.csv')"
   ]
  },
  {
   "cell_type": "code",
   "execution_count": 3,
   "id": "b4eedbfa",
   "metadata": {},
   "outputs": [
    {
     "name": "stdout",
     "output_type": "stream",
     "text": [
      "<class 'pandas.core.frame.DataFrame'>\n",
      "RangeIndex: 75 entries, 0 to 74\n",
      "Data columns (total 6 columns):\n",
      " #   Column  Non-Null Count  Dtype  \n",
      "---  ------  --------------  -----  \n",
      " 0   YEAR    74 non-null     object \n",
      " 1   2 W     74 non-null     float64\n",
      " 2   3 W     74 non-null     float64\n",
      " 3   4 W     74 non-null     float64\n",
      " 4   BUS     74 non-null     float64\n",
      " 5   TOTAL   74 non-null     float64\n",
      "dtypes: float64(5), object(1)\n",
      "memory usage: 3.6+ KB\n"
     ]
    }
   ],
   "source": [
    "df.info()"
   ]
  },
  {
   "cell_type": "code",
   "execution_count": 4,
   "id": "f57310b0",
   "metadata": {},
   "outputs": [
    {
     "data": {
      "text/html": [
       "<div>\n",
       "<style scoped>\n",
       "    .dataframe tbody tr th:only-of-type {\n",
       "        vertical-align: middle;\n",
       "    }\n",
       "\n",
       "    .dataframe tbody tr th {\n",
       "        vertical-align: top;\n",
       "    }\n",
       "\n",
       "    .dataframe thead th {\n",
       "        text-align: right;\n",
       "    }\n",
       "</style>\n",
       "<table border=\"1\" class=\"dataframe\">\n",
       "  <thead>\n",
       "    <tr style=\"text-align: right;\">\n",
       "      <th></th>\n",
       "      <th>2 W</th>\n",
       "      <th>3 W</th>\n",
       "      <th>4 W</th>\n",
       "      <th>BUS</th>\n",
       "      <th>TOTAL</th>\n",
       "    </tr>\n",
       "  </thead>\n",
       "  <tbody>\n",
       "    <tr>\n",
       "      <th>count</th>\n",
       "      <td>74.000000</td>\n",
       "      <td>74.000000</td>\n",
       "      <td>74.000000</td>\n",
       "      <td>74.000000</td>\n",
       "      <td>74.000000</td>\n",
       "    </tr>\n",
       "    <tr>\n",
       "      <th>mean</th>\n",
       "      <td>16938.729730</td>\n",
       "      <td>14851.351351</td>\n",
       "      <td>1272.567568</td>\n",
       "      <td>82.310811</td>\n",
       "      <td>33144.959459</td>\n",
       "    </tr>\n",
       "    <tr>\n",
       "      <th>std</th>\n",
       "      <td>25846.636971</td>\n",
       "      <td>11002.517635</td>\n",
       "      <td>1841.195763</td>\n",
       "      <td>79.696672</td>\n",
       "      <td>38251.453387</td>\n",
       "    </tr>\n",
       "    <tr>\n",
       "      <th>min</th>\n",
       "      <td>85.000000</td>\n",
       "      <td>668.000000</td>\n",
       "      <td>3.000000</td>\n",
       "      <td>0.000000</td>\n",
       "      <td>958.000000</td>\n",
       "    </tr>\n",
       "    <tr>\n",
       "      <th>25%</th>\n",
       "      <td>1304.250000</td>\n",
       "      <td>7782.250000</td>\n",
       "      <td>187.750000</td>\n",
       "      <td>11.250000</td>\n",
       "      <td>9147.000000</td>\n",
       "    </tr>\n",
       "    <tr>\n",
       "      <th>50%</th>\n",
       "      <td>3014.500000</td>\n",
       "      <td>10619.500000</td>\n",
       "      <td>317.500000</td>\n",
       "      <td>74.500000</td>\n",
       "      <td>14526.000000</td>\n",
       "    </tr>\n",
       "    <tr>\n",
       "      <th>75%</th>\n",
       "      <td>23599.000000</td>\n",
       "      <td>18641.750000</td>\n",
       "      <td>1545.000000</td>\n",
       "      <td>113.500000</td>\n",
       "      <td>43902.750000</td>\n",
       "    </tr>\n",
       "    <tr>\n",
       "      <th>max</th>\n",
       "      <td>105154.000000</td>\n",
       "      <td>45225.000000</td>\n",
       "      <td>8852.000000</td>\n",
       "      <td>331.000000</td>\n",
       "      <td>157788.000000</td>\n",
       "    </tr>\n",
       "  </tbody>\n",
       "</table>\n",
       "</div>"
      ],
      "text/plain": [
       "                 2 W           3 W          4 W         BUS          TOTAL\n",
       "count      74.000000     74.000000    74.000000   74.000000      74.000000\n",
       "mean    16938.729730  14851.351351  1272.567568   82.310811   33144.959459\n",
       "std     25846.636971  11002.517635  1841.195763   79.696672   38251.453387\n",
       "min        85.000000    668.000000     3.000000    0.000000     958.000000\n",
       "25%      1304.250000   7782.250000   187.750000   11.250000    9147.000000\n",
       "50%      3014.500000  10619.500000   317.500000   74.500000   14526.000000\n",
       "75%     23599.000000  18641.750000  1545.000000  113.500000   43902.750000\n",
       "max    105154.000000  45225.000000  8852.000000  331.000000  157788.000000"
      ]
     },
     "execution_count": 4,
     "metadata": {},
     "output_type": "execute_result"
    }
   ],
   "source": [
    "df.describe()"
   ]
  },
  {
   "cell_type": "markdown",
   "id": "b0c6db9c",
   "metadata": {},
   "source": [
    "# EDA and Data Pre-Processing"
   ]
  },
  {
   "cell_type": "code",
   "execution_count": 5,
   "id": "0218a1cf",
   "metadata": {},
   "outputs": [
    {
     "data": {
      "text/plain": [
       "YEAR     1\n",
       "2 W      1\n",
       "3 W      1\n",
       "4 W      1\n",
       "BUS      1\n",
       "TOTAL    1\n",
       "dtype: int64"
      ]
     },
     "execution_count": 5,
     "metadata": {},
     "output_type": "execute_result"
    }
   ],
   "source": [
    "df.isnull().sum()"
   ]
  },
  {
   "cell_type": "code",
   "execution_count": 6,
   "id": "4bcefb24",
   "metadata": {},
   "outputs": [
    {
     "data": {
      "text/plain": [
       "<AxesSubplot:>"
      ]
     },
     "execution_count": 6,
     "metadata": {},
     "output_type": "execute_result"
    },
    {
     "data": {
      "image/png": "[encoded data removed]",
      "text/plain": [
       "<Figure size 720x576 with 2 Axes>"
      ]
     },
     "metadata": {
      "needs_background": "light"
     },
     "output_type": "display_data"
    }
   ],
   "source": [
    "plt.figure(figsize=(10,8))\n",
    "sns.heatmap(df.isnull(),cmap='viridis')"
   ]
  },
  {
   "cell_type": "code",
   "execution_count": 7,
   "id": "51e735b8",
   "metadata": {},
   "outputs": [],
   "source": [
    "df = df.drop(df.index[74])"
   ]
  },
  {
   "cell_type": "code",
   "execution_count": 8,
   "id": "f03fc9d4",
   "metadata": {},
   "outputs": [
    {
     "data": {
      "text/plain": [
       "YEAR     0\n",
       "2 W      0\n",
       "3 W      0\n",
       "4 W      0\n",
       "BUS      0\n",
       "TOTAL    0\n",
       "dtype: int64"
      ]
     },
     "execution_count": 8,
     "metadata": {},
     "output_type": "execute_result"
    }
   ],
   "source": [
    "df.isnull().sum()"
   ]
  },
  {
   "cell_type": "code",
   "execution_count": 9,
   "id": "b6bbd97a",
   "metadata": {},
   "outputs": [
    {
     "data": {
      "text/html": [
       "<div>\n",
       "<style scoped>\n",
       "    .dataframe tbody tr th:only-of-type {\n",
       "        vertical-align: middle;\n",
       "    }\n",
       "\n",
       "    .dataframe tbody tr th {\n",
       "        vertical-align: top;\n",
       "    }\n",
       "\n",
       "    .dataframe thead th {\n",
       "        text-align: right;\n",
       "    }\n",
       "</style>\n",
       "<table border=\"1\" class=\"dataframe\">\n",
       "  <thead>\n",
       "    <tr style=\"text-align: right;\">\n",
       "      <th></th>\n",
       "      <th>YEAR</th>\n",
       "      <th>2 W</th>\n",
       "      <th>3 W</th>\n",
       "      <th>4 W</th>\n",
       "      <th>BUS</th>\n",
       "      <th>TOTAL</th>\n",
       "    </tr>\n",
       "  </thead>\n",
       "  <tbody>\n",
       "    <tr>\n",
       "      <th>0</th>\n",
       "      <td>Apr-17</td>\n",
       "      <td>96.0</td>\n",
       "      <td>4748.0</td>\n",
       "      <td>198.0</td>\n",
       "      <td>0.0</td>\n",
       "      <td>5042.0</td>\n",
       "    </tr>\n",
       "    <tr>\n",
       "      <th>1</th>\n",
       "      <td>May-17</td>\n",
       "      <td>91.0</td>\n",
       "      <td>6720.0</td>\n",
       "      <td>215.0</td>\n",
       "      <td>2.0</td>\n",
       "      <td>7028.0</td>\n",
       "    </tr>\n",
       "    <tr>\n",
       "      <th>2</th>\n",
       "      <td>Jun-17</td>\n",
       "      <td>137.0</td>\n",
       "      <td>7178.0</td>\n",
       "      <td>149.0</td>\n",
       "      <td>1.0</td>\n",
       "      <td>7465.0</td>\n",
       "    </tr>\n",
       "    <tr>\n",
       "      <th>3</th>\n",
       "      <td>Jul-17</td>\n",
       "      <td>116.0</td>\n",
       "      <td>8775.0</td>\n",
       "      <td>120.0</td>\n",
       "      <td>0.0</td>\n",
       "      <td>9011.0</td>\n",
       "    </tr>\n",
       "    <tr>\n",
       "      <th>4</th>\n",
       "      <td>Aug-17</td>\n",
       "      <td>99.0</td>\n",
       "      <td>8905.0</td>\n",
       "      <td>137.0</td>\n",
       "      <td>0.0</td>\n",
       "      <td>9141.0</td>\n",
       "    </tr>\n",
       "  </tbody>\n",
       "</table>\n",
       "</div>"
      ],
      "text/plain": [
       "     YEAR    2 W     3 W    4 W  BUS   TOTAL\n",
       "0  Apr-17   96.0  4748.0  198.0  0.0  5042.0\n",
       "1  May-17   91.0  6720.0  215.0  2.0  7028.0\n",
       "2  Jun-17  137.0  7178.0  149.0  1.0  7465.0\n",
       "3  Jul-17  116.0  8775.0  120.0  0.0  9011.0\n",
       "4  Aug-17   99.0  8905.0  137.0  0.0  9141.0"
      ]
     },
     "execution_count": 9,
     "metadata": {},
     "output_type": "execute_result"
    }
   ],
   "source": [
    "df.head()"
   ]
  },
  {
   "cell_type": "code",
   "execution_count": 10,
   "id": "40314649",
   "metadata": {},
   "outputs": [
    {
     "name": "stdout",
     "output_type": "stream",
     "text": [
      "<class 'pandas.core.frame.DataFrame'>\n",
      "RangeIndex: 74 entries, 0 to 73\n",
      "Data columns (total 6 columns):\n",
      " #   Column  Non-Null Count  Dtype  \n",
      "---  ------  --------------  -----  \n",
      " 0   YEAR    74 non-null     object \n",
      " 1   2 W     74 non-null     float64\n",
      " 2   3 W     74 non-null     float64\n",
      " 3   4 W     74 non-null     float64\n",
      " 4   BUS     74 non-null     float64\n",
      " 5   TOTAL   74 non-null     float64\n",
      "dtypes: float64(5), object(1)\n",
      "memory usage: 3.6+ KB\n"
     ]
    }
   ],
   "source": [
    "df.info()"
   ]
  },
  {
   "cell_type": "code",
   "execution_count": 11,
   "id": "a59a0b6e",
   "metadata": {},
   "outputs": [
    {
     "data": {
      "text/html": [
       "<div>\n",
       "<style scoped>\n",
       "    .dataframe tbody tr th:only-of-type {\n",
       "        vertical-align: middle;\n",
       "    }\n",
       "\n",
       "    .dataframe tbody tr th {\n",
       "        vertical-align: top;\n",
       "    }\n",
       "\n",
       "    .dataframe thead th {\n",
       "        text-align: right;\n",
       "    }\n",
       "</style>\n",
       "<table border=\"1\" class=\"dataframe\">\n",
       "  <thead>\n",
       "    <tr style=\"text-align: right;\">\n",
       "      <th></th>\n",
       "      <th>YEAR</th>\n",
       "      <th>2 W</th>\n",
       "      <th>3 W</th>\n",
       "      <th>4 W</th>\n",
       "      <th>BUS</th>\n",
       "      <th>TOTAL</th>\n",
       "    </tr>\n",
       "  </thead>\n",
       "  <tbody>\n",
       "    <tr>\n",
       "      <th>0</th>\n",
       "      <td>Apr-17</td>\n",
       "      <td>96.0</td>\n",
       "      <td>4748.0</td>\n",
       "      <td>198.0</td>\n",
       "      <td>0.0</td>\n",
       "      <td>5042.0</td>\n",
       "    </tr>\n",
       "    <tr>\n",
       "      <th>1</th>\n",
       "      <td>May-17</td>\n",
       "      <td>91.0</td>\n",
       "      <td>6720.0</td>\n",
       "      <td>215.0</td>\n",
       "      <td>2.0</td>\n",
       "      <td>7028.0</td>\n",
       "    </tr>\n",
       "    <tr>\n",
       "      <th>2</th>\n",
       "      <td>Jun-17</td>\n",
       "      <td>137.0</td>\n",
       "      <td>7178.0</td>\n",
       "      <td>149.0</td>\n",
       "      <td>1.0</td>\n",
       "      <td>7465.0</td>\n",
       "    </tr>\n",
       "    <tr>\n",
       "      <th>3</th>\n",
       "      <td>Jul-17</td>\n",
       "      <td>116.0</td>\n",
       "      <td>8775.0</td>\n",
       "      <td>120.0</td>\n",
       "      <td>0.0</td>\n",
       "      <td>9011.0</td>\n",
       "    </tr>\n",
       "    <tr>\n",
       "      <th>4</th>\n",
       "      <td>Aug-17</td>\n",
       "      <td>99.0</td>\n",
       "      <td>8905.0</td>\n",
       "      <td>137.0</td>\n",
       "      <td>0.0</td>\n",
       "      <td>9141.0</td>\n",
       "    </tr>\n",
       "    <tr>\n",
       "      <th>...</th>\n",
       "      <td>...</td>\n",
       "      <td>...</td>\n",
       "      <td>...</td>\n",
       "      <td>...</td>\n",
       "      <td>...</td>\n",
       "      <td>...</td>\n",
       "    </tr>\n",
       "    <tr>\n",
       "      <th>69</th>\n",
       "      <td>Jan-23</td>\n",
       "      <td>64649.0</td>\n",
       "      <td>34308.0</td>\n",
       "      <td>3490.0</td>\n",
       "      <td>98.0</td>\n",
       "      <td>102545.0</td>\n",
       "    </tr>\n",
       "    <tr>\n",
       "      <th>70</th>\n",
       "      <td>Feb-23</td>\n",
       "      <td>66033.0</td>\n",
       "      <td>35995.0</td>\n",
       "      <td>4850.0</td>\n",
       "      <td>99.0</td>\n",
       "      <td>106977.0</td>\n",
       "    </tr>\n",
       "    <tr>\n",
       "      <th>71</th>\n",
       "      <td>Mar-23</td>\n",
       "      <td>86194.0</td>\n",
       "      <td>45225.0</td>\n",
       "      <td>8852.0</td>\n",
       "      <td>89.0</td>\n",
       "      <td>140360.0</td>\n",
       "    </tr>\n",
       "    <tr>\n",
       "      <th>72</th>\n",
       "      <td>Apr-23</td>\n",
       "      <td>66755.0</td>\n",
       "      <td>38016.0</td>\n",
       "      <td>6193.0</td>\n",
       "      <td>84.0</td>\n",
       "      <td>111048.0</td>\n",
       "    </tr>\n",
       "    <tr>\n",
       "      <th>73</th>\n",
       "      <td>May-23</td>\n",
       "      <td>105154.0</td>\n",
       "      <td>44615.0</td>\n",
       "      <td>7736.0</td>\n",
       "      <td>283.0</td>\n",
       "      <td>157788.0</td>\n",
       "    </tr>\n",
       "  </tbody>\n",
       "</table>\n",
       "<p>74 rows × 6 columns</p>\n",
       "</div>"
      ],
      "text/plain": [
       "      YEAR       2 W      3 W     4 W    BUS     TOTAL\n",
       "0   Apr-17      96.0   4748.0   198.0    0.0    5042.0\n",
       "1   May-17      91.0   6720.0   215.0    2.0    7028.0\n",
       "2   Jun-17     137.0   7178.0   149.0    1.0    7465.0\n",
       "3   Jul-17     116.0   8775.0   120.0    0.0    9011.0\n",
       "4   Aug-17      99.0   8905.0   137.0    0.0    9141.0\n",
       "..     ...       ...      ...     ...    ...       ...\n",
       "69  Jan-23   64649.0  34308.0  3490.0   98.0  102545.0\n",
       "70  Feb-23   66033.0  35995.0  4850.0   99.0  106977.0\n",
       "71  Mar-23   86194.0  45225.0  8852.0   89.0  140360.0\n",
       "72  Apr-23   66755.0  38016.0  6193.0   84.0  111048.0\n",
       "73  May-23  105154.0  44615.0  7736.0  283.0  157788.0\n",
       "\n",
       "[74 rows x 6 columns]"
      ]
     },
     "execution_count": 11,
     "metadata": {},
     "output_type": "execute_result"
    }
   ],
   "source": [
    "df"
   ]
  },
  {
   "cell_type": "code",
   "execution_count": 12,
   "id": "9ae64c76",
   "metadata": {},
   "outputs": [],
   "source": [
    "df = df.set_index('YEAR')"
   ]
  },
  {
   "cell_type": "code",
   "execution_count": 13,
   "id": "d703f4a4",
   "metadata": {
    "scrolled": true
   },
   "outputs": [
    {
     "data": {
      "text/html": [
       "<div>\n",
       "<style scoped>\n",
       "    .dataframe tbody tr th:only-of-type {\n",
       "        vertical-align: middle;\n",
       "    }\n",
       "\n",
       "    .dataframe tbody tr th {\n",
       "        vertical-align: top;\n",
       "    }\n",
       "\n",
       "    .dataframe thead th {\n",
       "        text-align: right;\n",
       "    }\n",
       "</style>\n",
       "<table border=\"1\" class=\"dataframe\">\n",
       "  <thead>\n",
       "    <tr style=\"text-align: right;\">\n",
       "      <th></th>\n",
       "      <th>2 W</th>\n",
       "      <th>3 W</th>\n",
       "      <th>4 W</th>\n",
       "      <th>BUS</th>\n",
       "      <th>TOTAL</th>\n",
       "    </tr>\n",
       "    <tr>\n",
       "      <th>YEAR</th>\n",
       "      <th></th>\n",
       "      <th></th>\n",
       "      <th></th>\n",
       "      <th></th>\n",
       "      <th></th>\n",
       "    </tr>\n",
       "  </thead>\n",
       "  <tbody>\n",
       "    <tr>\n",
       "      <th>Apr-17</th>\n",
       "      <td>96.0</td>\n",
       "      <td>4748.0</td>\n",
       "      <td>198.0</td>\n",
       "      <td>0.0</td>\n",
       "      <td>5042.0</td>\n",
       "    </tr>\n",
       "    <tr>\n",
       "      <th>May-17</th>\n",
       "      <td>91.0</td>\n",
       "      <td>6720.0</td>\n",
       "      <td>215.0</td>\n",
       "      <td>2.0</td>\n",
       "      <td>7028.0</td>\n",
       "    </tr>\n",
       "    <tr>\n",
       "      <th>Jun-17</th>\n",
       "      <td>137.0</td>\n",
       "      <td>7178.0</td>\n",
       "      <td>149.0</td>\n",
       "      <td>1.0</td>\n",
       "      <td>7465.0</td>\n",
       "    </tr>\n",
       "    <tr>\n",
       "      <th>Jul-17</th>\n",
       "      <td>116.0</td>\n",
       "      <td>8775.0</td>\n",
       "      <td>120.0</td>\n",
       "      <td>0.0</td>\n",
       "      <td>9011.0</td>\n",
       "    </tr>\n",
       "    <tr>\n",
       "      <th>Aug-17</th>\n",
       "      <td>99.0</td>\n",
       "      <td>8905.0</td>\n",
       "      <td>137.0</td>\n",
       "      <td>0.0</td>\n",
       "      <td>9141.0</td>\n",
       "    </tr>\n",
       "  </tbody>\n",
       "</table>\n",
       "</div>"
      ],
      "text/plain": [
       "          2 W     3 W    4 W  BUS   TOTAL\n",
       "YEAR                                     \n",
       "Apr-17   96.0  4748.0  198.0  0.0  5042.0\n",
       "May-17   91.0  6720.0  215.0  2.0  7028.0\n",
       "Jun-17  137.0  7178.0  149.0  1.0  7465.0\n",
       "Jul-17  116.0  8775.0  120.0  0.0  9011.0\n",
       "Aug-17   99.0  8905.0  137.0  0.0  9141.0"
      ]
     },
     "execution_count": 13,
     "metadata": {},
     "output_type": "execute_result"
    }
   ],
   "source": [
    "df.head()"
   ]
  },
  {
   "cell_type": "code",
   "execution_count": 14,
   "id": "a1f718d7",
   "metadata": {},
   "outputs": [],
   "source": [
    "df = df.drop('TOTAL',axis=1)"
   ]
  },
  {
   "cell_type": "code",
   "execution_count": 15,
   "id": "5c882287",
   "metadata": {},
   "outputs": [
    {
     "data": {
      "text/plain": [
       "<AxesSubplot:xlabel='YEAR'>"
      ]
     },
     "execution_count": 15,
     "metadata": {},
     "output_type": "execute_result"
    },
    {
     "data": {
      "image/png": "[encoded data removed]",
      "text/plain": [
       "<Figure size 432x288 with 1 Axes>"
      ]
     },
     "metadata": {
      "needs_background": "light"
     },
     "output_type": "display_data"
    }
   ],
   "source": [
    "df[['2 W','3 W', '4 W', 'BUS']].plot()"
   ]
  },
  {
   "cell_type": "markdown",
   "id": "c72aadf1",
   "metadata": {},
   "source": [
    "# Segment Extraaction   "
   ]
  },
  {
   "cell_type": "markdown",
   "id": "caad3bc6",
   "metadata": {},
   "source": [
    "After visualizing the data, we move on to extracting suitable segments from the given database.  \n",
    "We perform the segmentation using different ML techniques, and evaluate the results to finally get the best suited method for our project.\n",
    "The techniques used in this project are:\n",
    "1. K-Means CLustering\n",
    "2. Heirarchical Clustering\n",
    "3. PCA followed by clustering\n",
    "4. Gaussian Mixture Models (GMMs)\n",
    "5. DBSCAN (Density-Based Spatial Clustering of Applications with Noise)"
   ]
  },
  {
   "cell_type": "markdown",
   "id": "b8ed5f3a",
   "metadata": {},
   "source": [
    "# K means clustering"
   ]
  },
  {
   "cell_type": "code",
   "execution_count": 16,
   "id": "d98b9de8",
   "metadata": {},
   "outputs": [],
   "source": [
    "from sklearn.cluster import KMeans  \n",
    "from sklearn.preprocessing import MinMaxScaler"
   ]
  },
  {
   "cell_type": "code",
   "execution_count": 17,
   "id": "e0d89641",
   "metadata": {},
   "outputs": [],
   "source": [
    "df_transposed = df.transpose()  "
   ]
  },
  {
   "cell_type": "code",
   "execution_count": 18,
   "id": "a6b5edfb",
   "metadata": {},
   "outputs": [
    {
     "name": "stdout",
     "output_type": "stream",
     "text": [
      "Cluster 0 members:\n",
      "['2 W', '3 W']\n",
      "Cluster 1 members:\n",
      "['4 W', 'BUS']\n"
     ]
    },
    {
     "data": {
      "image/png": "[encoded data removed]",
      "text/plain": [
       "<Figure size 1008x504 with 1 Axes>"
      ]
     },
     "metadata": {
      "needs_background": "light"
     },
     "output_type": "display_data"
    }
   ],
   "source": [
    "scaler = MinMaxScaler()  \n",
    "df_transposed_scaled = scaler.fit_transform(df_transposed)  \n",
    "\n",
    "k = 2  \n",
    "\n",
    "kmeans = KMeans(n_clusters=k, random_state=42)  \n",
    "clusters = kmeans.fit_predict(df_transposed_scaled)  \n",
    "  \n",
    "df_transposed['Cluster'] = clusters  \n",
    "  \n",
    "for i in range(k):  \n",
    "    cluster_members = df_transposed[df_transposed['Cluster'] == i]  \n",
    "    print(f\"Cluster {i} members:\")  \n",
    "    print(cluster_members.index.tolist())  \n",
    "  \n",
    "plt.figure(figsize=(14, 7))  \n",
    "plt.bar(df_transposed.index, df_transposed['Cluster'])  \n",
    "plt.xlabel('Type of EV')  \n",
    "plt.ylabel('Cluster')  \n",
    "plt.title('Cluster of Each Type of EV')  \n",
    "plt.xticks(rotation=90)  \n",
    "plt.show()"
   ]
  },
  {
   "cell_type": "markdown",
   "id": "c60d7670",
   "metadata": {},
   "source": [
    "To find the optimal number of clusters, we perform the elbow method"
   ]
  },
  {
   "cell_type": "code",
   "execution_count": 19,
   "id": "bfb5212f",
   "metadata": {
    "scrolled": true
   },
   "outputs": [
    {
     "data": {
      "image/png": "[encoded data removed]",
      "text/plain": [
       "<Figure size 720x432 with 1 Axes>"
      ]
     },
     "metadata": {
      "needs_background": "light"
     },
     "output_type": "display_data"
    }
   ],
   "source": [
    "sse = []  \n",
    "for k in range(2, 5):\n",
    "    kmeans = KMeans(n_clusters=k, random_state=42)  \n",
    "    kmeans.fit(df_transposed_scaled)  \n",
    "    sse.append(kmeans.inertia_)  \n",
    "  \n",
    "plt.figure(figsize=(10, 6))  \n",
    "plt.plot(range(2, 5), sse, marker='o')  \n",
    "plt.title('Elbow Method')  \n",
    "plt.xlabel('Number of clusters')  \n",
    "plt.ylabel('SSE')  \n",
    "plt.show()  "
   ]
  },
  {
   "cell_type": "markdown",
   "id": "b2099da9",
   "metadata": {},
   "source": [
    "From the plot above, we can take the optimal number of clusters as 3, and recalculate the clusters"
   ]
  },
  {
   "cell_type": "code",
   "execution_count": 20,
   "id": "e34ea924",
   "metadata": {},
   "outputs": [
    {
     "name": "stdout",
     "output_type": "stream",
     "text": [
      "Cluster 0 members:\n",
      "['4 W', 'BUS']\n",
      "Cluster 1 members:\n",
      "['3 W']\n",
      "Cluster 2 members:\n",
      "['2 W']\n"
     ]
    },
    {
     "data": {
      "image/png": "[encoded data removed]",
      "text/plain": [
       "<Figure size 1008x504 with 1 Axes>"
      ]
     },
     "metadata": {
      "needs_background": "light"
     },
     "output_type": "display_data"
    }
   ],
   "source": [
    "k = 3  \n",
    "  \n",
    "kmeans = KMeans(n_clusters=k, random_state=42)  \n",
    "clusters = kmeans.fit_predict(df_transposed_scaled)  \n",
    "  \n",
    "df_transposed['Cluster'] = clusters  \n",
    "  \n",
    "for i in range(k):  \n",
    "    cluster_members = df_transposed[df_transposed['Cluster'] == i]  \n",
    "    print(f\"Cluster {i} members:\")  \n",
    "    print(cluster_members.index.tolist())  \n",
    "  \n",
    "plt.figure(figsize=(14, 7))  \n",
    "plt.bar(df_transposed.index, df_transposed['Cluster'])  \n",
    "plt.xlabel('Type of EV')  \n",
    "plt.ylabel('Cluster')  \n",
    "plt.title('Cluster of Each Type of EV')  \n",
    "plt.xticks(rotation=90)   \n",
    "plt.show()"
   ]
  },
  {
   "cell_type": "markdown",
   "id": "79b10e6f",
   "metadata": {},
   "source": [
    "Each cluster contains types of EVs that have a similar sales pattern over the given time periods. Analyzing the characteristics of each cluster can help decide which type of EV to invest in based on:  \n",
    "- Sales Consistency: Types of EVs that show consistent sales over time might indicate a stable market demand.  \n",
    "- Growth Trends: EVs that belong to clusters with increasing sales trends could signal rising popularity and a potentially good investment.  \n",
    "- Market Saturation: Clusters with many different types of EVs might suggest a saturated market, indicating higher competition.  \n",
    "- Niche Markets: Clusters with few types of EVs or distinct sales patterns might represent niche markets with specific consumer needs.  \n",
    "\n",
    "The choice of the number of clusters (k) is crucial, and using methods like the Elbow Method as shown can help select an appropriate k."
   ]
  },
  {
   "cell_type": "markdown",
   "id": "4b4ac3e3",
   "metadata": {},
   "source": [
    "# Evaluation of K-Means Segmentation"
   ]
  },
  {
   "cell_type": "code",
   "execution_count": 21,
   "id": "56b3ff11",
   "metadata": {},
   "outputs": [],
   "source": [
    "from sklearn.metrics import silhouette_score\n",
    "from sklearn.cluster import KMeans"
   ]
  },
  {
   "cell_type": "code",
   "execution_count": 22,
   "id": "a983abb2",
   "metadata": {},
   "outputs": [
    {
     "name": "stdout",
     "output_type": "stream",
     "text": [
      "Silhouette Score for K-Means Clustering: 0.4538202356503319\n"
     ]
    }
   ],
   "source": [
    "silhouette_avg = silhouette_score(df_transposed_scaled, clusters)\n",
    "print(f\"Silhouette Score for K-Means Clustering: {silhouette_avg}\")"
   ]
  },
  {
   "cell_type": "code",
   "execution_count": 23,
   "id": "5874877b",
   "metadata": {},
   "outputs": [
    {
     "name": "stdout",
     "output_type": "stream",
     "text": [
      "Inertia for K-Means Clustering: 0.11537811304824808\n"
     ]
    }
   ],
   "source": [
    "inertia = kmeans.inertia_\n",
    "print(f\"Inertia for K-Means Clustering: {inertia}\")"
   ]
  },
  {
   "cell_type": "code",
   "execution_count": 24,
   "id": "6c6a3f25",
   "metadata": {
    "scrolled": true
   },
   "outputs": [
    {
     "data": {
      "image/png": "[encoded data removed]",
      "text/plain": [
       "<Figure size 720x432 with 1 Axes>"
      ]
     },
     "metadata": {
      "needs_background": "light"
     },
     "output_type": "display_data"
    }
   ],
   "source": [
    "from sklearn.metrics import silhouette_score\n",
    "\n",
    "silhouette_scores = []\n",
    "for k in range(2, 4):\n",
    "    kmeans = KMeans(n_clusters=k, random_state=42)\n",
    "    clusters = kmeans.fit_predict(df_transposed_scaled)\n",
    "    silhouette_avg = silhouette_score(df_transposed_scaled, clusters)\n",
    "    silhouette_scores.append(silhouette_avg)\n",
    "\n",
    "plt.figure(figsize=(10, 6))\n",
    "plt.plot(range(2, 4), silhouette_scores, marker='o')\n",
    "plt.title('Silhouette Scores for Different Numbers of Clusters (k)')\n",
    "plt.xlabel('Number of clusters (k)')\n",
    "plt.ylabel('Silhouette Score')\n",
    "plt.show()"
   ]
  },
  {
   "cell_type": "markdown",
   "id": "76e4b28c",
   "metadata": {},
   "source": [
    "# Hierarchical clustering "
   ]
  },
  {
   "cell_type": "code",
   "execution_count": 25,
   "id": "46bfee7e",
   "metadata": {},
   "outputs": [],
   "source": [
    "from scipy.cluster.hierarchy import dendrogram, linkage  \n",
    "from sklearn.preprocessing import StandardScaler  "
   ]
  },
  {
   "cell_type": "code",
   "execution_count": 26,
   "id": "7ed5db3b",
   "metadata": {},
   "outputs": [
    {
     "data": {
      "image/png": "[encoded data removed]",
      "text/plain": [
       "<Figure size 720x504 with 1 Axes>"
      ]
     },
     "metadata": {
      "needs_background": "light"
     },
     "output_type": "display_data"
    }
   ],
   "source": [
    "Z = linkage(df_transposed_scaled, method='ward')  \n",
    "  \n",
    "plt.figure(figsize=(10, 7))  \n",
    "dendrogram(Z, labels=df_transposed.index, leaf_rotation=90, leaf_font_size=10)  \n",
    "plt.title('Hierarchical Clustering Dendrogram')  \n",
    "plt.xlabel('Type of EV')  \n",
    "plt.ylabel('Distance')  \n",
    "plt.show()  "
   ]
  },
  {
   "cell_type": "markdown",
   "id": "a203598e",
   "metadata": {},
   "source": [
    "The dendrogram provides a visual representation of the clusters formed at each level of the hierarchy and can help decide on a distance threshold (max_d) to define the number of clusters you want to use. You can also specify directly the number of clusters with the fcluster function."
   ]
  },
  {
   "cell_type": "markdown",
   "id": "ff5d9446",
   "metadata": {},
   "source": [
    "# Evaluation of Hierarchical Clustering"
   ]
  },
  {
   "cell_type": "code",
   "execution_count": 27,
   "id": "0b66e185",
   "metadata": {
    "scrolled": true
   },
   "outputs": [
    {
     "name": "stdout",
     "output_type": "stream",
     "text": [
      "Cophenetic Correlation Coefficient: 0.8912911051088002\n"
     ]
    }
   ],
   "source": [
    "from scipy.cluster.hierarchy import cophenet\n",
    "from scipy.spatial.distance import pdist\n",
    "\n",
    "c, coph_dists = cophenet(Z, pdist(df_transposed_scaled))\n",
    "\n",
    "print(f\"Cophenetic Correlation Coefficient: {c}\")"
   ]
  },
  {
   "cell_type": "markdown",
   "id": "1d0591d4",
   "metadata": {},
   "source": [
    "This code uses the cophenet() function from scipy.cluster.hierarchy to compute the cophenetic correlation coefficient for hierarchical clustering.\n",
    "\n",
    "A higher cophenetic correlation coefficient closer to 1 indicates that the dendrogram represents the original distances well, suggesting a good hierarchical clustering. This metric provides an evaluation of the clustering structure obtained through hierarchical clustering."
   ]
  },
  {
   "cell_type": "markdown",
   "id": "4f88e643",
   "metadata": {},
   "source": [
    "# Principal Component Analysis (PCA) followed by Clustering"
   ]
  },
  {
   "cell_type": "code",
   "execution_count": 28,
   "id": "37e4b903",
   "metadata": {},
   "outputs": [],
   "source": [
    "from sklearn.decomposition import PCA  "
   ]
  },
  {
   "cell_type": "code",
   "execution_count": 29,
   "id": "6d1ab1b5",
   "metadata": {},
   "outputs": [
    {
     "data": {
      "image/png": "[encoded data removed]",
      "text/plain": [
       "<Figure size 576x432 with 2 Axes>"
      ]
     },
     "metadata": {
      "needs_background": "light"
     },
     "output_type": "display_data"
    },
    {
     "name": "stdout",
     "output_type": "stream",
     "text": [
      "Cluster 0 members:\n",
      "['4 W', 'BUS']\n",
      "Cluster 1 members:\n",
      "['3 W']\n",
      "Cluster 2 members:\n",
      "['2 W']\n",
      "     Principal Component 1  Principal Component 2  Cluster\n",
      "2 W               0.783617               3.012740        2\n",
      "3 W               4.761746              -1.427839        1\n",
      "4 W              -2.596460              -0.668322        0\n",
      "BUS              -2.948904              -0.916579        0\n"
     ]
    }
   ],
   "source": [
    "pca = PCA(n_components=2)   \n",
    "principal_components = pca.fit_transform(df_transposed_scaled)  \n",
    "  \n",
    "pca_df = pd.DataFrame(data = principal_components, columns = ['Principal Component 1', 'Principal Component 2'])  \n",
    "pca_df.index = df_transposed.index  \n",
    "  \n",
    "kmeans = KMeans(n_clusters=3, random_state=42)\n",
    "pca_df['Cluster'] = kmeans.fit_predict(pca_df[['Principal Component 1', 'Principal Component 2']])  \n",
    "  \n",
    "plt.figure(figsize=(8, 6))  \n",
    "plt.scatter(pca_df['Principal Component 1'], pca_df['Principal Component 2'], c=pca_df['Cluster'], cmap='viridis')  \n",
    "plt.title('PCA followed by Clustering')  \n",
    "plt.xlabel('Principal Component 1')  \n",
    "plt.ylabel('Principal Component 2')  \n",
    "plt.colorbar(label='Cluster')  \n",
    "plt.show()  \n",
    "  \n",
    "for cluster_number in sorted(pca_df['Cluster'].unique()):  \n",
    "    cluster_members = pca_df.index[pca_df['Cluster'] == cluster_number].tolist()  \n",
    "    print(f\"Cluster {cluster_number} members:\")  \n",
    "    print(cluster_members)  \n",
    "\n",
    "print(pca_df)  \n"
   ]
  },
  {
   "cell_type": "markdown",
   "id": "a8dc9a02",
   "metadata": {},
   "source": [
    "Each point in the scatter plot represents a type of EV, and the color indicates the cluster assignment. This visualization can help to understand the different segments of EV types based on the reduced dimensions.\n",
    "\n",
    "Finally, this prints out the members of each cluster, which are the types of EVs that fall into each segment. We can then examine these clusters to help inform your decision on which EV type to invest in."
   ]
  },
  {
   "cell_type": "markdown",
   "id": "9ca76ee3",
   "metadata": {},
   "source": [
    "# Evaluation"
   ]
  },
  {
   "cell_type": "code",
   "execution_count": 30,
   "id": "70015bdb",
   "metadata": {},
   "outputs": [
    {
     "name": "stdout",
     "output_type": "stream",
     "text": [
      "Silhouette Score for PCA followed by K-Means Clustering: 0.45854773199309773\n"
     ]
    }
   ],
   "source": [
    "from sklearn.metrics import silhouette_score\n",
    "\n",
    "silhouette_avg = silhouette_score(pca_df[['Principal Component 1', 'Principal Component 2']], pca_df['Cluster'])\n",
    "print(f\"Silhouette Score for PCA followed by K-Means Clustering: {silhouette_avg}\")"
   ]
  },
  {
   "cell_type": "markdown",
   "id": "3cff8025",
   "metadata": {},
   "source": [
    "The silhouette score measures the quality of clustering, indicating how well-separated the clusters are. A higher silhouette score closer to 1 implies better-defined clusters."
   ]
  },
  {
   "cell_type": "markdown",
   "id": "b9cbfa20",
   "metadata": {},
   "source": [
    "# Gaussian Mixture Models (GMMs)"
   ]
  },
  {
   "cell_type": "code",
   "execution_count": 31,
   "id": "648ceecf",
   "metadata": {},
   "outputs": [],
   "source": [
    "from sklearn.mixture import GaussianMixture     "
   ]
  },
  {
   "cell_type": "code",
   "execution_count": 32,
   "id": "c479428d",
   "metadata": {},
   "outputs": [
    {
     "name": "stdout",
     "output_type": "stream",
     "text": [
      "YEAR  Apr-17  May-17  Jun-17  Jul-17  Aug-17  Sep-17  Oct-17  Nov-17  Dec-17  \\\n",
      "2 W     96.0    91.0   137.0   116.0    99.0   109.0   160.0   214.0   189.0   \n",
      "3 W   4748.0  6720.0  7178.0  8775.0  8905.0  7414.0  7250.0  9598.0  8719.0   \n",
      "4 W    198.0   215.0   149.0   120.0   137.0   193.0   214.0   186.0   179.0   \n",
      "BUS      0.0     2.0     1.0     0.0     0.0     0.0     0.0    11.0     0.0   \n",
      "\n",
      "YEAR  Jan-18  ...   Sep-22   Oct-22   Nov-22   Dec-22   Jan-23   Feb-23  \\\n",
      "2 W    176.0  ...  53210.0  77137.0  76700.0  64598.0  64649.0  66033.0   \n",
      "3 W   8750.0  ...  37404.0  35889.0  40403.0  35542.0  34308.0  35995.0   \n",
      "4 W    210.0  ...   3589.0   3950.0   4027.0   3879.0   3490.0   4850.0   \n",
      "BUS     29.0  ...    204.0    243.0    118.0    151.0     98.0     99.0   \n",
      "\n",
      "YEAR   Mar-23   Apr-23    May-23  Cluster  \n",
      "2 W   86194.0  66755.0  105154.0        2  \n",
      "3 W   45225.0  38016.0   44615.0        1  \n",
      "4 W    8852.0   6193.0    7736.0        0  \n",
      "BUS      89.0     84.0     283.0        0  \n",
      "\n",
      "[4 rows x 75 columns]\n"
     ]
    }
   ],
   "source": [
    "n_components = 3  \n",
    "\n",
    "gmm = GaussianMixture(n_components=n_components, random_state=42)  \n",
    "gmm_clusters = gmm.fit_predict(df_transposed_scaled)  \n",
    "  \n",
    "df_transposed['Cluster'] = gmm_clusters  \n",
    "  \n",
    "print(df_transposed)  "
   ]
  },
  {
   "cell_type": "markdown",
   "id": "b7c10b71",
   "metadata": {},
   "source": [
    "Model selection using BIC and AIC to find the best number of components  "
   ]
  },
  {
   "cell_type": "code",
   "execution_count": 33,
   "id": "ea41a24d",
   "metadata": {},
   "outputs": [
    {
     "data": {
      "image/png": "[encoded data removed]",
      "text/plain": [
       "<Figure size 432x288 with 1 Axes>"
      ]
     },
     "metadata": {
      "needs_background": "light"
     },
     "output_type": "display_data"
    }
   ],
   "source": [
    "bic_scores = []  \n",
    "n_components_range = range(1, 5)\n",
    "for n_components in n_components_range:  \n",
    "    gmm = GaussianMixture(n_components=n_components, random_state=42)  \n",
    "    gmm.fit(df_transposed_scaled)  \n",
    "    bic_scores.append(gmm.bic(df_transposed_scaled))  \n",
    "\n",
    "plt.plot(n_components_range, bic_scores, marker='o')  \n",
    "plt.title('BIC Score per Number of Components')  \n",
    "plt.xlabel('Number of Components')  \n",
    "plt.ylabel('BIC Score')  \n",
    "plt.show()  \n"
   ]
  },
  {
   "cell_type": "code",
   "execution_count": 1,
   "id": "eafaa475",
   "metadata": {},
   "outputs": [
    {
     "ename": "NameError",
     "evalue": "name 'GaussianMixture' is not defined",
     "output_type": "error",
     "traceback": [
      "\u001b[1;31m---------------------------------------------------------------------------\u001b[0m",
      "\u001b[1;31mNameError\u001b[0m                                 Traceback (most recent call last)",
      "Input \u001b[1;32mIn [1]\u001b[0m, in \u001b[0;36m<cell line: 3>\u001b[1;34m()\u001b[0m\n\u001b[0;32m      2\u001b[0m n_components_range \u001b[38;5;241m=\u001b[39m \u001b[38;5;28mrange\u001b[39m(\u001b[38;5;241m1\u001b[39m, \u001b[38;5;241m5\u001b[39m)   \n\u001b[0;32m      3\u001b[0m \u001b[38;5;28;01mfor\u001b[39;00m n_components \u001b[38;5;129;01min\u001b[39;00m n_components_range:  \n\u001b[1;32m----> 4\u001b[0m     gmm \u001b[38;5;241m=\u001b[39m \u001b[43mGaussianMixture\u001b[49m(n_components\u001b[38;5;241m=\u001b[39mn_components, random_state\u001b[38;5;241m=\u001b[39m\u001b[38;5;241m42\u001b[39m)  \n\u001b[0;32m      5\u001b[0m     gmm\u001b[38;5;241m.\u001b[39mfit(df_transposed_scaled)  \n\u001b[0;32m      6\u001b[0m     aic_scores\u001b[38;5;241m.\u001b[39mappend(gmm\u001b[38;5;241m.\u001b[39maic(df_transposed_scaled))  \n",
      "\u001b[1;31mNameError\u001b[0m: name 'GaussianMixture' is not defined"
     ]
    }
   ],
   "source": [
    "aic_scores = []  \n",
    "n_components_range = range(1, 5)   \n",
    "for n_components in n_components_range:  \n",
    "    gmm = GaussianMixture(n_components=n_components, random_state=42)  \n",
    "    gmm.fit(df_transposed_scaled)  \n",
    "    aic_scores.append(gmm.aic(df_transposed_scaled))  \n",
    "  \n",
    "plt.plot(n_components_range, aic_scores, marker='o')  \n",
    "plt.title('AIC Score per Number of Components')  \n",
    "plt.xlabel('Number of Components')  \n",
    "plt.ylabel('AIC Score')  \n",
    "plt.show()  "
   ]
  },
  {
   "cell_type": "markdown",
   "id": "023f1c85",
   "metadata": {},
   "source": [
    "This code calculates and plots BIC and AIC values for different numbers of components (clusters) in GMM.\n",
    "\n",
    "The optimal number of components can be chosen based on the point where BIC or AIC reaches a minimum value. Lower BIC or AIC values indicate a better model fit, representing the most suitable number of clusters for the GMM."
   ]
  },
  {
   "cell_type": "markdown",
   "id": "678cd936",
   "metadata": {},
   "source": [
    "# DBSCAN (Density-Based Spatial Clustering of Applications with Noise)"
   ]
  },
  {
   "cell_type": "code",
   "execution_count": 35,
   "id": "934b08c2",
   "metadata": {},
   "outputs": [],
   "source": [
    "from sklearn.cluster import DBSCAN  "
   ]
  },
  {
   "cell_type": "code",
   "execution_count": 36,
   "id": "a844ac6a",
   "metadata": {},
   "outputs": [
    {
     "name": "stdout",
     "output_type": "stream",
     "text": [
      "YEAR  Apr-17  May-17  Jun-17  Jul-17  Aug-17  Sep-17  Oct-17  Nov-17  Dec-17  \\\n",
      "2 W     96.0    91.0   137.0   116.0    99.0   109.0   160.0   214.0   189.0   \n",
      "3 W   4748.0  6720.0  7178.0  8775.0  8905.0  7414.0  7250.0  9598.0  8719.0   \n",
      "4 W    198.0   215.0   149.0   120.0   137.0   193.0   214.0   186.0   179.0   \n",
      "BUS      0.0     2.0     1.0     0.0     0.0     0.0     0.0    11.0     0.0   \n",
      "\n",
      "YEAR  Jan-18  ...   Sep-22   Oct-22   Nov-22   Dec-22   Jan-23   Feb-23  \\\n",
      "2 W    176.0  ...  53210.0  77137.0  76700.0  64598.0  64649.0  66033.0   \n",
      "3 W   8750.0  ...  37404.0  35889.0  40403.0  35542.0  34308.0  35995.0   \n",
      "4 W    210.0  ...   3589.0   3950.0   4027.0   3879.0   3490.0   4850.0   \n",
      "BUS     29.0  ...    204.0    243.0    118.0    151.0     98.0     99.0   \n",
      "\n",
      "YEAR   Mar-23   Apr-23    May-23  Cluster  \n",
      "2 W   86194.0  66755.0  105154.0       -1  \n",
      "3 W   45225.0  38016.0   44615.0       -1  \n",
      "4 W    8852.0   6193.0    7736.0       -1  \n",
      "BUS      89.0     84.0     283.0       -1  \n",
      "\n",
      "[4 rows x 75 columns]\n"
     ]
    }
   ],
   "source": [
    "dbscan = DBSCAN(eps=20, min_samples=20)\n",
    "dbscan_clusters = dbscan.fit_predict(df_transposed_scaled)  \n",
    "  \n",
    "df_transposed['Cluster'] = dbscan_clusters  \n",
    "  \n",
    "print(df_transposed)  "
   ]
  },
  {
   "cell_type": "code",
   "execution_count": 37,
   "id": "75beb077",
   "metadata": {},
   "outputs": [
    {
     "data": {
      "image/png": "[encoded data removed]",
      "text/plain": [
       "<Figure size 432x288 with 2 Axes>"
      ]
     },
     "metadata": {
      "needs_background": "light"
     },
     "output_type": "display_data"
    }
   ],
   "source": [
    "from sklearn.decomposition import PCA  \n",
    "pca = PCA(n_components=2)  \n",
    "pca_result = pca.fit_transform(df_transposed_scaled)  \n",
    "plt.scatter(pca_result[:,0], pca_result[:,1], c=dbscan_clusters, cmap='viridis', label='Cluster Label')  \n",
    "plt.colorbar()  \n",
    "plt.title('DBSCAN Clustering')  \n",
    "plt.xlabel('Principal Component 1')  \n",
    "plt.ylabel('Principal Component 2')  \n",
    "plt.show()  "
   ]
  },
  {
   "cell_type": "markdown",
   "id": "5a643952",
   "metadata": {},
   "source": [
    "eps is the maximum distance between two samples for them to be considered as in the same neighborhood  \n",
    "min_samples is the number of samples in a neighborhood for a point to be considered as a core point  \n",
    "\n",
    "In this code, we first scale the data using StandardScaler to ensure that all features contribute equally to the distance calculations. Then, we fit the DBSCAN algorithm to the scaled data. The parameters eps and min_samples have significant effects on the resulting clusters and may need to be fine-tuned based on the specific data.\n",
    "\n",
    "DBSCAN assigns a label of -1 to noise points that do not fit well into any cluster. After running the algorithm, the Cluster column is added to the DataFrame, indicating the cluster each type of EV belongs to, with -1 indicating outlier EV types."
   ]
  },
  {
   "cell_type": "code",
   "execution_count": 38,
   "id": "c7c01cbc",
   "metadata": {},
   "outputs": [
    {
     "data": {
      "image/png": "[encoded data removed]",
      "text/plain": [
       "<Figure size 432x288 with 1 Axes>"
      ]
     },
     "metadata": {
      "needs_background": "light"
     },
     "output_type": "display_data"
    }
   ],
   "source": [
    "from sklearn.neighbors import NearestNeighbors  \n",
    "  \n",
    "nearest_neighbors = NearestNeighbors(n_neighbors=2)  # We use 2 because the point itself is included  \n",
    "nearest_neighbors.fit(df_transposed_scaled)  \n",
    "distances, indices = nearest_neighbors.kneighbors(df_transposed_scaled)  \n",
    "  \n",
    "distances = np.sort(distances, axis=0)  \n",
    "distances = distances[:, 1]  # Grab the distances to the nearest actual neighbor  \n",
    "  \n",
    "plt.plot(distances)  \n",
    "plt.title(\"Sorted Distances to Nearest Neighbor in the Dataset\")  \n",
    "plt.xlabel(\"Points sorted by distance\")  \n",
    "plt.ylabel(\"Distance to nearest neighbor\")  \n",
    "plt.show()  "
   ]
  },
  {
   "cell_type": "markdown",
   "id": "1d0fa159",
   "metadata": {},
   "source": [
    "In the plot generated by the code above, we're looking for the point of maximum curvature (often referred to as the \"elbow\"), which should give you a good starting value for eps. The y-axis has the distances, and the \"elbow\" is where the distance starts to increase more rapidly.\n",
    "\n",
    "For min_samples, a common choice is to start with the number of dimensions in the dataset plus one. The min_samples parameter primarily controls how tolerant the algorithm is towards noise (with higher values leading to fewer clusters), so it can also be set based on your domain knowledge of what constitutes a dense region in your data.\n",
    "\n",
    "After finding a reasonable eps, you can further fine-tune both eps and min_samples using silhouette scores, Calinski-Harabasz Index, or Davies-Bouldin Index to compare the clustering results. Here's an example of how to adjust the parameters iteratively:"
   ]
  },
  {
   "cell_type": "code",
   "execution_count": 39,
   "id": "756bb8e4",
   "metadata": {},
   "outputs": [
    {
     "name": "stdout",
     "output_type": "stream",
     "text": [
      "DBSCAN eps=0.5, min_samples=2, clusters=1, silhouette=0.4837434150921928\n",
      "DBSCAN eps=0.6, min_samples=2, clusters=1, silhouette=0.4837434150921928\n",
      "DBSCAN eps=0.7000000000000001, min_samples=2, clusters=1, silhouette=0.4837434150921928\n",
      "DBSCAN eps=0.8, min_samples=2, clusters=1, silhouette=0.4837434150921928\n",
      "DBSCAN eps=0.9, min_samples=2, clusters=1, silhouette=0.4837434150921928\n",
      "DBSCAN eps=1.0, min_samples=2, clusters=1, silhouette=0.4837434150921928\n",
      "DBSCAN eps=1.1, min_samples=2, clusters=1, silhouette=0.4837434150921928\n",
      "DBSCAN eps=1.2000000000000002, min_samples=2, clusters=1, silhouette=0.4837434150921928\n",
      "DBSCAN eps=1.3000000000000003, min_samples=2, clusters=1, silhouette=0.4837434150921928\n",
      "DBSCAN eps=1.4000000000000001, min_samples=2, clusters=1, silhouette=0.4837434150921928\n",
      "DBSCAN eps=1.5000000000000002, min_samples=2, clusters=1, silhouette=0.4837434150921928\n",
      "DBSCAN eps=1.6, min_samples=2, clusters=1, silhouette=0.4837434150921928\n",
      "DBSCAN eps=1.7000000000000002, min_samples=2, clusters=1, silhouette=0.4837434150921928\n",
      "DBSCAN eps=1.8000000000000003, min_samples=2, clusters=1, silhouette=0.4837434150921928\n",
      "DBSCAN eps=1.9000000000000001, min_samples=2, clusters=1, silhouette=0.4837434150921928\n",
      "DBSCAN eps=2.0, min_samples=2, clusters=1, silhouette=0.4837434150921928\n",
      "DBSCAN eps=2.1, min_samples=2, clusters=1, silhouette=0.4837434150921928\n",
      "DBSCAN eps=2.2, min_samples=2, clusters=1, silhouette=0.4837434150921928\n",
      "DBSCAN eps=2.3000000000000003, min_samples=2, clusters=1, silhouette=0.4837434150921928\n",
      "DBSCAN eps=2.4000000000000004, min_samples=2, clusters=1, silhouette=0.4837434150921928\n",
      "DBSCAN eps=2.5000000000000004, min_samples=2, clusters=1, silhouette=0.4837434150921928\n",
      "DBSCAN eps=2.6, min_samples=2, clusters=1, silhouette=0.4837434150921928\n",
      "DBSCAN eps=2.7, min_samples=2, clusters=1, silhouette=0.4837434150921928\n",
      "DBSCAN eps=2.8000000000000003, min_samples=2, clusters=1, silhouette=0.4837434150921928\n",
      "DBSCAN eps=2.9000000000000004, min_samples=2, clusters=1, silhouette=0.4837434150921928\n"
     ]
    }
   ],
   "source": [
    "from sklearn.metrics import silhouette_score  \n",
    "  \n",
    "eps = 0.3  \n",
    "min_samples = df_transposed_scaled.shape[1] + 1  \n",
    "  \n",
    "for eps in np.arange(0.1, 3.0, 0.1):  \n",
    "    for min_samples in range(2, 10):  \n",
    "        dbscan = DBSCAN(eps=eps, min_samples=min_samples)  \n",
    "        labels = dbscan.fit_predict(df_transposed_scaled)  \n",
    "          \n",
    "        if len(set(labels)) > 1 and np.sum(labels != -1) > 0:  \n",
    "            silhouette = silhouette_score(df_transposed_scaled, labels)  \n",
    "            print(f\"DBSCAN eps={eps}, min_samples={min_samples}, clusters={len(set(labels))-1}, silhouette={silhouette}\")  "
   ]
  },
  {
   "cell_type": "code",
   "execution_count": 40,
   "id": "b948daab",
   "metadata": {},
   "outputs": [
    {
     "data": {
      "image/png": "[encoded data removed]",
      "text/plain": [
       "<Figure size 720x720 with 2 Axes>"
      ]
     },
     "metadata": {
      "needs_background": "light"
     },
     "output_type": "display_data"
    }
   ],
   "source": [
    "from minisom import MiniSom  \n",
    "from sklearn.preprocessing import StandardScaler   \n",
    "  \n",
    "  \n",
    "scaler = StandardScaler()  \n",
    "df_transposed_scaled = scaler.fit_transform(df_transposed)  \n",
    "  \n",
    "# Initialize the SOM  \n",
    "x = 5  # number of neurons (width of the grid)  \n",
    "y = 5  # number of neurons (height of the grid)  \n",
    "som = MiniSom(x, y, df_transposed_scaled.shape[1], sigma=0.5, learning_rate=0.5)  \n",
    "  \n",
    "# Train the SOM with the normalized data  \n",
    "som.train_random(df_transposed_scaled, 100)  # 100 iterations  \n",
    "  \n",
    "# Assign each sample to its closest neuron  \n",
    "winner_coordinates = np.array([som.winner(x) for x in df_transposed_scaled]).T  \n",
    "# Transform the two-dimensional grid coordinates to a one-dimensional array index  \n",
    "cluster_index = np.ravel_multi_index(winner_coordinates, (x,y))  \n",
    "  \n",
    "# Add the cluster assignments to the original DataFrame  \n",
    "df_transposed['Cluster'] = cluster_index  \n",
    "  \n",
    "# Visualizing the results is a bit more complex. You can use the distance map as a representation of the SOM  \n",
    "# Plotting the U-Matrix  \n",
    "plt.figure(figsize=(10, 10))  \n",
    "u_matrix = som.distance_map()  \n",
    "plt.pcolor(u_matrix, cmap='bone_r')  # plotting the distance map as background  \n",
    "plt.colorbar()  \n",
    "  \n",
    "# Use different markers for each cluster  \n",
    "markers = ['o', 's', 'D', 'v', '^', 'p', '*', '+', 'x', 'd']  \n",
    "for cnt, xx in enumerate(df_transposed_scaled):  \n",
    "    w = som.winner(xx)  # getting the winner  \n",
    "    # place a marker on the winning position for the sample xx  \n",
    "    plt.plot(w[0]+.5, w[1]+.5, markers[df_transposed['Cluster'][cnt] % len(markers)], markerfacecolor='None',  \n",
    "             markeredgecolor='r', markersize=12, markeredgewidth=2)  \n",
    "plt.axis([0, som.get_weights().shape[0], 0, som.get_weights().shape[1]])  \n",
    "plt.show()  \n"
   ]
  },
  {
   "cell_type": "markdown",
   "id": "3eca499e",
   "metadata": {},
   "source": [
    "The plot in the code represents a U-Matrix (Unified Distance Matrix) visualization of the Self-Organizing Map (SOM). In a U-Matrix:  \n",
    "   \n",
    "- Each cell in the grid represents a neuron (or node) in the SOM.  \n",
    "- The color of the cell indicates the distance between a neuron and its neighboring neurons. Darker colors represent larger distances, and lighter colors represent smaller distances.  \n",
    "- The distance between neurons is a proxy for dissimilarity; neurons that are closer together in the input space will have similar weights and be closer on the map, resulting in a lighter color on the U-Matrix.  \n",
    "- The markers on the plot (if plotted) represent the individual data points (types of EVs), positioned at the location of their Best Matching Unit (BMU), which is the neuron with the most similar weights to the data point.  \n",
    "   \n",
    "Conclusions from the U-Matrix plot:  \n",
    "- Clusters: Groups of neurons with similar weights (light-colored areas) can be interpreted as clusters of similar data points. In the context of your dataset, this would mean types of EVs with similar sales patterns over the months.  \n",
    "- Boundaries: Darker areas indicate potential boundaries between different clusters, suggesting dissimilarity between the types of EVs in these different areas of the input space.  \n",
    "- Outliers: Isolated neurons with high dissimilarity (darker cells surrounded by lighter areas) may indicate outliers or unique data points.  \n",
    "   \n",
    "By examining the U-Matrix, you can draw conclusions about the natural groupings in your dataset, which in your case represent the types of EVs with similar sales patterns. If markers were plotted, you could further identify which specific EV types belong to which clusters and how dense these clusters are.  \n",
    "   \n",
    "The key to using SOMs effectively for market segmentation is interpreting the U-Matrix in the context of your data and using the clusters to inform your business strategy. For instance, EV types that fall into a densely populated cluster (a large light-colored area) might represent a popular market segment, while outliers might represent niche markets that could be targeted or avoided, depending on your strategy."
   ]
  },
  {
   "cell_type": "markdown",
   "id": "26ad13db",
   "metadata": {},
   "source": [
    "best = 3 segments"
   ]
  },
  {
   "cell_type": "markdown",
   "id": "c876029d",
   "metadata": {},
   "source": [
    "# Profiling of Segments"
   ]
  },
  {
   "cell_type": "code",
   "execution_count": 41,
   "id": "25ecd5b9",
   "metadata": {},
   "outputs": [
    {
     "data": {
      "text/html": [
       "<div>\n",
       "<style scoped>\n",
       "    .dataframe tbody tr th:only-of-type {\n",
       "        vertical-align: middle;\n",
       "    }\n",
       "\n",
       "    .dataframe tbody tr th {\n",
       "        vertical-align: top;\n",
       "    }\n",
       "\n",
       "    .dataframe thead th {\n",
       "        text-align: right;\n",
       "    }\n",
       "</style>\n",
       "<table border=\"1\" class=\"dataframe\">\n",
       "  <thead>\n",
       "    <tr style=\"text-align: right;\">\n",
       "      <th>YEAR</th>\n",
       "      <th>Apr-17</th>\n",
       "      <th>May-17</th>\n",
       "      <th>Jun-17</th>\n",
       "      <th>Jul-17</th>\n",
       "      <th>Aug-17</th>\n",
       "      <th>Sep-17</th>\n",
       "      <th>Oct-17</th>\n",
       "      <th>Nov-17</th>\n",
       "      <th>Dec-17</th>\n",
       "      <th>Jan-18</th>\n",
       "      <th>...</th>\n",
       "      <th>Sep-22</th>\n",
       "      <th>Oct-22</th>\n",
       "      <th>Nov-22</th>\n",
       "      <th>Dec-22</th>\n",
       "      <th>Jan-23</th>\n",
       "      <th>Feb-23</th>\n",
       "      <th>Mar-23</th>\n",
       "      <th>Apr-23</th>\n",
       "      <th>May-23</th>\n",
       "      <th>Cluster</th>\n",
       "    </tr>\n",
       "  </thead>\n",
       "  <tbody>\n",
       "    <tr>\n",
       "      <th>2 W</th>\n",
       "      <td>96.0</td>\n",
       "      <td>91.0</td>\n",
       "      <td>137.0</td>\n",
       "      <td>116.0</td>\n",
       "      <td>99.0</td>\n",
       "      <td>109.0</td>\n",
       "      <td>160.0</td>\n",
       "      <td>214.0</td>\n",
       "      <td>189.0</td>\n",
       "      <td>176.0</td>\n",
       "      <td>...</td>\n",
       "      <td>53210.0</td>\n",
       "      <td>77137.0</td>\n",
       "      <td>76700.0</td>\n",
       "      <td>64598.0</td>\n",
       "      <td>64649.0</td>\n",
       "      <td>66033.0</td>\n",
       "      <td>86194.0</td>\n",
       "      <td>66755.0</td>\n",
       "      <td>105154.0</td>\n",
       "      <td>18</td>\n",
       "    </tr>\n",
       "    <tr>\n",
       "      <th>3 W</th>\n",
       "      <td>4748.0</td>\n",
       "      <td>6720.0</td>\n",
       "      <td>7178.0</td>\n",
       "      <td>8775.0</td>\n",
       "      <td>8905.0</td>\n",
       "      <td>7414.0</td>\n",
       "      <td>7250.0</td>\n",
       "      <td>9598.0</td>\n",
       "      <td>8719.0</td>\n",
       "      <td>8750.0</td>\n",
       "      <td>...</td>\n",
       "      <td>37404.0</td>\n",
       "      <td>35889.0</td>\n",
       "      <td>40403.0</td>\n",
       "      <td>35542.0</td>\n",
       "      <td>34308.0</td>\n",
       "      <td>35995.0</td>\n",
       "      <td>45225.0</td>\n",
       "      <td>38016.0</td>\n",
       "      <td>44615.0</td>\n",
       "      <td>9</td>\n",
       "    </tr>\n",
       "    <tr>\n",
       "      <th>4 W</th>\n",
       "      <td>198.0</td>\n",
       "      <td>215.0</td>\n",
       "      <td>149.0</td>\n",
       "      <td>120.0</td>\n",
       "      <td>137.0</td>\n",
       "      <td>193.0</td>\n",
       "      <td>214.0</td>\n",
       "      <td>186.0</td>\n",
       "      <td>179.0</td>\n",
       "      <td>210.0</td>\n",
       "      <td>...</td>\n",
       "      <td>3589.0</td>\n",
       "      <td>3950.0</td>\n",
       "      <td>4027.0</td>\n",
       "      <td>3879.0</td>\n",
       "      <td>3490.0</td>\n",
       "      <td>4850.0</td>\n",
       "      <td>8852.0</td>\n",
       "      <td>6193.0</td>\n",
       "      <td>7736.0</td>\n",
       "      <td>7</td>\n",
       "    </tr>\n",
       "    <tr>\n",
       "      <th>BUS</th>\n",
       "      <td>0.0</td>\n",
       "      <td>2.0</td>\n",
       "      <td>1.0</td>\n",
       "      <td>0.0</td>\n",
       "      <td>0.0</td>\n",
       "      <td>0.0</td>\n",
       "      <td>0.0</td>\n",
       "      <td>11.0</td>\n",
       "      <td>0.0</td>\n",
       "      <td>29.0</td>\n",
       "      <td>...</td>\n",
       "      <td>204.0</td>\n",
       "      <td>243.0</td>\n",
       "      <td>118.0</td>\n",
       "      <td>151.0</td>\n",
       "      <td>98.0</td>\n",
       "      <td>99.0</td>\n",
       "      <td>89.0</td>\n",
       "      <td>84.0</td>\n",
       "      <td>283.0</td>\n",
       "      <td>7</td>\n",
       "    </tr>\n",
       "  </tbody>\n",
       "</table>\n",
       "<p>4 rows × 75 columns</p>\n",
       "</div>"
      ],
      "text/plain": [
       "YEAR  Apr-17  May-17  Jun-17  Jul-17  Aug-17  Sep-17  Oct-17  Nov-17  Dec-17  \\\n",
       "2 W     96.0    91.0   137.0   116.0    99.0   109.0   160.0   214.0   189.0   \n",
       "3 W   4748.0  6720.0  7178.0  8775.0  8905.0  7414.0  7250.0  9598.0  8719.0   \n",
       "4 W    198.0   215.0   149.0   120.0   137.0   193.0   214.0   186.0   179.0   \n",
       "BUS      0.0     2.0     1.0     0.0     0.0     0.0     0.0    11.0     0.0   \n",
       "\n",
       "YEAR  Jan-18  ...   Sep-22   Oct-22   Nov-22   Dec-22   Jan-23   Feb-23  \\\n",
       "2 W    176.0  ...  53210.0  77137.0  76700.0  64598.0  64649.0  66033.0   \n",
       "3 W   8750.0  ...  37404.0  35889.0  40403.0  35542.0  34308.0  35995.0   \n",
       "4 W    210.0  ...   3589.0   3950.0   4027.0   3879.0   3490.0   4850.0   \n",
       "BUS     29.0  ...    204.0    243.0    118.0    151.0     98.0     99.0   \n",
       "\n",
       "YEAR   Mar-23   Apr-23    May-23  Cluster  \n",
       "2 W   86194.0  66755.0  105154.0       18  \n",
       "3 W   45225.0  38016.0   44615.0        9  \n",
       "4 W    8852.0   6193.0    7736.0        7  \n",
       "BUS      89.0     84.0     283.0        7  \n",
       "\n",
       "[4 rows x 75 columns]"
      ]
     },
     "execution_count": 41,
     "metadata": {},
     "output_type": "execute_result"
    }
   ],
   "source": [
    "df_transposed"
   ]
  },
  {
   "cell_type": "code",
   "execution_count": 42,
   "id": "91230ae1",
   "metadata": {},
   "outputs": [
    {
     "name": "stdout",
     "output_type": "stream",
     "text": [
      "Cluster 0 members:\n",
      "['4 W', 'BUS']\n",
      "Cluster 1 members:\n",
      "['3 W']\n",
      "Cluster 2 members:\n",
      "['2 W']\n"
     ]
    }
   ],
   "source": [
    "scaler = MinMaxScaler()  \n",
    "df_transposed_scaled = scaler.fit_transform(df_transposed)  \n",
    "k = 3    \n",
    "kmeans = KMeans(n_clusters=k, random_state=42)  \n",
    "clusters = kmeans.fit_predict(df_transposed_scaled)  \n",
    "df_transposed['Cluster'] = clusters  \n",
    "for i in range(k):  \n",
    "    cluster_members = df_transposed[df_transposed['Cluster'] == i]  \n",
    "    print(f\"Cluster {i} members:\")  \n",
    "    print(cluster_members.index.tolist())"
   ]
  },
  {
   "cell_type": "code",
   "execution_count": 43,
   "id": "f4a762b4",
   "metadata": {},
   "outputs": [
    {
     "data": {
      "text/plain": [
       "2 W    2\n",
       "3 W    1\n",
       "4 W    0\n",
       "BUS    0\n",
       "Name: Cluster, dtype: int32"
      ]
     },
     "execution_count": 43,
     "metadata": {},
     "output_type": "execute_result"
    }
   ],
   "source": [
    "df_transposed['Cluster']"
   ]
  },
  {
   "cell_type": "code",
   "execution_count": 44,
   "id": "2322ac97",
   "metadata": {},
   "outputs": [
    {
     "data": {
      "text/html": [
       "<div>\n",
       "<style scoped>\n",
       "    .dataframe tbody tr th:only-of-type {\n",
       "        vertical-align: middle;\n",
       "    }\n",
       "\n",
       "    .dataframe tbody tr th {\n",
       "        vertical-align: top;\n",
       "    }\n",
       "\n",
       "    .dataframe thead th {\n",
       "        text-align: right;\n",
       "    }\n",
       "</style>\n",
       "<table border=\"1\" class=\"dataframe\">\n",
       "  <thead>\n",
       "    <tr style=\"text-align: right;\">\n",
       "      <th>YEAR</th>\n",
       "      <th>2017</th>\n",
       "      <th>2017</th>\n",
       "      <th>2017</th>\n",
       "      <th>2017</th>\n",
       "      <th>2017</th>\n",
       "      <th>2017</th>\n",
       "      <th>2017</th>\n",
       "      <th>2017</th>\n",
       "      <th>2017</th>\n",
       "      <th>2018</th>\n",
       "      <th>...</th>\n",
       "      <th>2022</th>\n",
       "      <th>2022</th>\n",
       "      <th>2022</th>\n",
       "      <th>2022</th>\n",
       "      <th>2022</th>\n",
       "      <th>2023</th>\n",
       "      <th>2023</th>\n",
       "      <th>2023</th>\n",
       "      <th>2023</th>\n",
       "      <th>2023</th>\n",
       "    </tr>\n",
       "  </thead>\n",
       "  <tbody>\n",
       "    <tr>\n",
       "      <th>2 W</th>\n",
       "      <td>96.0</td>\n",
       "      <td>91.0</td>\n",
       "      <td>137.0</td>\n",
       "      <td>116.0</td>\n",
       "      <td>99.0</td>\n",
       "      <td>109.0</td>\n",
       "      <td>160.0</td>\n",
       "      <td>214.0</td>\n",
       "      <td>189.0</td>\n",
       "      <td>176.0</td>\n",
       "      <td>...</td>\n",
       "      <td>52196.0</td>\n",
       "      <td>53210.0</td>\n",
       "      <td>77137.0</td>\n",
       "      <td>76700.0</td>\n",
       "      <td>64598.0</td>\n",
       "      <td>64649.0</td>\n",
       "      <td>66033.0</td>\n",
       "      <td>86194.0</td>\n",
       "      <td>66755.0</td>\n",
       "      <td>105154.0</td>\n",
       "    </tr>\n",
       "    <tr>\n",
       "      <th>3 W</th>\n",
       "      <td>4748.0</td>\n",
       "      <td>6720.0</td>\n",
       "      <td>7178.0</td>\n",
       "      <td>8775.0</td>\n",
       "      <td>8905.0</td>\n",
       "      <td>7414.0</td>\n",
       "      <td>7250.0</td>\n",
       "      <td>9598.0</td>\n",
       "      <td>8719.0</td>\n",
       "      <td>8750.0</td>\n",
       "      <td>...</td>\n",
       "      <td>33055.0</td>\n",
       "      <td>37404.0</td>\n",
       "      <td>35889.0</td>\n",
       "      <td>40403.0</td>\n",
       "      <td>35542.0</td>\n",
       "      <td>34308.0</td>\n",
       "      <td>35995.0</td>\n",
       "      <td>45225.0</td>\n",
       "      <td>38016.0</td>\n",
       "      <td>44615.0</td>\n",
       "    </tr>\n",
       "    <tr>\n",
       "      <th>4 W</th>\n",
       "      <td>198.0</td>\n",
       "      <td>215.0</td>\n",
       "      <td>149.0</td>\n",
       "      <td>120.0</td>\n",
       "      <td>137.0</td>\n",
       "      <td>193.0</td>\n",
       "      <td>214.0</td>\n",
       "      <td>186.0</td>\n",
       "      <td>179.0</td>\n",
       "      <td>210.0</td>\n",
       "      <td>...</td>\n",
       "      <td>3417.0</td>\n",
       "      <td>3589.0</td>\n",
       "      <td>3950.0</td>\n",
       "      <td>4027.0</td>\n",
       "      <td>3879.0</td>\n",
       "      <td>3490.0</td>\n",
       "      <td>4850.0</td>\n",
       "      <td>8852.0</td>\n",
       "      <td>6193.0</td>\n",
       "      <td>7736.0</td>\n",
       "    </tr>\n",
       "    <tr>\n",
       "      <th>BUS</th>\n",
       "      <td>0.0</td>\n",
       "      <td>2.0</td>\n",
       "      <td>1.0</td>\n",
       "      <td>0.0</td>\n",
       "      <td>0.0</td>\n",
       "      <td>0.0</td>\n",
       "      <td>0.0</td>\n",
       "      <td>11.0</td>\n",
       "      <td>0.0</td>\n",
       "      <td>29.0</td>\n",
       "      <td>...</td>\n",
       "      <td>228.0</td>\n",
       "      <td>204.0</td>\n",
       "      <td>243.0</td>\n",
       "      <td>118.0</td>\n",
       "      <td>151.0</td>\n",
       "      <td>98.0</td>\n",
       "      <td>99.0</td>\n",
       "      <td>89.0</td>\n",
       "      <td>84.0</td>\n",
       "      <td>283.0</td>\n",
       "    </tr>\n",
       "  </tbody>\n",
       "</table>\n",
       "<p>4 rows × 74 columns</p>\n",
       "</div>"
      ],
      "text/plain": [
       "YEAR    2017    2017    2017    2017    2017    2017    2017    2017    2017  \\\n",
       "2 W     96.0    91.0   137.0   116.0    99.0   109.0   160.0   214.0   189.0   \n",
       "3 W   4748.0  6720.0  7178.0  8775.0  8905.0  7414.0  7250.0  9598.0  8719.0   \n",
       "4 W    198.0   215.0   149.0   120.0   137.0   193.0   214.0   186.0   179.0   \n",
       "BUS      0.0     2.0     1.0     0.0     0.0     0.0     0.0    11.0     0.0   \n",
       "\n",
       "YEAR    2018  ...     2022     2022     2022     2022     2022     2023  \\\n",
       "2 W    176.0  ...  52196.0  53210.0  77137.0  76700.0  64598.0  64649.0   \n",
       "3 W   8750.0  ...  33055.0  37404.0  35889.0  40403.0  35542.0  34308.0   \n",
       "4 W    210.0  ...   3417.0   3589.0   3950.0   4027.0   3879.0   3490.0   \n",
       "BUS     29.0  ...    228.0    204.0    243.0    118.0    151.0     98.0   \n",
       "\n",
       "YEAR     2023     2023     2023      2023  \n",
       "2 W   66033.0  86194.0  66755.0  105154.0  \n",
       "3 W   35995.0  45225.0  38016.0   44615.0  \n",
       "4 W    4850.0   8852.0   6193.0    7736.0  \n",
       "BUS      99.0     89.0     84.0     283.0  \n",
       "\n",
       "[4 rows x 74 columns]"
      ]
     },
     "execution_count": 44,
     "metadata": {},
     "output_type": "execute_result"
    }
   ],
   "source": [
    "def convert_to_year(column_name):\n",
    "    year_str = column_name.split('-')[-1]\n",
    "    return 2000 + int(year_str)\n",
    "\n",
    "new_column_names = {col: convert_to_year(col) for col in df_transposed.drop('Cluster', axis=1).columns}\n",
    "df2 = df_transposed.drop('Cluster', axis=1).rename(columns=new_column_names)\n",
    "\n",
    "df2"
   ]
  },
  {
   "cell_type": "code",
   "execution_count": 45,
   "id": "ab0a3475",
   "metadata": {},
   "outputs": [],
   "source": [
    "df2 = df2.transpose().groupby('YEAR').sum()"
   ]
  },
  {
   "cell_type": "code",
   "execution_count": 46,
   "id": "0d108c7d",
   "metadata": {},
   "outputs": [],
   "source": [
    "df2 = df2.transpose()"
   ]
  },
  {
   "cell_type": "code",
   "execution_count": 47,
   "id": "889ad360",
   "metadata": {},
   "outputs": [],
   "source": [
    "df2['Cluster'] = ['2','1','0','0']"
   ]
  },
  {
   "cell_type": "code",
   "execution_count": 48,
   "id": "346c8dc0",
   "metadata": {},
   "outputs": [
    {
     "data": {
      "text/html": [
       "<div>\n",
       "<style scoped>\n",
       "    .dataframe tbody tr th:only-of-type {\n",
       "        vertical-align: middle;\n",
       "    }\n",
       "\n",
       "    .dataframe tbody tr th {\n",
       "        vertical-align: top;\n",
       "    }\n",
       "\n",
       "    .dataframe thead th {\n",
       "        text-align: right;\n",
       "    }\n",
       "</style>\n",
       "<table border=\"1\" class=\"dataframe\">\n",
       "  <thead>\n",
       "    <tr style=\"text-align: right;\">\n",
       "      <th>YEAR</th>\n",
       "      <th>2017</th>\n",
       "      <th>2018</th>\n",
       "      <th>2019</th>\n",
       "      <th>2020</th>\n",
       "      <th>2021</th>\n",
       "      <th>2022</th>\n",
       "      <th>2023</th>\n",
       "      <th>Cluster</th>\n",
       "    </tr>\n",
       "  </thead>\n",
       "  <tbody>\n",
       "    <tr>\n",
       "      <th>2 W</th>\n",
       "      <td>1211.0</td>\n",
       "      <td>17062.0</td>\n",
       "      <td>30389.0</td>\n",
       "      <td>29112.0</td>\n",
       "      <td>156182.0</td>\n",
       "      <td>630725.0</td>\n",
       "      <td>388785.0</td>\n",
       "      <td>2</td>\n",
       "    </tr>\n",
       "    <tr>\n",
       "      <th>3 W</th>\n",
       "      <td>69307.0</td>\n",
       "      <td>110375.0</td>\n",
       "      <td>133489.0</td>\n",
       "      <td>90361.0</td>\n",
       "      <td>147180.0</td>\n",
       "      <td>350129.0</td>\n",
       "      <td>198159.0</td>\n",
       "      <td>1</td>\n",
       "    </tr>\n",
       "    <tr>\n",
       "      <th>4 W</th>\n",
       "      <td>1591.0</td>\n",
       "      <td>2500.0</td>\n",
       "      <td>1749.0</td>\n",
       "      <td>4323.0</td>\n",
       "      <td>14142.0</td>\n",
       "      <td>38744.0</td>\n",
       "      <td>31121.0</td>\n",
       "      <td>0</td>\n",
       "    </tr>\n",
       "    <tr>\n",
       "      <th>BUS</th>\n",
       "      <td>14.0</td>\n",
       "      <td>680.0</td>\n",
       "      <td>1093.0</td>\n",
       "      <td>88.0</td>\n",
       "      <td>1180.0</td>\n",
       "      <td>2383.0</td>\n",
       "      <td>653.0</td>\n",
       "      <td>0</td>\n",
       "    </tr>\n",
       "  </tbody>\n",
       "</table>\n",
       "</div>"
      ],
      "text/plain": [
       "YEAR     2017      2018      2019     2020      2021      2022      2023  \\\n",
       "2 W    1211.0   17062.0   30389.0  29112.0  156182.0  630725.0  388785.0   \n",
       "3 W   69307.0  110375.0  133489.0  90361.0  147180.0  350129.0  198159.0   \n",
       "4 W    1591.0    2500.0    1749.0   4323.0   14142.0   38744.0   31121.0   \n",
       "BUS      14.0     680.0    1093.0     88.0    1180.0    2383.0     653.0   \n",
       "\n",
       "YEAR Cluster  \n",
       "2 W        2  \n",
       "3 W        1  \n",
       "4 W        0  \n",
       "BUS        0  "
      ]
     },
     "execution_count": 48,
     "metadata": {},
     "output_type": "execute_result"
    }
   ],
   "source": [
    "df2"
   ]
  },
  {
   "cell_type": "markdown",
   "id": "9575fd63",
   "metadata": {},
   "source": [
    "Descriptive statistics: Mean, median, mode, standard deviation, and min max statistical measures for each feature within each cluster."
   ]
  },
  {
   "cell_type": "code",
   "execution_count": 49,
   "id": "c3c72a7d",
   "metadata": {},
   "outputs": [
    {
     "data": {
      "text/html": [
       "<div>\n",
       "<style scoped>\n",
       "    .dataframe tbody tr th:only-of-type {\n",
       "        vertical-align: middle;\n",
       "    }\n",
       "\n",
       "    .dataframe tbody tr th {\n",
       "        vertical-align: top;\n",
       "    }\n",
       "\n",
       "    .dataframe thead tr th {\n",
       "        text-align: left;\n",
       "    }\n",
       "\n",
       "    .dataframe thead tr:last-of-type th {\n",
       "        text-align: right;\n",
       "    }\n",
       "</style>\n",
       "<table border=\"1\" class=\"dataframe\">\n",
       "  <thead>\n",
       "    <tr>\n",
       "      <th>YEAR</th>\n",
       "      <th colspan=\"5\" halign=\"left\">2017</th>\n",
       "      <th colspan=\"5\" halign=\"left\">2018</th>\n",
       "      <th>...</th>\n",
       "      <th colspan=\"5\" halign=\"left\">2022</th>\n",
       "      <th colspan=\"5\" halign=\"left\">2023</th>\n",
       "    </tr>\n",
       "    <tr>\n",
       "      <th></th>\n",
       "      <th>mean</th>\n",
       "      <th>median</th>\n",
       "      <th>std</th>\n",
       "      <th>min</th>\n",
       "      <th>max</th>\n",
       "      <th>mean</th>\n",
       "      <th>median</th>\n",
       "      <th>std</th>\n",
       "      <th>min</th>\n",
       "      <th>max</th>\n",
       "      <th>...</th>\n",
       "      <th>mean</th>\n",
       "      <th>median</th>\n",
       "      <th>std</th>\n",
       "      <th>min</th>\n",
       "      <th>max</th>\n",
       "      <th>mean</th>\n",
       "      <th>median</th>\n",
       "      <th>std</th>\n",
       "      <th>min</th>\n",
       "      <th>max</th>\n",
       "    </tr>\n",
       "    <tr>\n",
       "      <th>Cluster</th>\n",
       "      <th></th>\n",
       "      <th></th>\n",
       "      <th></th>\n",
       "      <th></th>\n",
       "      <th></th>\n",
       "      <th></th>\n",
       "      <th></th>\n",
       "      <th></th>\n",
       "      <th></th>\n",
       "      <th></th>\n",
       "      <th></th>\n",
       "      <th></th>\n",
       "      <th></th>\n",
       "      <th></th>\n",
       "      <th></th>\n",
       "      <th></th>\n",
       "      <th></th>\n",
       "      <th></th>\n",
       "      <th></th>\n",
       "      <th></th>\n",
       "      <th></th>\n",
       "    </tr>\n",
       "  </thead>\n",
       "  <tbody>\n",
       "    <tr>\n",
       "      <th>0</th>\n",
       "      <td>802.5</td>\n",
       "      <td>802.5</td>\n",
       "      <td>1115.107394</td>\n",
       "      <td>14.0</td>\n",
       "      <td>1591.0</td>\n",
       "      <td>1590.0</td>\n",
       "      <td>1590.0</td>\n",
       "      <td>1286.934342</td>\n",
       "      <td>680.0</td>\n",
       "      <td>2500.0</td>\n",
       "      <td>...</td>\n",
       "      <td>20563.5</td>\n",
       "      <td>20563.5</td>\n",
       "      <td>25711.109671</td>\n",
       "      <td>2383.0</td>\n",
       "      <td>38744.0</td>\n",
       "      <td>15887.0</td>\n",
       "      <td>15887.0</td>\n",
       "      <td>21544.129409</td>\n",
       "      <td>653.0</td>\n",
       "      <td>31121.0</td>\n",
       "    </tr>\n",
       "    <tr>\n",
       "      <th>1</th>\n",
       "      <td>69307.0</td>\n",
       "      <td>69307.0</td>\n",
       "      <td>NaN</td>\n",
       "      <td>69307.0</td>\n",
       "      <td>69307.0</td>\n",
       "      <td>110375.0</td>\n",
       "      <td>110375.0</td>\n",
       "      <td>NaN</td>\n",
       "      <td>110375.0</td>\n",
       "      <td>110375.0</td>\n",
       "      <td>...</td>\n",
       "      <td>350129.0</td>\n",
       "      <td>350129.0</td>\n",
       "      <td>NaN</td>\n",
       "      <td>350129.0</td>\n",
       "      <td>350129.0</td>\n",
       "      <td>198159.0</td>\n",
       "      <td>198159.0</td>\n",
       "      <td>NaN</td>\n",
       "      <td>198159.0</td>\n",
       "      <td>198159.0</td>\n",
       "    </tr>\n",
       "    <tr>\n",
       "      <th>2</th>\n",
       "      <td>1211.0</td>\n",
       "      <td>1211.0</td>\n",
       "      <td>NaN</td>\n",
       "      <td>1211.0</td>\n",
       "      <td>1211.0</td>\n",
       "      <td>17062.0</td>\n",
       "      <td>17062.0</td>\n",
       "      <td>NaN</td>\n",
       "      <td>17062.0</td>\n",
       "      <td>17062.0</td>\n",
       "      <td>...</td>\n",
       "      <td>630725.0</td>\n",
       "      <td>630725.0</td>\n",
       "      <td>NaN</td>\n",
       "      <td>630725.0</td>\n",
       "      <td>630725.0</td>\n",
       "      <td>388785.0</td>\n",
       "      <td>388785.0</td>\n",
       "      <td>NaN</td>\n",
       "      <td>388785.0</td>\n",
       "      <td>388785.0</td>\n",
       "    </tr>\n",
       "  </tbody>\n",
       "</table>\n",
       "<p>3 rows × 35 columns</p>\n",
       "</div>"
      ],
      "text/plain": [
       "YEAR        2017                                              2018            \\\n",
       "            mean   median          std      min      max      mean    median   \n",
       "Cluster                                                                        \n",
       "0          802.5    802.5  1115.107394     14.0   1591.0    1590.0    1590.0   \n",
       "1        69307.0  69307.0          NaN  69307.0  69307.0  110375.0  110375.0   \n",
       "2         1211.0   1211.0          NaN   1211.0   1211.0   17062.0   17062.0   \n",
       "\n",
       "YEAR                                      ...      2022            \\\n",
       "                 std       min       max  ...      mean    median   \n",
       "Cluster                                   ...                       \n",
       "0        1286.934342     680.0    2500.0  ...   20563.5   20563.5   \n",
       "1                NaN  110375.0  110375.0  ...  350129.0  350129.0   \n",
       "2                NaN   17062.0   17062.0  ...  630725.0  630725.0   \n",
       "\n",
       "YEAR                                           2023                          \\\n",
       "                  std       min       max      mean    median           std   \n",
       "Cluster                                                                       \n",
       "0        25711.109671    2383.0   38744.0   15887.0   15887.0  21544.129409   \n",
       "1                 NaN  350129.0  350129.0  198159.0  198159.0           NaN   \n",
       "2                 NaN  630725.0  630725.0  388785.0  388785.0           NaN   \n",
       "\n",
       "YEAR                         \n",
       "              min       max  \n",
       "Cluster                      \n",
       "0           653.0   31121.0  \n",
       "1        198159.0  198159.0  \n",
       "2        388785.0  388785.0  \n",
       "\n",
       "[3 rows x 35 columns]"
      ]
     },
     "execution_count": 49,
     "metadata": {},
     "output_type": "execute_result"
    }
   ],
   "source": [
    "cluster_stats = df2.groupby('Cluster').agg(['mean', 'median', 'std', 'min', 'max'])\n",
    "cluster_stats"
   ]
  },
  {
   "cell_type": "code",
   "execution_count": 50,
   "id": "98352a74",
   "metadata": {},
   "outputs": [
    {
     "data": {
      "text/plain": [
       "Index([2017, 2018, 2019, 2020, 2021, 2022, 2023], dtype='object', name='YEAR')"
      ]
     },
     "execution_count": 50,
     "metadata": {},
     "output_type": "execute_result"
    }
   ],
   "source": [
    "df2.columns[:-1]"
   ]
  },
  {
   "cell_type": "markdown",
   "id": "dbb84408",
   "metadata": {},
   "source": [
    "Visualization: Visualized feature distributions for each cluster using box plot."
   ]
  },
  {
   "cell_type": "code",
   "execution_count": 51,
   "id": "3cc88a61",
   "metadata": {},
   "outputs": [
    {
     "data": {
      "image/png": "[encoded data removed]",
      "text/plain": [
       "<Figure size 936x1080 with 7 Axes>"
      ]
     },
     "metadata": {
      "needs_background": "light"
     },
     "output_type": "display_data"
    }
   ],
   "source": [
    "selected_features = df2.columns[:-1]\n",
    "\n",
    "fig, axes = plt.subplots(len(selected_features), 1, figsize=(13, 30), sharex=True)\n",
    "\n",
    "for idx, feature in enumerate(selected_features):\n",
    "    sns.boxplot(x='Cluster', y=feature, data=df2, ax=axes[idx])\n",
    "    axes[idx].set_title(f'{feature} Distribution Across Clusters')\n",
    "    axes[idx].set_xlabel('Cluster')\n",
    "    axes[idx].set_ylabel(feature)\n",
    "\n",
    "plt.tight_layout()\n",
    "plt.show()"
   ]
  },
  {
   "cell_type": "markdown",
   "id": "f49b0017",
   "metadata": {},
   "source": [
    "Visualization: Visualized feature centroids for each cluster using scatter plot."
   ]
  },
  {
   "cell_type": "code",
   "execution_count": 52,
   "id": "c3cb11e4",
   "metadata": {},
   "outputs": [
    {
     "data": {
      "image/png": "[encoded data removed]",
      "text/plain": [
       "<Figure size 432x288 with 1 Axes>"
      ]
     },
     "metadata": {
      "needs_background": "light"
     },
     "output_type": "display_data"
    }
   ],
   "source": [
    "centroids_pca = kmeans.cluster_centers_\n",
    "\n",
    "plt.scatter(pca_df['Principal Component 1'], pca_df['Principal Component 2'], c=kmeans.labels_, cmap='viridis', label='Data Points')\n",
    "\n",
    "plt.scatter(centroids_pca[:, 0], centroids_pca[:, 1], marker='o', s=200, c='red', edgecolor='black', label='Centroids')\n",
    "\n",
    "plt.title('PCA with Centroids for K-Means Clustering')\n",
    "plt.xlabel('Principal Component 1')\n",
    "plt.ylabel('Principal Component 2')\n",
    "plt.legend()\n",
    "plt.show()"
   ]
  },
  {
   "cell_type": "code",
   "execution_count": 53,
   "id": "1b94fa94",
   "metadata": {},
   "outputs": [
    {
     "data": {
      "image/png": "[encoded data removed]",
      "text/plain": [
       "<Figure size 432x288 with 1 Axes>"
      ]
     },
     "metadata": {
      "needs_background": "light"
     },
     "output_type": "display_data"
    }
   ],
   "source": [
    "centroids_gmm = gmm.means_\n",
    "\n",
    "plt.scatter(pca_df['Principal Component 1'], pca_df['Principal Component 2'], c=kmeans.labels_, cmap='viridis', label='Data Points')\n",
    "\n",
    "plt.scatter(centroids_gmm[:, 0], centroids_gmm[:, 1], marker='o', s=200, c='red', edgecolor='black', label='Centroids')\n",
    "\n",
    "plt.title('PCA with Centroids for K-Means Clustering')\n",
    "plt.xlabel('Principal Component 1')\n",
    "plt.ylabel('Principal Component 2')\n",
    "plt.legend()\n",
    "plt.show()\n"
   ]
  },
  {
   "cell_type": "markdown",
   "id": "644ab9a1",
   "metadata": {},
   "source": [
    "Feature Importance and Contribution: Identify which features contribute most to cluster separation or explain the differences between clusters."
   ]
  },
  {
   "cell_type": "markdown",
   "id": "529b0100",
   "metadata": {},
   "source": [
    "To determine feature importance or contribution to clusters after performing clustering and obtaining cluster labels, we can analyze how features contribute to cluster separation. One common method is to examine the average values of features within each cluster compared to the overall dataset average."
   ]
  },
  {
   "cell_type": "code",
   "execution_count": 54,
   "id": "b260bc17",
   "metadata": {},
   "outputs": [],
   "source": [
    "cluster_means = df_transposed.groupby('Cluster').mean()\n",
    "overall_mean = df_transposed.drop('Cluster', axis=1).mean()\n",
    "feature_contributions = cluster_means.sub(overall_mean, axis=1)\n",
    "feature_contributions_abs = feature_contributions.abs()\n",
    "sorted_features = feature_contributions_abs.apply(lambda x: x.sort_values(ascending=False).index)"
   ]
  },
  {
   "cell_type": "code",
   "execution_count": 55,
   "id": "7c97c978",
   "metadata": {
    "scrolled": true
   },
   "outputs": [
    {
     "data": {
      "image/png": "[encoded data removed]",
      "text/plain": [
       "<Figure size 720x432 with 2 Axes>"
      ]
     },
     "metadata": {
      "needs_background": "light"
     },
     "output_type": "display_data"
    }
   ],
   "source": [
    "plt.figure(figsize=(10, 6))\n",
    "sns.heatmap(feature_contributions.T, cmap='coolwarm', fmt=\".2f\", cbar=True)\n",
    "plt.title('Feature Contributions to Clusters')\n",
    "plt.xlabel('Cluster')\n",
    "plt.ylabel('Feature')\n",
    "plt.show()"
   ]
  },
  {
   "cell_type": "markdown",
   "id": "e725e9dd",
   "metadata": {},
   "source": [
    "# Selecting Target Segment"
   ]
  },
  {
   "cell_type": "code",
   "execution_count": 56,
   "id": "53fb74ef",
   "metadata": {},
   "outputs": [
    {
     "data": {
      "text/html": [
       "<div>\n",
       "<style scoped>\n",
       "    .dataframe tbody tr th:only-of-type {\n",
       "        vertical-align: middle;\n",
       "    }\n",
       "\n",
       "    .dataframe tbody tr th {\n",
       "        vertical-align: top;\n",
       "    }\n",
       "\n",
       "    .dataframe thead th {\n",
       "        text-align: right;\n",
       "    }\n",
       "</style>\n",
       "<table border=\"1\" class=\"dataframe\">\n",
       "  <thead>\n",
       "    <tr style=\"text-align: right;\">\n",
       "      <th>YEAR</th>\n",
       "      <th>2017</th>\n",
       "      <th>2018</th>\n",
       "      <th>2019</th>\n",
       "      <th>2020</th>\n",
       "      <th>2021</th>\n",
       "      <th>2022</th>\n",
       "      <th>2023</th>\n",
       "      <th>Cluster</th>\n",
       "    </tr>\n",
       "  </thead>\n",
       "  <tbody>\n",
       "    <tr>\n",
       "      <th>2 W</th>\n",
       "      <td>1211.0</td>\n",
       "      <td>17062.0</td>\n",
       "      <td>30389.0</td>\n",
       "      <td>29112.0</td>\n",
       "      <td>156182.0</td>\n",
       "      <td>630725.0</td>\n",
       "      <td>388785.0</td>\n",
       "      <td>2</td>\n",
       "    </tr>\n",
       "    <tr>\n",
       "      <th>3 W</th>\n",
       "      <td>69307.0</td>\n",
       "      <td>110375.0</td>\n",
       "      <td>133489.0</td>\n",
       "      <td>90361.0</td>\n",
       "      <td>147180.0</td>\n",
       "      <td>350129.0</td>\n",
       "      <td>198159.0</td>\n",
       "      <td>1</td>\n",
       "    </tr>\n",
       "    <tr>\n",
       "      <th>4 W</th>\n",
       "      <td>1591.0</td>\n",
       "      <td>2500.0</td>\n",
       "      <td>1749.0</td>\n",
       "      <td>4323.0</td>\n",
       "      <td>14142.0</td>\n",
       "      <td>38744.0</td>\n",
       "      <td>31121.0</td>\n",
       "      <td>0</td>\n",
       "    </tr>\n",
       "    <tr>\n",
       "      <th>BUS</th>\n",
       "      <td>14.0</td>\n",
       "      <td>680.0</td>\n",
       "      <td>1093.0</td>\n",
       "      <td>88.0</td>\n",
       "      <td>1180.0</td>\n",
       "      <td>2383.0</td>\n",
       "      <td>653.0</td>\n",
       "      <td>0</td>\n",
       "    </tr>\n",
       "  </tbody>\n",
       "</table>\n",
       "</div>"
      ],
      "text/plain": [
       "YEAR     2017      2018      2019     2020      2021      2022      2023  \\\n",
       "2 W    1211.0   17062.0   30389.0  29112.0  156182.0  630725.0  388785.0   \n",
       "3 W   69307.0  110375.0  133489.0  90361.0  147180.0  350129.0  198159.0   \n",
       "4 W    1591.0    2500.0    1749.0   4323.0   14142.0   38744.0   31121.0   \n",
       "BUS      14.0     680.0    1093.0     88.0    1180.0    2383.0     653.0   \n",
       "\n",
       "YEAR Cluster  \n",
       "2 W        2  \n",
       "3 W        1  \n",
       "4 W        0  \n",
       "BUS        0  "
      ]
     },
     "execution_count": 56,
     "metadata": {},
     "output_type": "execute_result"
    }
   ],
   "source": [
    "df2"
   ]
  },
  {
   "cell_type": "markdown",
   "id": "a62e7a45",
   "metadata": {},
   "source": [
    "1. Business Objectives:   \n",
    "For the given EV startup, the objective is to cater to India's growing demand for sustainable transportation. Thus, our EV startup aims to introduce innovative electric vehicles that align with the government's clean energy initiatives and offer cost-effective mobility solutions.\n",
    "2. Segment Evaluation:  \n",
    "After analyzing India's EV market landscape, key segments identified include urban commuters, last-mile delivery services, and public transportation categorized into 2, 3, and 4 wheelers along with buses. Each segment showcases distinct growth potential and varying infrastructure readiness.\n",
    "3. Alignment with Business Goals:  \n",
    "Targeting the urban commuter segment aligns with our objective of providing affordable and eco-friendly transportation solutions to city dwellers, leveraging existing urban charging infrastructure. This mainly includes 2, 3, and 4 wheeler options.\n",
    "4. Quantitative Assessment:  \n",
    "Analysis indicates a significant surge in the adoption of electric two-wheelers among urban commuters, representing a substantial market share and promising growth trajectory within the Indian EV market.\n",
    "5. Selection Criteria:  \n",
    "Selecting the urban commuter, and more particularly the **2 wheeler** segment as our target aligns with emission reduction goals, considering the segment's contribution to reducing carbon emissions in densely populated urban areas. A highly exponential growth in the population of consumers going for the 2 wheeler options make this a conformed choice. "
   ]
  },
  {
   "cell_type": "markdown",
   "id": "657f97fe",
   "metadata": {},
   "source": [
    "As the analysis showed, the next probable step for the starup would be to step into the **3 wheeler** segment as it showed the next best possiblity of a high growing market."
   ]
  },
  {
   "cell_type": "markdown",
   "id": "57c8c37d",
   "metadata": {},
   "source": [
    "# Customizing the Market Mix"
   ]
  },
  {
   "cell_type": "markdown",
   "id": "dd5085fb",
   "metadata": {},
   "source": [
    "1. Product Customization:  \n",
    "Tailoring electric vehicle offerings for the urban commuter segment involves focusing on compact electric two-wheelers equipped with extended battery life, smart connectivity features, and lightweight design for city maneuverability.\n",
    "2. Pricing Strategy Adaptation:  \n",
    "Implementing a competitive pricing strategy for our electric two-wheelers aims to make them affordable for the urban commuter segment, offering cost-effective mobility solutions compared to traditional fuel-powered vehicles.\n",
    "3. Place or Distribution Channel Tailoring:  \n",
    "Leveraging existing urban distribution networks and establishing partnerships with local dealerships or ride-sharing platforms ensures convenient access to our electric vehicles for urban consumers.\n",
    "4. Promotional Efforts Alignment:  \n",
    "Crafting targeted social media campaigns and collaborating with urban lifestyle influencers will effectively communicate the benefits of our electric two-wheelers to the urban commuter segment."
   ]
  }
 ],
 "metadata": {
  "kernelspec": {
   "display_name": "Python 3 (ipykernel)",
   "language": "python",
   "name": "python3"
  },
  "language_info": {
   "codemirror_mode": {
    "name": "ipython",
    "version": 3
   },
   "file_extension": ".py",
   "mimetype": "text/x-python",
   "name": "python",
   "nbconvert_exporter": "python",
   "pygments_lexer": "ipython3",
   "version": "3.9.12"
  }
 },
 "nbformat": 4,
 "nbformat_minor": 5
}
